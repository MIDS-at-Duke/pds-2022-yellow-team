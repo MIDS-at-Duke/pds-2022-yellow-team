{
 "cells": [
  {
   "cell_type": "code",
   "execution_count": 50,
   "metadata": {},
   "outputs": [],
   "source": [
    "import numpy as np\n",
    "import pandas as pd\n",
    "import os"
   ]
  },
  {
   "cell_type": "code",
   "execution_count": 51,
   "metadata": {},
   "outputs": [
    {
     "name": "stdout",
     "output_type": "stream",
     "text": [
      "/workspaces/pds-2022-yellow-team/00_source_data/US_VitalStatistics/Underlying Cause of Death, 2007.txt\n",
      "/workspaces/pds-2022-yellow-team/00_source_data/US_VitalStatistics/Underlying Cause of Death, 2010.txt\n",
      "/workspaces/pds-2022-yellow-team/00_source_data/US_VitalStatistics/Underlying Cause of Death, 2013.txt\n",
      "/workspaces/pds-2022-yellow-team/00_source_data/US_VitalStatistics/Underlying Cause of Death, 2004.txt\n",
      "/workspaces/pds-2022-yellow-team/00_source_data/US_VitalStatistics/Underlying Cause of Death, 2008.txt\n",
      "/workspaces/pds-2022-yellow-team/00_source_data/US_VitalStatistics/Underlying Cause of Death, 2015.txt\n",
      "/workspaces/pds-2022-yellow-team/00_source_data/US_VitalStatistics/Underlying Cause of Death, 2005.txt\n",
      "/workspaces/pds-2022-yellow-team/00_source_data/US_VitalStatistics/Underlying Cause of Death, 2009.txt\n",
      "/workspaces/pds-2022-yellow-team/00_source_data/US_VitalStatistics/Underlying Cause of Death, 2006.txt\n",
      "/workspaces/pds-2022-yellow-team/00_source_data/US_VitalStatistics/Underlying Cause of Death, 2011.txt\n",
      "/workspaces/pds-2022-yellow-team/00_source_data/US_VitalStatistics/Underlying Cause of Death, 2012.txt\n",
      "/workspaces/pds-2022-yellow-team/00_source_data/US_VitalStatistics/Underlying Cause of Death, 2014.txt\n",
      "/workspaces/pds-2022-yellow-team/00_source_data/US_VitalStatistics/Underlying Cause of Death, 2003.txt\n"
     ]
    },
    {
     "data": {
      "text/html": [
       "<div>\n",
       "<style scoped>\n",
       "    .dataframe tbody tr th:only-of-type {\n",
       "        vertical-align: middle;\n",
       "    }\n",
       "\n",
       "    .dataframe tbody tr th {\n",
       "        vertical-align: top;\n",
       "    }\n",
       "\n",
       "    .dataframe thead th {\n",
       "        text-align: right;\n",
       "    }\n",
       "</style>\n",
       "<table border=\"1\" class=\"dataframe\">\n",
       "  <thead>\n",
       "    <tr style=\"text-align: right;\">\n",
       "      <th></th>\n",
       "      <th>Notes</th>\n",
       "      <th>County</th>\n",
       "      <th>County Code</th>\n",
       "      <th>Year</th>\n",
       "      <th>Year Code</th>\n",
       "      <th>Drug/Alcohol Induced Cause</th>\n",
       "      <th>Drug/Alcohol Induced Cause Code</th>\n",
       "      <th>Deaths</th>\n",
       "    </tr>\n",
       "  </thead>\n",
       "  <tbody>\n",
       "    <tr>\n",
       "      <th>0</th>\n",
       "      <td>NaN</td>\n",
       "      <td>Autauga County, AL</td>\n",
       "      <td>1001.0</td>\n",
       "      <td>2007.0</td>\n",
       "      <td>2007.0</td>\n",
       "      <td>All other non-drug and non-alcohol causes</td>\n",
       "      <td>O9</td>\n",
       "      <td>399.0</td>\n",
       "    </tr>\n",
       "    <tr>\n",
       "      <th>1</th>\n",
       "      <td>NaN</td>\n",
       "      <td>Baldwin County, AL</td>\n",
       "      <td>1003.0</td>\n",
       "      <td>2007.0</td>\n",
       "      <td>2007.0</td>\n",
       "      <td>Drug poisonings (overdose) Unintentional (X40-...</td>\n",
       "      <td>D1</td>\n",
       "      <td>24.0</td>\n",
       "    </tr>\n",
       "    <tr>\n",
       "      <th>2</th>\n",
       "      <td>NaN</td>\n",
       "      <td>Baldwin County, AL</td>\n",
       "      <td>1003.0</td>\n",
       "      <td>2007.0</td>\n",
       "      <td>2007.0</td>\n",
       "      <td>All other alcohol-induced causes</td>\n",
       "      <td>A9</td>\n",
       "      <td>20.0</td>\n",
       "    </tr>\n",
       "    <tr>\n",
       "      <th>3</th>\n",
       "      <td>NaN</td>\n",
       "      <td>Baldwin County, AL</td>\n",
       "      <td>1003.0</td>\n",
       "      <td>2007.0</td>\n",
       "      <td>2007.0</td>\n",
       "      <td>All other non-drug and non-alcohol causes</td>\n",
       "      <td>O9</td>\n",
       "      <td>1633.0</td>\n",
       "    </tr>\n",
       "    <tr>\n",
       "      <th>4</th>\n",
       "      <td>NaN</td>\n",
       "      <td>Barbour County, AL</td>\n",
       "      <td>1005.0</td>\n",
       "      <td>2007.0</td>\n",
       "      <td>2007.0</td>\n",
       "      <td>All other non-drug and non-alcohol causes</td>\n",
       "      <td>O9</td>\n",
       "      <td>248.0</td>\n",
       "    </tr>\n",
       "  </tbody>\n",
       "</table>\n",
       "</div>"
      ],
      "text/plain": [
       "  Notes              County  County Code    Year  Year Code  \\\n",
       "0   NaN  Autauga County, AL       1001.0  2007.0     2007.0   \n",
       "1   NaN  Baldwin County, AL       1003.0  2007.0     2007.0   \n",
       "2   NaN  Baldwin County, AL       1003.0  2007.0     2007.0   \n",
       "3   NaN  Baldwin County, AL       1003.0  2007.0     2007.0   \n",
       "4   NaN  Barbour County, AL       1005.0  2007.0     2007.0   \n",
       "\n",
       "                          Drug/Alcohol Induced Cause  \\\n",
       "0          All other non-drug and non-alcohol causes   \n",
       "1  Drug poisonings (overdose) Unintentional (X40-...   \n",
       "2                   All other alcohol-induced causes   \n",
       "3          All other non-drug and non-alcohol causes   \n",
       "4          All other non-drug and non-alcohol causes   \n",
       "\n",
       "  Drug/Alcohol Induced Cause Code  Deaths  \n",
       "0                              O9   399.0  \n",
       "1                              D1    24.0  \n",
       "2                              A9    20.0  \n",
       "3                              O9  1633.0  \n",
       "4                              O9   248.0  "
      ]
     },
     "execution_count": 51,
     "metadata": {},
     "output_type": "execute_result"
    }
   ],
   "source": [
    "csvdir = \"/workspaces/pds-2022-yellow-team/00_source_data/US_VitalStatistics\"\n",
    "\n",
    "dataframes = []\n",
    "for csv in os.listdir(csvdir):\n",
    "    fullpath = os.path.join(csvdir, csv)\n",
    "    print(fullpath)\n",
    "    if os.path.isfile(fullpath):\n",
    "        # Read a csv into a dataframe and append to a list of dataframes\n",
    "        dataframe = pd.read_table(fullpath)\n",
    "        dataframes.append(dataframe)\n",
    "\n",
    "# Concatenate all created dataframes into one\n",
    "df = pd.concat(dataframes)\n",
    "df.head()"
   ]
  },
  {
   "cell_type": "code",
   "execution_count": 52,
   "metadata": {},
   "outputs": [],
   "source": [
    "# read all original txt files\n",
    "txt1 = pd.read_table('/workspaces/pds-2022-yellow-team/00_source_data/US_VitalStatistics/Underlying Cause of Death, 2003.txt')\n",
    "txt2 = pd.read_table('/workspaces/pds-2022-yellow-team/00_source_data/US_VitalStatistics/Underlying Cause of Death, 2004.txt')\n",
    "txt3 = pd.read_table('/workspaces/pds-2022-yellow-team/00_source_data/US_VitalStatistics/Underlying Cause of Death, 2005.txt')\n",
    "txt4 = pd.read_table('/workspaces/pds-2022-yellow-team/00_source_data/US_VitalStatistics/Underlying Cause of Death, 2006.txt')\n",
    "txt5 = pd.read_table('/workspaces/pds-2022-yellow-team/00_source_data/US_VitalStatistics/Underlying Cause of Death, 2007.txt')\n",
    "txt6 = pd.read_table('/workspaces/pds-2022-yellow-team/00_source_data/US_VitalStatistics/Underlying Cause of Death, 2008.txt')\n",
    "txt7 = pd.read_table('/workspaces/pds-2022-yellow-team/00_source_data/US_VitalStatistics/Underlying Cause of Death, 2009.txt')\n",
    "txt8 = pd.read_table('/workspaces/pds-2022-yellow-team/00_source_data/US_VitalStatistics/Underlying Cause of Death, 2010.txt')\n",
    "txt9 = pd.read_table('/workspaces/pds-2022-yellow-team/00_source_data/US_VitalStatistics/Underlying Cause of Death, 2011.txt')\n",
    "txt10 = pd.read_table('/workspaces/pds-2022-yellow-team/00_source_data/US_VitalStatistics/Underlying Cause of Death, 2012.txt')\n",
    "txt11 = pd.read_table('/workspaces/pds-2022-yellow-team/00_source_data/US_VitalStatistics/Underlying Cause of Death, 2013.txt')\n",
    "txt12 = pd.read_table('/workspaces/pds-2022-yellow-team/00_source_data/US_VitalStatistics/Underlying Cause of Death, 2014.txt')\n",
    "txt13 = pd.read_table('/workspaces/pds-2022-yellow-team/00_source_data/US_VitalStatistics/Underlying Cause of Death, 2015.txt')"
   ]
  },
  {
   "cell_type": "code",
   "execution_count": 53,
   "metadata": {},
   "outputs": [],
   "source": [
    "# calculate the total rows of all original txt files\n",
    "num_rows = 0\n",
    "for i in range(1,14):\n",
    "    num_rows += (eval(f'txt{i}').shape[0])"
   ]
  },
  {
   "cell_type": "code",
   "execution_count": 54,
   "metadata": {},
   "outputs": [],
   "source": [
    "# make sure the number of rows in concatenated dataframe is equal to the total rows of all original txt files\n",
    "assert df.shape[0] == num_rows"
   ]
  },
  {
   "cell_type": "code",
   "execution_count": 55,
   "metadata": {},
   "outputs": [],
   "source": [
    "# drop unnecessary column\n",
    "temp = df.copy()\n",
    "temp.drop('Notes', axis=1, inplace=True)"
   ]
  },
  {
   "cell_type": "code",
   "execution_count": 56,
   "metadata": {},
   "outputs": [],
   "source": [
    "# fill missing values with 0\n",
    "temp.dropna(how='all', inplace=True)\n",
    "assert temp.isna().sum().sum() == 0"
   ]
  },
  {
   "cell_type": "code",
   "execution_count": 57,
   "metadata": {},
   "outputs": [],
   "source": [
    "# select cause of death containing drug poisoning\n",
    "only_od_all_years = temp[temp['Drug/Alcohol Induced Cause'].str.contains('Drug poisonings')]"
   ]
  },
  {
   "cell_type": "code",
   "execution_count": 58,
   "metadata": {},
   "outputs": [
    {
     "name": "stderr",
     "output_type": "stream",
     "text": [
      "/tmp/ipykernel_5975/190253180.py:2: FutureWarning: In a future version of pandas all arguments of StringMethods.split except for the argument 'pat' will be keyword-only.\n",
      "  only_od_all_years[['COUNTY', 'STATE']] = only_od_all_years['County'].str.split(',', 1, expand=True)\n",
      "/tmp/ipykernel_5975/190253180.py:2: SettingWithCopyWarning: \n",
      "A value is trying to be set on a copy of a slice from a DataFrame.\n",
      "Try using .loc[row_indexer,col_indexer] = value instead\n",
      "\n",
      "See the caveats in the documentation: https://pandas.pydata.org/pandas-docs/stable/user_guide/indexing.html#returning-a-view-versus-a-copy\n",
      "  only_od_all_years[['COUNTY', 'STATE']] = only_od_all_years['County'].str.split(',', 1, expand=True)\n",
      "/tmp/ipykernel_5975/190253180.py:2: SettingWithCopyWarning: \n",
      "A value is trying to be set on a copy of a slice from a DataFrame.\n",
      "Try using .loc[row_indexer,col_indexer] = value instead\n",
      "\n",
      "See the caveats in the documentation: https://pandas.pydata.org/pandas-docs/stable/user_guide/indexing.html#returning-a-view-versus-a-copy\n",
      "  only_od_all_years[['COUNTY', 'STATE']] = only_od_all_years['County'].str.split(',', 1, expand=True)\n",
      "/tmp/ipykernel_5975/190253180.py:5: SettingWithCopyWarning: \n",
      "A value is trying to be set on a copy of a slice from a DataFrame.\n",
      "Try using .loc[row_indexer,col_indexer] = value instead\n",
      "\n",
      "See the caveats in the documentation: https://pandas.pydata.org/pandas-docs/stable/user_guide/indexing.html#returning-a-view-versus-a-copy\n",
      "  only_od_all_years['STATE'] = only_od_all_years['STATE'].str.strip()\n"
     ]
    }
   ],
   "source": [
    "# split county and state\n",
    "only_od_all_years[['COUNTY', 'STATE']] = only_od_all_years['County'].str.split(',', 1, expand=True)\n",
    "\n",
    "# remove the space in front of state\n",
    "only_od_all_years['STATE'] = only_od_all_years['STATE'].str.strip()\n",
    "assert len(only_od_all_years.columns) - len(temp.columns) == 2"
   ]
  },
  {
   "cell_type": "code",
   "execution_count": 59,
   "metadata": {},
   "outputs": [],
   "source": [
    "# select the states we are interested in\n",
    "states = ['AL', 'FL', 'LA', 'NY', 'PA', 'CA','IA','NY','TX','WI','AZ','CO','OR','VA','WA']\n",
    "only_od_all_years = only_od_all_years[only_od_all_years['STATE'].isin(states)]\n",
    "# assert only_od_all_years['STATE'].value_counts().nunique() == 15"
   ]
  },
  {
   "cell_type": "code",
   "execution_count": 60,
   "metadata": {},
   "outputs": [
    {
     "data": {
      "text/plain": [
       "CA    748\n",
       "FL    645\n",
       "TX    537\n",
       "PA    531\n",
       "NY    364\n",
       "WA    266\n",
       "VA    243\n",
       "CO    215\n",
       "LA    205\n",
       "AZ    172\n",
       "AL    169\n",
       "WI    166\n",
       "OR    153\n",
       "IA     45\n",
       "Name: STATE, dtype: int64"
      ]
     },
     "execution_count": 60,
     "metadata": {},
     "output_type": "execute_result"
    }
   ],
   "source": [
    "only_od_all_years['STATE'].value_counts()"
   ]
  },
  {
   "cell_type": "markdown",
   "metadata": {},
   "source": [
    "US_VitalStatistics doesn't have data for PA (reference city for FL)"
   ]
  },
  {
   "cell_type": "code",
   "execution_count": 61,
   "metadata": {},
   "outputs": [],
   "source": [
    "# write only_od to csv\n",
    "only_od_all_years.to_csv('/workspaces/pds-2022-yellow-team/20_intermediate_files/only_od_all_years.csv', index=False)"
   ]
  }
 ],
 "metadata": {
  "kernelspec": {
   "display_name": "Python 3.10.6 ('base')",
   "language": "python",
   "name": "python3"
  },
  "language_info": {
   "codemirror_mode": {
    "name": "ipython",
    "version": 3
   },
   "file_extension": ".py",
   "mimetype": "text/x-python",
   "name": "python",
   "nbconvert_exporter": "python",
   "pygments_lexer": "ipython3",
   "version": "3.10.6"
  },
  "orig_nbformat": 4,
  "vscode": {
   "interpreter": {
    "hash": "0660dbafbb79d2b4a4d3b4fdd3b4b30979b17b34162357f125b8968e0e7fa8b1"
   }
  }
 },
 "nbformat": 4,
 "nbformat_minor": 2
}
