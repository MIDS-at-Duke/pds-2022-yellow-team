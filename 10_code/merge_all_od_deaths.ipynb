{
 "cells": [
  {
   "cell_type": "code",
   "execution_count": 1,
   "metadata": {},
   "outputs": [],
   "source": [
    "import numpy as np\n",
    "import pandas as pd\n",
    "import os\n",
    "import warnings\n",
    "warnings.filterwarnings('ignore')"
   ]
  },
  {
   "cell_type": "code",
   "execution_count": 2,
   "metadata": {},
   "outputs": [
    {
     "name": "stdout",
     "output_type": "stream",
     "text": [
      "/workspaces/pds-2022-yellow-team/00_source_data/US_VitalStatistics/Underlying Cause of Death, 2012.txt\n",
      "/workspaces/pds-2022-yellow-team/00_source_data/US_VitalStatistics/Underlying Cause of Death, 2015.txt\n",
      "/workspaces/pds-2022-yellow-team/00_source_data/US_VitalStatistics/Underlying Cause of Death, 2004.txt\n",
      "/workspaces/pds-2022-yellow-team/00_source_data/US_VitalStatistics/Underlying Cause of Death, 2005.txt\n",
      "/workspaces/pds-2022-yellow-team/00_source_data/US_VitalStatistics/Underlying Cause of Death, 2003.txt\n",
      "/workspaces/pds-2022-yellow-team/00_source_data/US_VitalStatistics/Underlying Cause of Death, 2014.txt\n",
      "/workspaces/pds-2022-yellow-team/00_source_data/US_VitalStatistics/Underlying Cause of Death, 2011.txt\n",
      "/workspaces/pds-2022-yellow-team/00_source_data/US_VitalStatistics/Underlying Cause of Death, 2008.txt\n",
      "/workspaces/pds-2022-yellow-team/00_source_data/US_VitalStatistics/Underlying Cause of Death, 2007.txt\n",
      "/workspaces/pds-2022-yellow-team/00_source_data/US_VitalStatistics/Underlying Cause of Death, 2013.txt\n",
      "/workspaces/pds-2022-yellow-team/00_source_data/US_VitalStatistics/Underlying Cause of Death, 2006.txt\n",
      "/workspaces/pds-2022-yellow-team/00_source_data/US_VitalStatistics/Underlying Cause of Death, 2010.txt\n",
      "/workspaces/pds-2022-yellow-team/00_source_data/US_VitalStatistics/Underlying Cause of Death, 2009.txt\n"
     ]
    },
    {
     "data": {
      "text/html": [
       "<div>\n",
       "<style scoped>\n",
       "    .dataframe tbody tr th:only-of-type {\n",
       "        vertical-align: middle;\n",
       "    }\n",
       "\n",
       "    .dataframe tbody tr th {\n",
       "        vertical-align: top;\n",
       "    }\n",
       "\n",
       "    .dataframe thead th {\n",
       "        text-align: right;\n",
       "    }\n",
       "</style>\n",
       "<table border=\"1\" class=\"dataframe\">\n",
       "  <thead>\n",
       "    <tr style=\"text-align: right;\">\n",
       "      <th></th>\n",
       "      <th>Notes</th>\n",
       "      <th>County</th>\n",
       "      <th>County Code</th>\n",
       "      <th>Year</th>\n",
       "      <th>Year Code</th>\n",
       "      <th>Drug/Alcohol Induced Cause</th>\n",
       "      <th>Drug/Alcohol Induced Cause Code</th>\n",
       "      <th>Deaths</th>\n",
       "    </tr>\n",
       "  </thead>\n",
       "  <tbody>\n",
       "    <tr>\n",
       "      <th>0</th>\n",
       "      <td>NaN</td>\n",
       "      <td>Autauga County, AL</td>\n",
       "      <td>1001.0</td>\n",
       "      <td>2012.0</td>\n",
       "      <td>2012.0</td>\n",
       "      <td>All other non-drug and non-alcohol causes</td>\n",
       "      <td>O9</td>\n",
       "      <td>508.0</td>\n",
       "    </tr>\n",
       "    <tr>\n",
       "      <th>1</th>\n",
       "      <td>NaN</td>\n",
       "      <td>Baldwin County, AL</td>\n",
       "      <td>1003.0</td>\n",
       "      <td>2012.0</td>\n",
       "      <td>2012.0</td>\n",
       "      <td>Drug poisonings (overdose) Unintentional (X40-...</td>\n",
       "      <td>D1</td>\n",
       "      <td>24.0</td>\n",
       "    </tr>\n",
       "    <tr>\n",
       "      <th>2</th>\n",
       "      <td>NaN</td>\n",
       "      <td>Baldwin County, AL</td>\n",
       "      <td>1003.0</td>\n",
       "      <td>2012.0</td>\n",
       "      <td>2012.0</td>\n",
       "      <td>All other alcohol-induced causes</td>\n",
       "      <td>A9</td>\n",
       "      <td>20.0</td>\n",
       "    </tr>\n",
       "    <tr>\n",
       "      <th>3</th>\n",
       "      <td>NaN</td>\n",
       "      <td>Baldwin County, AL</td>\n",
       "      <td>1003.0</td>\n",
       "      <td>2012.0</td>\n",
       "      <td>2012.0</td>\n",
       "      <td>All other non-drug and non-alcohol causes</td>\n",
       "      <td>O9</td>\n",
       "      <td>1746.0</td>\n",
       "    </tr>\n",
       "    <tr>\n",
       "      <th>4</th>\n",
       "      <td>NaN</td>\n",
       "      <td>Barbour County, AL</td>\n",
       "      <td>1005.0</td>\n",
       "      <td>2012.0</td>\n",
       "      <td>2012.0</td>\n",
       "      <td>All other non-drug and non-alcohol causes</td>\n",
       "      <td>O9</td>\n",
       "      <td>270.0</td>\n",
       "    </tr>\n",
       "  </tbody>\n",
       "</table>\n",
       "</div>"
      ],
      "text/plain": [
       "  Notes              County  County Code    Year  Year Code  \\\n",
       "0   NaN  Autauga County, AL       1001.0  2012.0     2012.0   \n",
       "1   NaN  Baldwin County, AL       1003.0  2012.0     2012.0   \n",
       "2   NaN  Baldwin County, AL       1003.0  2012.0     2012.0   \n",
       "3   NaN  Baldwin County, AL       1003.0  2012.0     2012.0   \n",
       "4   NaN  Barbour County, AL       1005.0  2012.0     2012.0   \n",
       "\n",
       "                          Drug/Alcohol Induced Cause  \\\n",
       "0          All other non-drug and non-alcohol causes   \n",
       "1  Drug poisonings (overdose) Unintentional (X40-...   \n",
       "2                   All other alcohol-induced causes   \n",
       "3          All other non-drug and non-alcohol causes   \n",
       "4          All other non-drug and non-alcohol causes   \n",
       "\n",
       "  Drug/Alcohol Induced Cause Code  Deaths  \n",
       "0                              O9   508.0  \n",
       "1                              D1    24.0  \n",
       "2                              A9    20.0  \n",
       "3                              O9  1746.0  \n",
       "4                              O9   270.0  "
      ]
     },
     "execution_count": 2,
     "metadata": {},
     "output_type": "execute_result"
    }
   ],
   "source": [
    "csvdir = \"/workspaces/pds-2022-yellow-team/00_source_data/US_VitalStatistics\"\n",
    "\n",
    "dataframes = []\n",
    "for csv in os.listdir(csvdir):\n",
    "    fullpath = os.path.join(csvdir, csv)\n",
    "    print(fullpath)\n",
    "    if os.path.isfile(fullpath):\n",
    "        # Read a csv into a dataframe and append to a list of dataframes\n",
    "        dataframe = pd.read_table(fullpath)\n",
    "        dataframes.append(dataframe)\n",
    "\n",
    "# Concatenate all created dataframes into one\n",
    "df = pd.concat(dataframes)\n",
    "df.head()"
   ]
  },
  {
   "cell_type": "code",
   "execution_count": 3,
   "metadata": {},
   "outputs": [],
   "source": [
    "# read all original txt files\n",
    "txt1 = pd.read_table('/workspaces/pds-2022-yellow-team/00_source_data/US_VitalStatistics/Underlying Cause of Death, 2003.txt')\n",
    "txt2 = pd.read_table('/workspaces/pds-2022-yellow-team/00_source_data/US_VitalStatistics/Underlying Cause of Death, 2004.txt')\n",
    "txt3 = pd.read_table('/workspaces/pds-2022-yellow-team/00_source_data/US_VitalStatistics/Underlying Cause of Death, 2005.txt')\n",
    "txt4 = pd.read_table('/workspaces/pds-2022-yellow-team/00_source_data/US_VitalStatistics/Underlying Cause of Death, 2006.txt')\n",
    "txt5 = pd.read_table('/workspaces/pds-2022-yellow-team/00_source_data/US_VitalStatistics/Underlying Cause of Death, 2007.txt')\n",
    "txt6 = pd.read_table('/workspaces/pds-2022-yellow-team/00_source_data/US_VitalStatistics/Underlying Cause of Death, 2008.txt')\n",
    "txt7 = pd.read_table('/workspaces/pds-2022-yellow-team/00_source_data/US_VitalStatistics/Underlying Cause of Death, 2009.txt')\n",
    "txt8 = pd.read_table('/workspaces/pds-2022-yellow-team/00_source_data/US_VitalStatistics/Underlying Cause of Death, 2010.txt')\n",
    "txt9 = pd.read_table('/workspaces/pds-2022-yellow-team/00_source_data/US_VitalStatistics/Underlying Cause of Death, 2011.txt')\n",
    "txt10 = pd.read_table('/workspaces/pds-2022-yellow-team/00_source_data/US_VitalStatistics/Underlying Cause of Death, 2012.txt')\n",
    "txt11 = pd.read_table('/workspaces/pds-2022-yellow-team/00_source_data/US_VitalStatistics/Underlying Cause of Death, 2013.txt')\n",
    "txt12 = pd.read_table('/workspaces/pds-2022-yellow-team/00_source_data/US_VitalStatistics/Underlying Cause of Death, 2014.txt')\n",
    "txt13 = pd.read_table('/workspaces/pds-2022-yellow-team/00_source_data/US_VitalStatistics/Underlying Cause of Death, 2015.txt')"
   ]
  },
  {
   "cell_type": "code",
   "execution_count": 4,
   "metadata": {},
   "outputs": [],
   "source": [
    "# calculate the total rows of all original txt files\n",
    "num_rows = 0\n",
    "for i in range(1,14):\n",
    "    num_rows += (eval(f'txt{i}').shape[0])"
   ]
  },
  {
   "cell_type": "code",
   "execution_count": 5,
   "metadata": {},
   "outputs": [],
   "source": [
    "# make sure the number of rows in concatenated dataframe is equal to the total rows of all original txt files\n",
    "assert df.shape[0] == num_rows"
   ]
  },
  {
   "cell_type": "code",
   "execution_count": 6,
   "metadata": {},
   "outputs": [],
   "source": [
    "# drop unnecessary column\n",
    "temp = df.copy()\n",
    "temp.drop('Notes', axis=1, inplace=True)"
   ]
  },
  {
   "cell_type": "code",
   "execution_count": 7,
   "metadata": {},
   "outputs": [],
   "source": [
    "# fill missing values with 0\n",
    "temp.dropna(how='all', inplace=True)\n",
    "assert temp.isna().sum().sum() == 0"
   ]
  },
  {
   "cell_type": "code",
   "execution_count": 8,
   "metadata": {},
   "outputs": [],
   "source": [
    "# select cause of death containing drug poisoning\n",
    "only_od_all_years = temp[temp['Drug/Alcohol Induced Cause'].str.contains('Drug poisonings')]"
   ]
  },
  {
   "cell_type": "code",
   "execution_count": 9,
   "metadata": {},
   "outputs": [],
   "source": [
    "# split county and state\n",
    "only_od_all_years[['CTYNAME', 'STNAME']] = only_od_all_years['County'].str.split(',', 1, expand=True)\n",
    "\n",
    "# remove the space in front of state\n",
    "only_od_all_years['STNAME'] = only_od_all_years['STNAME'].str.strip()\n",
    "assert len(only_od_all_years.columns) - len(temp.columns) == 2"
   ]
  },
  {
   "cell_type": "code",
   "execution_count": 10,
   "metadata": {},
   "outputs": [],
   "source": [
    "# select the states we are interested in\n",
    "states = ['AZ', 'CO', 'FL', 'HI', 'LA', 'NV', 'NY', 'OK', 'OR', 'SC', 'TX', 'WA', 'WI']\n",
    "only_od_all_years = only_od_all_years[only_od_all_years['STNAME'].isin(states)]"
   ]
  },
  {
   "cell_type": "code",
   "execution_count": 11,
   "metadata": {},
   "outputs": [
    {
     "data": {
      "text/plain": [
       "AZ    172\n",
       "CO    215\n",
       "FL    645\n",
       "HI     46\n",
       "LA    205\n",
       "NV     67\n",
       "NY    364\n",
       "OK    169\n",
       "OR    153\n",
       "SC    198\n",
       "TX    537\n",
       "WA    266\n",
       "WI    166\n",
       "Name: STNAME, dtype: int64"
      ]
     },
     "execution_count": 11,
     "metadata": {},
     "output_type": "execute_result"
    }
   ],
   "source": [
    "only_od_all_years['STNAME'].value_counts().sort_index()"
   ]
  },
  {
   "cell_type": "code",
   "execution_count": 12,
   "metadata": {},
   "outputs": [],
   "source": [
    "# write only_od to csv\n",
    "only_od_all_years.to_csv('/workspaces/pds-2022-yellow-team/20_intermediate_files/only_od_all_years.csv', index=False)"
   ]
  },
  {
   "cell_type": "code",
   "execution_count": null,
   "metadata": {},
   "outputs": [],
   "source": []
  }
 ],
 "metadata": {
  "kernelspec": {
   "display_name": "Python 3.10.4 64-bit",
   "language": "python",
   "name": "python3"
  },
  "language_info": {
   "codemirror_mode": {
    "name": "ipython",
    "version": 3
   },
   "file_extension": ".py",
   "mimetype": "text/x-python",
   "name": "python",
   "nbconvert_exporter": "python",
   "pygments_lexer": "ipython3",
   "version": "3.10.4"
  },
  "orig_nbformat": 4,
  "vscode": {
   "interpreter": {
    "hash": "3ad933181bd8a04b432d3370b9dc3b0662ad032c4dfaa4e4f1596c548f763858"
   }
  }
 },
 "nbformat": 4,
 "nbformat_minor": 2
}
