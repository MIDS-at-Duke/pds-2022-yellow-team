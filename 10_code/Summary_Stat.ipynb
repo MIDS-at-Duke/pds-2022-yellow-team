{
 "cells": [
  {
   "cell_type": "code",
   "execution_count": 250,
   "metadata": {},
   "outputs": [],
   "source": [
    "import numpy as np\n",
    "import pandas as pd\n"
   ]
  },
  {
   "cell_type": "markdown",
   "metadata": {},
   "source": [
    "## Shipment "
   ]
  },
  {
   "cell_type": "markdown",
   "metadata": {},
   "source": [
    "### Florida -- AZ, LA, SC"
   ]
  },
  {
   "cell_type": "code",
   "execution_count": 251,
   "metadata": {},
   "outputs": [
    {
     "data": {
      "text/html": [
       "<div>\n",
       "<style scoped>\n",
       "    .dataframe tbody tr th:only-of-type {\n",
       "        vertical-align: middle;\n",
       "    }\n",
       "\n",
       "    .dataframe tbody tr th {\n",
       "        vertical-align: top;\n",
       "    }\n",
       "\n",
       "    .dataframe thead th {\n",
       "        text-align: right;\n",
       "    }\n",
       "</style>\n",
       "<table border=\"1\" class=\"dataframe\">\n",
       "  <thead>\n",
       "    <tr style=\"text-align: right;\">\n",
       "      <th></th>\n",
       "      <th>BUYER_STATE</th>\n",
       "      <th>BUYER_COUNTY</th>\n",
       "      <th>YEAR</th>\n",
       "      <th>MME</th>\n",
       "      <th>FIPS Code</th>\n",
       "      <th>State</th>\n",
       "      <th>STNAME</th>\n",
       "      <th>CTYNAME</th>\n",
       "      <th>POPULATION</th>\n",
       "    </tr>\n",
       "  </thead>\n",
       "  <tbody>\n",
       "    <tr>\n",
       "      <th>0</th>\n",
       "      <td>AZ</td>\n",
       "      <td>APACHE</td>\n",
       "      <td>2006</td>\n",
       "      <td>4.956969e+06</td>\n",
       "      <td>4001</td>\n",
       "      <td>Arizona</td>\n",
       "      <td>Arizona</td>\n",
       "      <td>APACHE</td>\n",
       "      <td>69066.0</td>\n",
       "    </tr>\n",
       "    <tr>\n",
       "      <th>1</th>\n",
       "      <td>AZ</td>\n",
       "      <td>APACHE</td>\n",
       "      <td>2007</td>\n",
       "      <td>5.611684e+06</td>\n",
       "      <td>4001</td>\n",
       "      <td>Arizona</td>\n",
       "      <td>Arizona</td>\n",
       "      <td>APACHE</td>\n",
       "      <td>69278.0</td>\n",
       "    </tr>\n",
       "    <tr>\n",
       "      <th>2</th>\n",
       "      <td>AZ</td>\n",
       "      <td>APACHE</td>\n",
       "      <td>2008</td>\n",
       "      <td>5.853244e+06</td>\n",
       "      <td>4001</td>\n",
       "      <td>Arizona</td>\n",
       "      <td>Arizona</td>\n",
       "      <td>APACHE</td>\n",
       "      <td>69520.0</td>\n",
       "    </tr>\n",
       "    <tr>\n",
       "      <th>3</th>\n",
       "      <td>AZ</td>\n",
       "      <td>APACHE</td>\n",
       "      <td>2009</td>\n",
       "      <td>7.344332e+06</td>\n",
       "      <td>4001</td>\n",
       "      <td>Arizona</td>\n",
       "      <td>Arizona</td>\n",
       "      <td>APACHE</td>\n",
       "      <td>70591.0</td>\n",
       "    </tr>\n",
       "    <tr>\n",
       "      <th>4</th>\n",
       "      <td>AZ</td>\n",
       "      <td>APACHE</td>\n",
       "      <td>2010</td>\n",
       "      <td>7.732743e+06</td>\n",
       "      <td>4001</td>\n",
       "      <td>Arizona</td>\n",
       "      <td>Arizona</td>\n",
       "      <td>APACHE</td>\n",
       "      <td>71828.0</td>\n",
       "    </tr>\n",
       "  </tbody>\n",
       "</table>\n",
       "</div>"
      ],
      "text/plain": [
       "  BUYER_STATE BUYER_COUNTY  YEAR           MME  FIPS Code    State   STNAME  \\\n",
       "0          AZ       APACHE  2006  4.956969e+06       4001  Arizona  Arizona   \n",
       "1          AZ       APACHE  2007  5.611684e+06       4001  Arizona  Arizona   \n",
       "2          AZ       APACHE  2008  5.853244e+06       4001  Arizona  Arizona   \n",
       "3          AZ       APACHE  2009  7.344332e+06       4001  Arizona  Arizona   \n",
       "4          AZ       APACHE  2010  7.732743e+06       4001  Arizona  Arizona   \n",
       "\n",
       "  CTYNAME  POPULATION  \n",
       "0  APACHE     69066.0  \n",
       "1  APACHE     69278.0  \n",
       "2  APACHE     69520.0  \n",
       "3  APACHE     70591.0  \n",
       "4  APACHE     71828.0  "
      ]
     },
     "execution_count": 251,
     "metadata": {},
     "output_type": "execute_result"
    }
   ],
   "source": [
    "url = 'https://raw.githubusercontent.com/MIDS-at-Duke/pds-2022-yellow-team/main/20_intermediate_files/fl_ship_merge.csv?token=GHSAT0AAAAAABYIEB2OGHODHRHCUD6IWALOY4FU36Q'\n",
    "df = pd.read_csv(url)\n",
    "df.head()"
   ]
  },
  {
   "cell_type": "code",
   "execution_count": 252,
   "metadata": {},
   "outputs": [
    {
     "data": {
      "text/plain": [
       "STNAME\n",
       "Arizona    1.644573e+08\n",
       "Name: MME, dtype: float64"
      ]
     },
     "execution_count": 252,
     "metadata": {},
     "output_type": "execute_result"
    }
   ],
   "source": [
    "# fl shipment to Arizona before 2010\n",
    "fl_ship_az = df[df['STNAME'] == 'Arizona']\n",
    "fl_ship_az1 = fl_ship_az[fl_ship_az['YEAR']<= 2010]\n",
    "fl_ship_az1.groupby('STNAME')['MME'].mean()"
   ]
  },
  {
   "cell_type": "code",
   "execution_count": 253,
   "metadata": {},
   "outputs": [
    {
     "data": {
      "text/plain": [
       "STNAME\n",
       "Arizona    2.353518e+08\n",
       "Name: MME, dtype: float64"
      ]
     },
     "execution_count": 253,
     "metadata": {},
     "output_type": "execute_result"
    }
   ],
   "source": [
    "# fl shipment to Arizona after 2010\n",
    "fl_ship_az2 = fl_ship_az[fl_ship_az['YEAR']> 2010]\n",
    "fl_ship_az2.groupby('STNAME')['MME'].mean()\n"
   ]
  },
  {
   "cell_type": "code",
   "execution_count": 254,
   "metadata": {},
   "outputs": [
    {
     "data": {
      "text/plain": [
       "BUYER_STATE                    AZ\n",
       "BUYER_COUNTY                 YUMA\n",
       "YEAR                         2010\n",
       "MME             1784577100.201575\n",
       "FIPS Code                    4027\n",
       "State                     Arizona\n",
       "STNAME                    Arizona\n",
       "CTYNAME                      YUMA\n",
       "POPULATION              4023132.0\n",
       "dtype: object"
      ]
     },
     "execution_count": 254,
     "metadata": {},
     "output_type": "execute_result"
    }
   ],
   "source": [
    "# shipment to Arizona by CTYNAME before 2010\n",
    "fl_ship_az1.groupby('CTYNAME')['MME'].mean()\n",
    "fl_ship_az1.max()"
   ]
  },
  {
   "cell_type": "code",
   "execution_count": 255,
   "metadata": {},
   "outputs": [
    {
     "data": {
      "text/plain": [
       "BUYER_STATE                    AZ\n",
       "BUYER_COUNTY                 YUMA\n",
       "YEAR                         2014\n",
       "MME             2114214074.404012\n",
       "FIPS Code                    4027\n",
       "State                     Arizona\n",
       "STNAME                    Arizona\n",
       "CTYNAME                      YUMA\n",
       "POPULATION              4094842.0\n",
       "dtype: object"
      ]
     },
     "execution_count": 255,
     "metadata": {},
     "output_type": "execute_result"
    }
   ],
   "source": [
    "# shipment to Arizona by CTYNAME after 2010\n",
    "fl_ship_az2.groupby('CTYNAME')['MME'].mean()\n",
    "fl_ship_az2.max()"
   ]
  },
  {
   "cell_type": "code",
   "execution_count": 256,
   "metadata": {},
   "outputs": [
    {
     "data": {
      "text/plain": [
       "Series([], Name: MME, dtype: float64)"
      ]
     },
     "execution_count": 256,
     "metadata": {},
     "output_type": "execute_result"
    }
   ],
   "source": [
    "# fl shipment to Louisiana before 2010\n",
    "fl_ship_la = df[df['STNAME'] == 'Louisiana']\n",
    "fl_ship_la1 = fl_ship_la[fl_ship_la['YEAR']<= 2010]\n",
    "fl_ship_la1.groupby('STNAME')['MME'].mean()\n"
   ]
  },
  {
   "cell_type": "code",
   "execution_count": 257,
   "metadata": {},
   "outputs": [
    {
     "data": {
      "text/plain": [
       "Series([], Name: MME, dtype: float64)"
      ]
     },
     "execution_count": 257,
     "metadata": {},
     "output_type": "execute_result"
    }
   ],
   "source": [
    "# fl shipment to Louisiana after 2010\n",
    "fl_ship_la2 = fl_ship_la[fl_ship_la['YEAR']> 2010]\n",
    "fl_ship_la2.groupby('STNAME')['MME'].mean()\n"
   ]
  },
  {
   "cell_type": "code",
   "execution_count": 258,
   "metadata": {},
   "outputs": [
    {
     "data": {
      "text/plain": [
       "STNAME\n",
       "South Carolina    3.766200e+07\n",
       "Name: MME, dtype: float64"
      ]
     },
     "execution_count": 258,
     "metadata": {},
     "output_type": "execute_result"
    }
   ],
   "source": [
    "# fl shipment to South Carolina before 2010\n",
    "fl_ship_sc = df[df['STNAME'] == 'South Carolina']\n",
    "fl_ship_sc1 = fl_ship_sc[fl_ship_sc['YEAR']<= 2010]\n",
    "fl_ship_sc1.groupby('STNAME')['MME'].mean()\n"
   ]
  },
  {
   "cell_type": "code",
   "execution_count": 259,
   "metadata": {},
   "outputs": [
    {
     "data": {
      "text/plain": [
       "STNAME\n",
       "South Carolina    5.581880e+07\n",
       "Name: MME, dtype: float64"
      ]
     },
     "execution_count": 259,
     "metadata": {},
     "output_type": "execute_result"
    }
   ],
   "source": [
    "# fl shipment to South Carolina after 2010\n",
    "fl_ship_sc2 = fl_ship_sc[fl_ship_sc['YEAR']> 2010]\n",
    "fl_ship_sc2.groupby('STNAME')['MME'].mean()"
   ]
  },
  {
   "cell_type": "code",
   "execution_count": 260,
   "metadata": {},
   "outputs": [
    {
     "data": {
      "text/plain": [
       "STNAME\n",
       "Florida    1.994386e+08\n",
       "Name: MME, dtype: float64"
      ]
     },
     "execution_count": 260,
     "metadata": {},
     "output_type": "execute_result"
    }
   ],
   "source": [
    "# fl shipment to Florida before 2010\n",
    "fl_ship_fl = df[df['STNAME'] == 'Florida']\n",
    "fl_ship_fl1 = fl_ship_fl[fl_ship_fl['YEAR']<= 2010]\n",
    "fl_ship_fl1.groupby('STNAME')['MME'].mean()\n",
    "\n"
   ]
  },
  {
   "cell_type": "code",
   "execution_count": 261,
   "metadata": {},
   "outputs": [
    {
     "data": {
      "text/plain": [
       "STNAME\n",
       "Florida    1.489932e+08\n",
       "Name: MME, dtype: float64"
      ]
     },
     "execution_count": 261,
     "metadata": {},
     "output_type": "execute_result"
    }
   ],
   "source": [
    "# fl shipment to Florida after 2010\n",
    "fl_ship_fl2 = fl_ship_fl[fl_ship_fl['YEAR']> 2010]\n",
    "fl_ship_fl2.groupby('STNAME')['MME'].mean()\n"
   ]
  },
  {
   "cell_type": "code",
   "execution_count": 262,
   "metadata": {},
   "outputs": [
    {
     "data": {
      "text/plain": [
       "BUYER_STATE                    FL\n",
       "BUYER_COUNTY           WASHINGTON\n",
       "YEAR                         2010\n",
       "MME             3026736844.585425\n",
       "FIPS Code                   12133\n",
       "State                     Florida\n",
       "STNAME                    Florida\n",
       "CTYNAME                WASHINGTON\n",
       "POPULATION              2506986.0\n",
       "dtype: object"
      ]
     },
     "execution_count": 262,
     "metadata": {},
     "output_type": "execute_result"
    }
   ],
   "source": [
    "# shipment to Florida by CTYNAME before 2010\n",
    "fl_ship_fl1.groupby('CTYNAME')['MME'].mean()\n",
    "fl_ship_fl1.max()"
   ]
  },
  {
   "cell_type": "code",
   "execution_count": 263,
   "metadata": {},
   "outputs": [
    {
     "data": {
      "text/plain": [
       "BUYER_STATE                    FL\n",
       "BUYER_COUNTY           WASHINGTON\n",
       "YEAR                         2014\n",
       "MME             1533314549.951288\n",
       "FIPS Code                   12133\n",
       "State                     Florida\n",
       "STNAME                    Florida\n",
       "CTYNAME                WASHINGTON\n",
       "POPULATION              2634056.0\n",
       "dtype: object"
      ]
     },
     "execution_count": 263,
     "metadata": {},
     "output_type": "execute_result"
    }
   ],
   "source": [
    "# shipment to Florida by CTYNAME after 2010\n",
    "fl_ship_fl2.groupby('CTYNAME')['MME'].mean()\n",
    "fl_ship_fl2.max()\n",
    "\n"
   ]
  },
  {
   "cell_type": "markdown",
   "metadata": {},
   "source": [
    "### Washington--CO, AZ, NY"
   ]
  },
  {
   "cell_type": "code",
   "execution_count": 264,
   "metadata": {},
   "outputs": [
    {
     "data": {
      "text/html": [
       "<div>\n",
       "<style scoped>\n",
       "    .dataframe tbody tr th:only-of-type {\n",
       "        vertical-align: middle;\n",
       "    }\n",
       "\n",
       "    .dataframe tbody tr th {\n",
       "        vertical-align: top;\n",
       "    }\n",
       "\n",
       "    .dataframe thead th {\n",
       "        text-align: right;\n",
       "    }\n",
       "</style>\n",
       "<table border=\"1\" class=\"dataframe\">\n",
       "  <thead>\n",
       "    <tr style=\"text-align: right;\">\n",
       "      <th></th>\n",
       "      <th>BUYER_STATE</th>\n",
       "      <th>BUYER_COUNTY</th>\n",
       "      <th>YEAR</th>\n",
       "      <th>MME</th>\n",
       "      <th>FIPS Code</th>\n",
       "      <th>State</th>\n",
       "      <th>STNAME</th>\n",
       "      <th>CTYNAME</th>\n",
       "      <th>POPULATION</th>\n",
       "    </tr>\n",
       "  </thead>\n",
       "  <tbody>\n",
       "    <tr>\n",
       "      <th>0</th>\n",
       "      <td>AZ</td>\n",
       "      <td>APACHE</td>\n",
       "      <td>2006</td>\n",
       "      <td>4.956969e+06</td>\n",
       "      <td>4001</td>\n",
       "      <td>Arizona</td>\n",
       "      <td>Arizona</td>\n",
       "      <td>APACHE</td>\n",
       "      <td>69066.0</td>\n",
       "    </tr>\n",
       "    <tr>\n",
       "      <th>1</th>\n",
       "      <td>AZ</td>\n",
       "      <td>APACHE</td>\n",
       "      <td>2007</td>\n",
       "      <td>5.611684e+06</td>\n",
       "      <td>4001</td>\n",
       "      <td>Arizona</td>\n",
       "      <td>Arizona</td>\n",
       "      <td>APACHE</td>\n",
       "      <td>69278.0</td>\n",
       "    </tr>\n",
       "    <tr>\n",
       "      <th>2</th>\n",
       "      <td>AZ</td>\n",
       "      <td>APACHE</td>\n",
       "      <td>2008</td>\n",
       "      <td>5.853244e+06</td>\n",
       "      <td>4001</td>\n",
       "      <td>Arizona</td>\n",
       "      <td>Arizona</td>\n",
       "      <td>APACHE</td>\n",
       "      <td>69520.0</td>\n",
       "    </tr>\n",
       "    <tr>\n",
       "      <th>3</th>\n",
       "      <td>AZ</td>\n",
       "      <td>APACHE</td>\n",
       "      <td>2009</td>\n",
       "      <td>7.344332e+06</td>\n",
       "      <td>4001</td>\n",
       "      <td>Arizona</td>\n",
       "      <td>Arizona</td>\n",
       "      <td>APACHE</td>\n",
       "      <td>70591.0</td>\n",
       "    </tr>\n",
       "    <tr>\n",
       "      <th>4</th>\n",
       "      <td>AZ</td>\n",
       "      <td>APACHE</td>\n",
       "      <td>2010</td>\n",
       "      <td>7.732743e+06</td>\n",
       "      <td>4001</td>\n",
       "      <td>Arizona</td>\n",
       "      <td>Arizona</td>\n",
       "      <td>APACHE</td>\n",
       "      <td>71828.0</td>\n",
       "    </tr>\n",
       "  </tbody>\n",
       "</table>\n",
       "</div>"
      ],
      "text/plain": [
       "  BUYER_STATE BUYER_COUNTY  YEAR           MME  FIPS Code    State   STNAME  \\\n",
       "0          AZ       APACHE  2006  4.956969e+06       4001  Arizona  Arizona   \n",
       "1          AZ       APACHE  2007  5.611684e+06       4001  Arizona  Arizona   \n",
       "2          AZ       APACHE  2008  5.853244e+06       4001  Arizona  Arizona   \n",
       "3          AZ       APACHE  2009  7.344332e+06       4001  Arizona  Arizona   \n",
       "4          AZ       APACHE  2010  7.732743e+06       4001  Arizona  Arizona   \n",
       "\n",
       "  CTYNAME  POPULATION  \n",
       "0  APACHE     69066.0  \n",
       "1  APACHE     69278.0  \n",
       "2  APACHE     69520.0  \n",
       "3  APACHE     70591.0  \n",
       "4  APACHE     71828.0  "
      ]
     },
     "execution_count": 264,
     "metadata": {},
     "output_type": "execute_result"
    }
   ],
   "source": [
    "url = 'https://raw.githubusercontent.com/MIDS-at-Duke/pds-2022-yellow-team/main/20_intermediate_files/wa_ship_merge.csv?token=GHSAT0AAAAAABYIEB2OS2Y3ITH3GLPZKZOUY4FU4TA'\n",
    "df_WA = pd.read_csv(url)\n",
    "df_WA.head()"
   ]
  },
  {
   "cell_type": "code",
   "execution_count": 265,
   "metadata": {},
   "outputs": [
    {
     "data": {
      "text/plain": [
       "STNAME\n",
       "Colorado    2.544277e+07\n",
       "Name: MME, dtype: float64"
      ]
     },
     "execution_count": 265,
     "metadata": {},
     "output_type": "execute_result"
    }
   ],
   "source": [
    "# wa shipment to CO before 2012\n",
    "wa_ship_co = df_WA[df_WA['STNAME'] == 'Colorado']\n",
    "wa_ship_co1 = wa_ship_co[wa_ship_co['YEAR']<= 2012]\n",
    "wa_ship_co1.groupby('STNAME')['MME'].mean()\n"
   ]
  },
  {
   "cell_type": "code",
   "execution_count": 266,
   "metadata": {},
   "outputs": [
    {
     "data": {
      "text/plain": [
       "STNAME\n",
       "Colorado    3.000596e+07\n",
       "Name: MME, dtype: float64"
      ]
     },
     "execution_count": 266,
     "metadata": {},
     "output_type": "execute_result"
    }
   ],
   "source": [
    "# wa shipment to CO after 2012\n",
    "wa_ship_co2 = wa_ship_co[wa_ship_co['YEAR']> 2012]\n",
    "wa_ship_co2.groupby('STNAME')['MME'].mean()"
   ]
  },
  {
   "cell_type": "code",
   "execution_count": 267,
   "metadata": {},
   "outputs": [
    {
     "data": {
      "text/plain": [
       "STNAME\n",
       "Arizona    1.853882e+08\n",
       "Name: MME, dtype: float64"
      ]
     },
     "execution_count": 267,
     "metadata": {},
     "output_type": "execute_result"
    }
   ],
   "source": [
    "# wa shipment to AZ before 2012\n",
    "wa_ship_az = df_WA[df_WA['STNAME'] == 'Arizona']\n",
    "wa_ship_az1 = wa_ship_az[wa_ship_az['YEAR']<= 2012]\n",
    "wa_ship_az1.groupby('STNAME')['MME'].mean()\n"
   ]
  },
  {
   "cell_type": "code",
   "execution_count": 268,
   "metadata": {},
   "outputs": [
    {
     "data": {
      "text/plain": [
       "STNAME\n",
       "Arizona    2.329883e+08\n",
       "Name: MME, dtype: float64"
      ]
     },
     "execution_count": 268,
     "metadata": {},
     "output_type": "execute_result"
    }
   ],
   "source": [
    "# wa shipment to AZ after 2012\n",
    "wa_ship_az2 = wa_ship_az[wa_ship_az['YEAR']> 2012]\n",
    "wa_ship_az2.groupby('STNAME')['MME'].mean()\n"
   ]
  },
  {
   "cell_type": "code",
   "execution_count": 269,
   "metadata": {},
   "outputs": [
    {
     "data": {
      "text/plain": [
       "STNAME\n",
       "New York    8.575867e+07\n",
       "Name: MME, dtype: float64"
      ]
     },
     "execution_count": 269,
     "metadata": {},
     "output_type": "execute_result"
    }
   ],
   "source": [
    "# wa shipment to NY before 2012\n",
    "wa_ship_ny = df_WA[df_WA['STNAME'] == 'New York']\n",
    "wa_ship_ny1 = wa_ship_ny[wa_ship_ny['YEAR']<= 2012]\n",
    "wa_ship_ny1.groupby('STNAME')['MME'].mean()\n"
   ]
  },
  {
   "cell_type": "code",
   "execution_count": 270,
   "metadata": {},
   "outputs": [
    {
     "data": {
      "text/plain": [
       "BUYER_STATE                   NY\n",
       "BUYER_COUNTY               YATES\n",
       "YEAR                        2012\n",
       "MME             767117238.708112\n",
       "FIPS Code                  36123\n",
       "State                   New York\n",
       "STNAME                  New York\n",
       "CTYNAME                    YATES\n",
       "POPULATION             2568538.0\n",
       "dtype: object"
      ]
     },
     "execution_count": 270,
     "metadata": {},
     "output_type": "execute_result"
    }
   ],
   "source": [
    "# shipment to NY by CTYNAME before 2012\n",
    "wa_ship_ny1.groupby('CTYNAME')['MME'].mean()\n",
    "wa_ship_ny1.max()"
   ]
  },
  {
   "cell_type": "code",
   "execution_count": 271,
   "metadata": {},
   "outputs": [
    {
     "data": {
      "text/plain": [
       "STNAME\n",
       "New York    9.730642e+07\n",
       "Name: MME, dtype: float64"
      ]
     },
     "execution_count": 271,
     "metadata": {},
     "output_type": "execute_result"
    }
   ],
   "source": [
    "# wa shipment to NY after 2012\n",
    "wa_ship_ny2 = wa_ship_ny[wa_ship_ny['YEAR']> 2012]\n",
    "wa_ship_ny2.groupby('STNAME')['MME'].mean()\n"
   ]
  },
  {
   "cell_type": "code",
   "execution_count": 272,
   "metadata": {},
   "outputs": [
    {
     "data": {
      "text/plain": [
       "BUYER_STATE                   NY\n",
       "BUYER_COUNTY               YATES\n",
       "YEAR                        2014\n",
       "MME             625433764.025213\n",
       "FIPS Code                  36123\n",
       "State                   New York\n",
       "STNAME                  New York\n",
       "CTYNAME                    YATES\n",
       "POPULATION             2601527.0\n",
       "dtype: object"
      ]
     },
     "execution_count": 272,
     "metadata": {},
     "output_type": "execute_result"
    }
   ],
   "source": [
    "# shipment to NY by CTYNAME after 2012\n",
    "wa_ship_ny2.groupby('CTYNAME')['MME'].mean()\n",
    "wa_ship_ny2.max()\n"
   ]
  },
  {
   "cell_type": "code",
   "execution_count": 273,
   "metadata": {},
   "outputs": [
    {
     "data": {
      "text/plain": [
       "STNAME\n",
       "Washington    6.116464e+07\n",
       "Name: MME, dtype: float64"
      ]
     },
     "execution_count": 273,
     "metadata": {},
     "output_type": "execute_result"
    }
   ],
   "source": [
    "# wa shipment to WA before 2012\n",
    "wa_ship_wa = df_WA[df_WA['STNAME'] == 'Washington']\n",
    "wa_ship_wa1 = wa_ship_wa[wa_ship_wa['YEAR']<= 2012]\n",
    "wa_ship_wa1.groupby('STNAME')['MME'].mean()\n"
   ]
  },
  {
   "cell_type": "code",
   "execution_count": 274,
   "metadata": {},
   "outputs": [
    {
     "data": {
      "text/plain": [
       "STNAME\n",
       "Washington    6.260623e+07\n",
       "Name: MME, dtype: float64"
      ]
     },
     "execution_count": 274,
     "metadata": {},
     "output_type": "execute_result"
    }
   ],
   "source": [
    "# wa shipment to WA after 2012\n",
    "wa_ship_wa2 = wa_ship_wa[wa_ship_wa['YEAR']> 2012]\n",
    "wa_ship_wa2.groupby('STNAME')['MME'].mean()\n"
   ]
  },
  {
   "cell_type": "markdown",
   "metadata": {},
   "source": [
    "## Death"
   ]
  },
  {
   "cell_type": "markdown",
   "metadata": {},
   "source": [
    "### Florida-LA,NV,CO"
   ]
  },
  {
   "cell_type": "code",
   "execution_count": 275,
   "metadata": {},
   "outputs": [
    {
     "data": {
      "text/html": [
       "<div>\n",
       "<style scoped>\n",
       "    .dataframe tbody tr th:only-of-type {\n",
       "        vertical-align: middle;\n",
       "    }\n",
       "\n",
       "    .dataframe tbody tr th {\n",
       "        vertical-align: top;\n",
       "    }\n",
       "\n",
       "    .dataframe thead th {\n",
       "        text-align: right;\n",
       "    }\n",
       "</style>\n",
       "<table border=\"1\" class=\"dataframe\">\n",
       "  <thead>\n",
       "    <tr style=\"text-align: right;\">\n",
       "      <th></th>\n",
       "      <th>YEAR</th>\n",
       "      <th>Death Rate (%)</th>\n",
       "      <th>POPULATION</th>\n",
       "      <th>STNAME</th>\n",
       "      <th>CTYNAME</th>\n",
       "      <th>Indicator</th>\n",
       "    </tr>\n",
       "  </thead>\n",
       "  <tbody>\n",
       "    <tr>\n",
       "      <th>0</th>\n",
       "      <td>2003.0</td>\n",
       "      <td>0.011088</td>\n",
       "      <td>378785.0</td>\n",
       "      <td>Colorado</td>\n",
       "      <td>Adams County</td>\n",
       "      <td>Control</td>\n",
       "    </tr>\n",
       "    <tr>\n",
       "      <th>1</th>\n",
       "      <td>2003.0</td>\n",
       "      <td>0.031644</td>\n",
       "      <td>15125.0</td>\n",
       "      <td>Colorado</td>\n",
       "      <td>Alamosa County</td>\n",
       "      <td>Control</td>\n",
       "    </tr>\n",
       "    <tr>\n",
       "      <th>2</th>\n",
       "      <td>2003.0</td>\n",
       "      <td>0.008748</td>\n",
       "      <td>514406.0</td>\n",
       "      <td>Colorado</td>\n",
       "      <td>Arapahoe County</td>\n",
       "      <td>Control</td>\n",
       "    </tr>\n",
       "    <tr>\n",
       "      <th>3</th>\n",
       "      <td>2003.0</td>\n",
       "      <td>0.031644</td>\n",
       "      <td>11167.0</td>\n",
       "      <td>Colorado</td>\n",
       "      <td>Archuleta County</td>\n",
       "      <td>Control</td>\n",
       "    </tr>\n",
       "    <tr>\n",
       "      <th>4</th>\n",
       "      <td>2003.0</td>\n",
       "      <td>0.031644</td>\n",
       "      <td>4106.0</td>\n",
       "      <td>Colorado</td>\n",
       "      <td>Baca County</td>\n",
       "      <td>Control</td>\n",
       "    </tr>\n",
       "  </tbody>\n",
       "</table>\n",
       "</div>"
      ],
      "text/plain": [
       "     YEAR  Death Rate (%)  POPULATION    STNAME           CTYNAME Indicator\n",
       "0  2003.0        0.011088    378785.0  Colorado      Adams County   Control\n",
       "1  2003.0        0.031644     15125.0  Colorado    Alamosa County   Control\n",
       "2  2003.0        0.008748    514406.0  Colorado   Arapahoe County   Control\n",
       "3  2003.0        0.031644     11167.0  Colorado  Archuleta County   Control\n",
       "4  2003.0        0.031644      4106.0  Colorado       Baca County   Control"
      ]
     },
     "execution_count": 275,
     "metadata": {},
     "output_type": "execute_result"
    }
   ],
   "source": [
    "url = 'https://raw.githubusercontent.com/MIDS-at-Duke/pds-2022-yellow-team/main/20_intermediate_files/florida_death_cleaned.csv?token=GHSAT0AAAAAABYIEB2PKTF3PPGBTJAMNJJUY4FVLNQ'\n",
    "DE_fl = pd.read_csv(url)\n",
    "DE_fl.head()"
   ]
  },
  {
   "cell_type": "code",
   "execution_count": 276,
   "metadata": {},
   "outputs": [
    {
     "data": {
      "text/plain": [
       "STNAME\n",
       "Louisiana    0.028055\n",
       "Name: Death Rate (%), dtype: float64"
      ]
     },
     "execution_count": 276,
     "metadata": {},
     "output_type": "execute_result"
    }
   ],
   "source": [
    "# fl death in LA before 2010\n",
    "DE_fl_la = DE_fl[DE_fl['STNAME'] == 'Louisiana']\n",
    "DE_fl_la1 = DE_fl_la[DE_fl_la['YEAR']<= 2010]\n",
    "DE_fl_la1.groupby('STNAME')['Death Rate (%)'].mean()"
   ]
  },
  {
   "cell_type": "code",
   "execution_count": 277,
   "metadata": {},
   "outputs": [
    {
     "data": {
      "text/html": [
       "<div>\n",
       "<style scoped>\n",
       "    .dataframe tbody tr th:only-of-type {\n",
       "        vertical-align: middle;\n",
       "    }\n",
       "\n",
       "    .dataframe tbody tr th {\n",
       "        vertical-align: top;\n",
       "    }\n",
       "\n",
       "    .dataframe thead th {\n",
       "        text-align: right;\n",
       "    }\n",
       "</style>\n",
       "<table border=\"1\" class=\"dataframe\">\n",
       "  <thead>\n",
       "    <tr style=\"text-align: right;\">\n",
       "      <th></th>\n",
       "      <th>YEAR</th>\n",
       "      <th>Death Rate (%)</th>\n",
       "      <th>POPULATION</th>\n",
       "      <th>STNAME</th>\n",
       "      <th>CTYNAME</th>\n",
       "      <th>Indicator</th>\n",
       "    </tr>\n",
       "  </thead>\n",
       "  <tbody>\n",
       "    <tr>\n",
       "      <th>1746</th>\n",
       "      <td>2003.0</td>\n",
       "      <td>0.044122</td>\n",
       "      <td>65727.0</td>\n",
       "      <td>Louisiana</td>\n",
       "      <td>St. Bernard Parish</td>\n",
       "      <td>Control</td>\n",
       "    </tr>\n",
       "    <tr>\n",
       "      <th>1831</th>\n",
       "      <td>2005.0</td>\n",
       "      <td>0.039149</td>\n",
       "      <td>58750.0</td>\n",
       "      <td>Louisiana</td>\n",
       "      <td>Acadia Parish</td>\n",
       "      <td>Control</td>\n",
       "    </tr>\n",
       "    <tr>\n",
       "      <th>2066</th>\n",
       "      <td>2008.0</td>\n",
       "      <td>0.034511</td>\n",
       "      <td>37669.0</td>\n",
       "      <td>Louisiana</td>\n",
       "      <td>St. Bernard Parish</td>\n",
       "      <td>Control</td>\n",
       "    </tr>\n",
       "  </tbody>\n",
       "</table>\n",
       "</div>"
      ],
      "text/plain": [
       "        YEAR  Death Rate (%)  POPULATION     STNAME             CTYNAME  \\\n",
       "1746  2003.0        0.044122     65727.0  Louisiana  St. Bernard Parish   \n",
       "1831  2005.0        0.039149     58750.0  Louisiana       Acadia Parish   \n",
       "2066  2008.0        0.034511     37669.0  Louisiana  St. Bernard Parish   \n",
       "\n",
       "     Indicator  \n",
       "1746   Control  \n",
       "1831   Control  \n",
       "2066   Control  "
      ]
     },
     "execution_count": 277,
     "metadata": {},
     "output_type": "execute_result"
    }
   ],
   "source": [
    "# death to LA by CTYNAME before 2010 top 3 county \n",
    "DE_fl_la1.groupby('CTYNAME')['Death Rate (%)'].mean()\n",
    "DE_fl_la2010 = DE_fl_la1[DE_fl_la1['YEAR'] <= 2010].sort_values(ascending=False,by='Death Rate (%)')\n",
    "DE_fl_la2010.head(3)"
   ]
  },
  {
   "cell_type": "code",
   "execution_count": 278,
   "metadata": {},
   "outputs": [
    {
     "data": {
      "text/plain": [
       "STNAME\n",
       "Louisiana    0.028134\n",
       "Name: Death Rate (%), dtype: float64"
      ]
     },
     "execution_count": 278,
     "metadata": {},
     "output_type": "execute_result"
    }
   ],
   "source": [
    "# fl death in LA after 2010\n",
    "DE_fl_la2 = DE_fl_la[DE_fl_la['YEAR']> 2010]    \n",
    "DE_fl_la2.groupby('STNAME')['Death Rate (%)'].mean()\n"
   ]
  },
  {
   "cell_type": "code",
   "execution_count": 279,
   "metadata": {},
   "outputs": [
    {
     "data": {
      "text/html": [
       "<div>\n",
       "<style scoped>\n",
       "    .dataframe tbody tr th:only-of-type {\n",
       "        vertical-align: middle;\n",
       "    }\n",
       "\n",
       "    .dataframe tbody tr th {\n",
       "        vertical-align: top;\n",
       "    }\n",
       "\n",
       "    .dataframe thead th {\n",
       "        text-align: right;\n",
       "    }\n",
       "</style>\n",
       "<table border=\"1\" class=\"dataframe\">\n",
       "  <thead>\n",
       "    <tr style=\"text-align: right;\">\n",
       "      <th></th>\n",
       "      <th>YEAR</th>\n",
       "      <th>Death Rate (%)</th>\n",
       "      <th>POPULATION</th>\n",
       "      <th>STNAME</th>\n",
       "      <th>CTYNAME</th>\n",
       "      <th>Indicator</th>\n",
       "    </tr>\n",
       "  </thead>\n",
       "  <tbody>\n",
       "    <tr>\n",
       "      <th>2529</th>\n",
       "      <td>2015.0</td>\n",
       "      <td>0.038822</td>\n",
       "      <td>46365.0</td>\n",
       "      <td>Louisiana</td>\n",
       "      <td>Washington Parish</td>\n",
       "      <td>Control</td>\n",
       "    </tr>\n",
       "    <tr>\n",
       "      <th>2386</th>\n",
       "      <td>2013.0</td>\n",
       "      <td>0.034526</td>\n",
       "      <td>43446.0</td>\n",
       "      <td>Louisiana</td>\n",
       "      <td>St. Bernard Parish</td>\n",
       "      <td>Control</td>\n",
       "    </tr>\n",
       "    <tr>\n",
       "      <th>2399</th>\n",
       "      <td>2013.0</td>\n",
       "      <td>0.034285</td>\n",
       "      <td>59286.0</td>\n",
       "      <td>Louisiana</td>\n",
       "      <td>Vermilion Parish</td>\n",
       "      <td>Control</td>\n",
       "    </tr>\n",
       "  </tbody>\n",
       "</table>\n",
       "</div>"
      ],
      "text/plain": [
       "        YEAR  Death Rate (%)  POPULATION     STNAME             CTYNAME  \\\n",
       "2529  2015.0        0.038822     46365.0  Louisiana   Washington Parish   \n",
       "2386  2013.0        0.034526     43446.0  Louisiana  St. Bernard Parish   \n",
       "2399  2013.0        0.034285     59286.0  Louisiana    Vermilion Parish   \n",
       "\n",
       "     Indicator  \n",
       "2529   Control  \n",
       "2386   Control  \n",
       "2399   Control  "
      ]
     },
     "execution_count": 279,
     "metadata": {},
     "output_type": "execute_result"
    }
   ],
   "source": [
    "# death to LA by CTYNAME after 2010 top 3 county \n",
    "DE_fl_la2.groupby('CTYNAME')['Death Rate (%)'].mean()\n",
    "DE_fl_la_after_2010 = DE_fl_la2[DE_fl_la2['YEAR'] > 2010].sort_values(ascending=False,by='Death Rate (%)')\n",
    "DE_fl_la_after_2010.head(3)"
   ]
  },
  {
   "cell_type": "code",
   "execution_count": 280,
   "metadata": {},
   "outputs": [
    {
     "data": {
      "text/html": [
       "<div>\n",
       "<style scoped>\n",
       "    .dataframe tbody tr th:only-of-type {\n",
       "        vertical-align: middle;\n",
       "    }\n",
       "\n",
       "    .dataframe tbody tr th {\n",
       "        vertical-align: top;\n",
       "    }\n",
       "\n",
       "    .dataframe thead th {\n",
       "        text-align: right;\n",
       "    }\n",
       "</style>\n",
       "<table border=\"1\" class=\"dataframe\">\n",
       "  <thead>\n",
       "    <tr style=\"text-align: right;\">\n",
       "      <th></th>\n",
       "      <th>YEAR</th>\n",
       "      <th>Death Rate (%)</th>\n",
       "      <th>POPULATION</th>\n",
       "      <th>STNAME</th>\n",
       "      <th>CTYNAME</th>\n",
       "      <th>Indicator</th>\n",
       "    </tr>\n",
       "  </thead>\n",
       "  <tbody>\n",
       "    <tr>\n",
       "      <th>2529</th>\n",
       "      <td>2015.0</td>\n",
       "      <td>0.038822</td>\n",
       "      <td>46365.0</td>\n",
       "      <td>Louisiana</td>\n",
       "      <td>Washington Parish</td>\n",
       "      <td>Control</td>\n",
       "    </tr>\n",
       "    <tr>\n",
       "      <th>2386</th>\n",
       "      <td>2013.0</td>\n",
       "      <td>0.034526</td>\n",
       "      <td>43446.0</td>\n",
       "      <td>Louisiana</td>\n",
       "      <td>St. Bernard Parish</td>\n",
       "      <td>Control</td>\n",
       "    </tr>\n",
       "    <tr>\n",
       "      <th>2399</th>\n",
       "      <td>2013.0</td>\n",
       "      <td>0.034285</td>\n",
       "      <td>59286.0</td>\n",
       "      <td>Louisiana</td>\n",
       "      <td>Vermilion Parish</td>\n",
       "      <td>Control</td>\n",
       "    </tr>\n",
       "  </tbody>\n",
       "</table>\n",
       "</div>"
      ],
      "text/plain": [
       "        YEAR  Death Rate (%)  POPULATION     STNAME             CTYNAME  \\\n",
       "2529  2015.0        0.038822     46365.0  Louisiana   Washington Parish   \n",
       "2386  2013.0        0.034526     43446.0  Louisiana  St. Bernard Parish   \n",
       "2399  2013.0        0.034285     59286.0  Louisiana    Vermilion Parish   \n",
       "\n",
       "     Indicator  \n",
       "2529   Control  \n",
       "2386   Control  \n",
       "2399   Control  "
      ]
     },
     "execution_count": 280,
     "metadata": {},
     "output_type": "execute_result"
    }
   ],
   "source": [
    "# death to LA by CTYNAME after 2010 top 3 county\n",
    "DE_fl_la2015 = DE_fl_la2[DE_fl_la2['YEAR'] > 2010].sort_values(ascending=False,by='Death Rate (%)')\n",
    "DE_fl_la2015.head(3)"
   ]
  },
  {
   "cell_type": "code",
   "execution_count": 281,
   "metadata": {},
   "outputs": [
    {
     "data": {
      "text/plain": [
       "STNAME\n",
       "Nevada    0.02714\n",
       "Name: Death Rate (%), dtype: float64"
      ]
     },
     "execution_count": 281,
     "metadata": {},
     "output_type": "execute_result"
    }
   ],
   "source": [
    "# fl death in NV before 2010\n",
    "DE_fl_nv = DE_fl[DE_fl['STNAME'] == 'Nevada']\n",
    "DE_fl_nv1 = DE_fl_nv[DE_fl_nv['YEAR']<= 2010]\n",
    "DE_fl_nv1.groupby('STNAME')['Death Rate (%)'].mean()"
   ]
  },
  {
   "cell_type": "code",
   "execution_count": 282,
   "metadata": {},
   "outputs": [
    {
     "data": {
      "text/html": [
       "<div>\n",
       "<style scoped>\n",
       "    .dataframe tbody tr th:only-of-type {\n",
       "        vertical-align: middle;\n",
       "    }\n",
       "\n",
       "    .dataframe tbody tr th {\n",
       "        vertical-align: top;\n",
       "    }\n",
       "\n",
       "    .dataframe thead th {\n",
       "        text-align: right;\n",
       "    }\n",
       "</style>\n",
       "<table border=\"1\" class=\"dataframe\">\n",
       "  <thead>\n",
       "    <tr style=\"text-align: right;\">\n",
       "      <th></th>\n",
       "      <th>YEAR</th>\n",
       "      <th>Death Rate (%)</th>\n",
       "      <th>POPULATION</th>\n",
       "      <th>STNAME</th>\n",
       "      <th>CTYNAME</th>\n",
       "      <th>Indicator</th>\n",
       "    </tr>\n",
       "  </thead>\n",
       "  <tbody>\n",
       "    <tr>\n",
       "      <th>2665</th>\n",
       "      <td>2010.0</td>\n",
       "      <td>0.038770</td>\n",
       "      <td>43848.0</td>\n",
       "      <td>Nevada</td>\n",
       "      <td>Nye County</td>\n",
       "      <td>Control</td>\n",
       "    </tr>\n",
       "    <tr>\n",
       "      <th>2555</th>\n",
       "      <td>2004.0</td>\n",
       "      <td>0.033723</td>\n",
       "      <td>43569.0</td>\n",
       "      <td>Nevada</td>\n",
       "      <td>Elko County</td>\n",
       "      <td>Control</td>\n",
       "    </tr>\n",
       "    <tr>\n",
       "      <th>2561</th>\n",
       "      <td>2004.0</td>\n",
       "      <td>0.033723</td>\n",
       "      <td>42846.0</td>\n",
       "      <td>Nevada</td>\n",
       "      <td>Lyon County</td>\n",
       "      <td>Control</td>\n",
       "    </tr>\n",
       "  </tbody>\n",
       "</table>\n",
       "</div>"
      ],
      "text/plain": [
       "        YEAR  Death Rate (%)  POPULATION  STNAME      CTYNAME Indicator\n",
       "2665  2010.0        0.038770     43848.0  Nevada   Nye County   Control\n",
       "2555  2004.0        0.033723     43569.0  Nevada  Elko County   Control\n",
       "2561  2004.0        0.033723     42846.0  Nevada  Lyon County   Control"
      ]
     },
     "execution_count": 282,
     "metadata": {},
     "output_type": "execute_result"
    }
   ],
   "source": [
    "# death to NV by CTYNAME before 2010 top 3 county \n",
    "DE_fl_nv1.groupby('CTYNAME')['Death Rate (%)'].mean()\n",
    "DE_fl_nv2010 = DE_fl_nv1[DE_fl_nv1['YEAR'] <= 2010].sort_values(ascending=False,by='Death Rate (%)')\n",
    "DE_fl_nv2010.head(3)"
   ]
  },
  {
   "cell_type": "code",
   "execution_count": 283,
   "metadata": {},
   "outputs": [
    {
     "data": {
      "text/plain": [
       "STNAME\n",
       "Nevada    0.027964\n",
       "Name: Death Rate (%), dtype: float64"
      ]
     },
     "execution_count": 283,
     "metadata": {},
     "output_type": "execute_result"
    }
   ],
   "source": [
    "# fl death in NV after 2010\n",
    "DE_fl_nv = DE_fl[DE_fl['STNAME'] == 'Nevada']\n",
    "DE_fl_nv2 = DE_fl_nv[DE_fl_nv['YEAR']> 2010]\n",
    "DE_fl_nv2.groupby('STNAME')['Death Rate (%)'].mean()"
   ]
  },
  {
   "cell_type": "code",
   "execution_count": 284,
   "metadata": {},
   "outputs": [
    {
     "data": {
      "text/html": [
       "<div>\n",
       "<style scoped>\n",
       "    .dataframe tbody tr th:only-of-type {\n",
       "        vertical-align: middle;\n",
       "    }\n",
       "\n",
       "    .dataframe tbody tr th {\n",
       "        vertical-align: top;\n",
       "    }\n",
       "\n",
       "    .dataframe thead th {\n",
       "        text-align: right;\n",
       "    }\n",
       "</style>\n",
       "<table border=\"1\" class=\"dataframe\">\n",
       "  <thead>\n",
       "    <tr style=\"text-align: right;\">\n",
       "      <th></th>\n",
       "      <th>YEAR</th>\n",
       "      <th>Death Rate (%)</th>\n",
       "      <th>POPULATION</th>\n",
       "      <th>STNAME</th>\n",
       "      <th>CTYNAME</th>\n",
       "      <th>Indicator</th>\n",
       "    </tr>\n",
       "  </thead>\n",
       "  <tbody>\n",
       "    <tr>\n",
       "      <th>2755</th>\n",
       "      <td>2015.0</td>\n",
       "      <td>0.044320</td>\n",
       "      <td>54152.0</td>\n",
       "      <td>Nevada</td>\n",
       "      <td>Carson City</td>\n",
       "      <td>Control</td>\n",
       "    </tr>\n",
       "    <tr>\n",
       "      <th>2750</th>\n",
       "      <td>2015.0</td>\n",
       "      <td>0.034877</td>\n",
       "      <td>43008.0</td>\n",
       "      <td>Nevada</td>\n",
       "      <td>Nye County</td>\n",
       "      <td>Control</td>\n",
       "    </tr>\n",
       "    <tr>\n",
       "      <th>2716</th>\n",
       "      <td>2013.0</td>\n",
       "      <td>0.033723</td>\n",
       "      <td>42905.0</td>\n",
       "      <td>Nevada</td>\n",
       "      <td>Nye County</td>\n",
       "      <td>Control</td>\n",
       "    </tr>\n",
       "  </tbody>\n",
       "</table>\n",
       "</div>"
      ],
      "text/plain": [
       "        YEAR  Death Rate (%)  POPULATION  STNAME      CTYNAME Indicator\n",
       "2755  2015.0        0.044320     54152.0  Nevada  Carson City   Control\n",
       "2750  2015.0        0.034877     43008.0  Nevada   Nye County   Control\n",
       "2716  2013.0        0.033723     42905.0  Nevada   Nye County   Control"
      ]
     },
     "execution_count": 284,
     "metadata": {},
     "output_type": "execute_result"
    }
   ],
   "source": [
    "# death to NV by CTYNAME after 2010 top 3 county \n",
    "DE_fl_nv_after_2010 = DE_fl_nv2[DE_fl_nv2['YEAR'] >2010].sort_values(ascending=False,by='Death Rate (%)')\n",
    "DE_fl_nv_after_2010.head(3)"
   ]
  },
  {
   "cell_type": "code",
   "execution_count": 285,
   "metadata": {},
   "outputs": [
    {
     "data": {
      "text/plain": [
       "STNAME\n",
       "Colorado    0.028136\n",
       "Name: Death Rate (%), dtype: float64"
      ]
     },
     "execution_count": 285,
     "metadata": {},
     "output_type": "execute_result"
    }
   ],
   "source": [
    "# fl death in CO before 2010\n",
    "DE_fl_co = DE_fl[DE_fl['STNAME'] == 'Colorado']\n",
    "DE_fl_co1 = DE_fl_co[DE_fl_co['YEAR']<= 2010]\n",
    "DE_fl_co1.groupby('STNAME')['Death Rate (%)'].mean()"
   ]
  },
  {
   "cell_type": "code",
   "execution_count": 286,
   "metadata": {},
   "outputs": [
    {
     "data": {
      "text/html": [
       "<div>\n",
       "<style scoped>\n",
       "    .dataframe tbody tr th:only-of-type {\n",
       "        vertical-align: middle;\n",
       "    }\n",
       "\n",
       "    .dataframe tbody tr th {\n",
       "        vertical-align: top;\n",
       "    }\n",
       "\n",
       "    .dataframe thead th {\n",
       "        text-align: right;\n",
       "    }\n",
       "</style>\n",
       "<table border=\"1\" class=\"dataframe\">\n",
       "  <thead>\n",
       "    <tr style=\"text-align: right;\">\n",
       "      <th></th>\n",
       "      <th>YEAR</th>\n",
       "      <th>Death Rate (%)</th>\n",
       "      <th>POPULATION</th>\n",
       "      <th>STNAME</th>\n",
       "      <th>CTYNAME</th>\n",
       "      <th>Indicator</th>\n",
       "    </tr>\n",
       "  </thead>\n",
       "  <tbody>\n",
       "    <tr>\n",
       "      <th>511</th>\n",
       "      <td>2010.0</td>\n",
       "      <td>0.031644</td>\n",
       "      <td>10054.0</td>\n",
       "      <td>Colorado</td>\n",
       "      <td>Yuma County</td>\n",
       "      <td>Control</td>\n",
       "    </tr>\n",
       "    <tr>\n",
       "      <th>296</th>\n",
       "      <td>2007.0</td>\n",
       "      <td>0.031644</td>\n",
       "      <td>963.0</td>\n",
       "      <td>Colorado</td>\n",
       "      <td>Mineral County</td>\n",
       "      <td>Control</td>\n",
       "    </tr>\n",
       "    <tr>\n",
       "      <th>294</th>\n",
       "      <td>2007.0</td>\n",
       "      <td>0.031644</td>\n",
       "      <td>20908.0</td>\n",
       "      <td>Colorado</td>\n",
       "      <td>Logan County</td>\n",
       "      <td>Control</td>\n",
       "    </tr>\n",
       "  </tbody>\n",
       "</table>\n",
       "</div>"
      ],
      "text/plain": [
       "       YEAR  Death Rate (%)  POPULATION    STNAME         CTYNAME Indicator\n",
       "511  2010.0        0.031644     10054.0  Colorado     Yuma County   Control\n",
       "296  2007.0        0.031644       963.0  Colorado  Mineral County   Control\n",
       "294  2007.0        0.031644     20908.0  Colorado    Logan County   Control"
      ]
     },
     "execution_count": 286,
     "metadata": {},
     "output_type": "execute_result"
    }
   ],
   "source": [
    "# death to NV by CTYNAME before 2010 top 3 county \n",
    "DE_fl_co1.groupby('CTYNAME')['Death Rate (%)'].mean()\n",
    "DE_fl_co2010 = DE_fl_co1[DE_fl_co1['YEAR'] <= 2010].sort_values(ascending=False,by='Death Rate (%)')\n",
    "DE_fl_co2010.head(3)"
   ]
  },
  {
   "cell_type": "code",
   "execution_count": 287,
   "metadata": {},
   "outputs": [
    {
     "data": {
      "text/plain": [
       "STNAME\n",
       "Colorado    0.028874\n",
       "Name: Death Rate (%), dtype: float64"
      ]
     },
     "execution_count": 287,
     "metadata": {},
     "output_type": "execute_result"
    }
   ],
   "source": [
    "# fl death in CO after 2010\n",
    "DE_fl_co = DE_fl[DE_fl['STNAME'] == 'Colorado']\n",
    "DE_fl_co2 = DE_fl_co[DE_fl_co['YEAR']> 2010]\n",
    "DE_fl_co2.groupby('STNAME')['Death Rate (%)'].mean()"
   ]
  },
  {
   "cell_type": "code",
   "execution_count": 288,
   "metadata": {},
   "outputs": [
    {
     "data": {
      "text/html": [
       "<div>\n",
       "<style scoped>\n",
       "    .dataframe tbody tr th:only-of-type {\n",
       "        vertical-align: middle;\n",
       "    }\n",
       "\n",
       "    .dataframe tbody tr th {\n",
       "        vertical-align: top;\n",
       "    }\n",
       "\n",
       "    .dataframe thead th {\n",
       "        text-align: right;\n",
       "    }\n",
       "</style>\n",
       "<table border=\"1\" class=\"dataframe\">\n",
       "  <thead>\n",
       "    <tr style=\"text-align: right;\">\n",
       "      <th></th>\n",
       "      <th>YEAR</th>\n",
       "      <th>Death Rate (%)</th>\n",
       "      <th>POPULATION</th>\n",
       "      <th>STNAME</th>\n",
       "      <th>CTYNAME</th>\n",
       "      <th>Indicator</th>\n",
       "    </tr>\n",
       "  </thead>\n",
       "  <tbody>\n",
       "    <tr>\n",
       "      <th>804</th>\n",
       "      <td>2015.0</td>\n",
       "      <td>0.078303</td>\n",
       "      <td>14048.0</td>\n",
       "      <td>Colorado</td>\n",
       "      <td>Las Animas County</td>\n",
       "      <td>Control</td>\n",
       "    </tr>\n",
       "    <tr>\n",
       "      <th>672</th>\n",
       "      <td>2013.0</td>\n",
       "      <td>0.031644</td>\n",
       "      <td>8259.0</td>\n",
       "      <td>Colorado</td>\n",
       "      <td>Kit Carson County</td>\n",
       "      <td>Control</td>\n",
       "    </tr>\n",
       "    <tr>\n",
       "      <th>723</th>\n",
       "      <td>2014.0</td>\n",
       "      <td>0.031644</td>\n",
       "      <td>53276.0</td>\n",
       "      <td>Colorado</td>\n",
       "      <td>Eagle County</td>\n",
       "      <td>Control</td>\n",
       "    </tr>\n",
       "  </tbody>\n",
       "</table>\n",
       "</div>"
      ],
      "text/plain": [
       "       YEAR  Death Rate (%)  POPULATION    STNAME            CTYNAME Indicator\n",
       "804  2015.0        0.078303     14048.0  Colorado  Las Animas County   Control\n",
       "672  2013.0        0.031644      8259.0  Colorado  Kit Carson County   Control\n",
       "723  2014.0        0.031644     53276.0  Colorado       Eagle County   Control"
      ]
     },
     "execution_count": 288,
     "metadata": {},
     "output_type": "execute_result"
    }
   ],
   "source": [
    "# death to NV by CTYNAME after 2010 top 3 county \n",
    "DE_fl_co_after_2010 = DE_fl_co2[DE_fl_co2['YEAR'] >2010].sort_values(ascending=False,by='Death Rate (%)')\n",
    "DE_fl_co_after_2010.head(3)"
   ]
  },
  {
   "cell_type": "code",
   "execution_count": 289,
   "metadata": {},
   "outputs": [
    {
     "data": {
      "text/plain": [
       "STNAME\n",
       "Florida    0.019845\n",
       "Name: Death Rate (%), dtype: float64"
      ]
     },
     "execution_count": 289,
     "metadata": {},
     "output_type": "execute_result"
    }
   ],
   "source": [
    "# fl death in fl before 2010\n",
    "DE_fl_fl = DE_fl[DE_fl['STNAME'] == 'Florida']\n",
    "DE_fl_fl1 = DE_fl_fl[DE_fl_fl['YEAR']<= 2010]\n",
    "DE_fl_fl1.groupby('STNAME')['Death Rate (%)'].mean()"
   ]
  },
  {
   "cell_type": "code",
   "execution_count": 290,
   "metadata": {},
   "outputs": [
    {
     "data": {
      "text/html": [
       "<div>\n",
       "<style scoped>\n",
       "    .dataframe tbody tr th:only-of-type {\n",
       "        vertical-align: middle;\n",
       "    }\n",
       "\n",
       "    .dataframe tbody tr th {\n",
       "        vertical-align: top;\n",
       "    }\n",
       "\n",
       "    .dataframe thead th {\n",
       "        text-align: right;\n",
       "    }\n",
       "</style>\n",
       "<table border=\"1\" class=\"dataframe\">\n",
       "  <thead>\n",
       "    <tr style=\"text-align: right;\">\n",
       "      <th></th>\n",
       "      <th>YEAR</th>\n",
       "      <th>Death Rate (%)</th>\n",
       "      <th>POPULATION</th>\n",
       "      <th>STNAME</th>\n",
       "      <th>CTYNAME</th>\n",
       "      <th>Indicator</th>\n",
       "    </tr>\n",
       "  </thead>\n",
       "  <tbody>\n",
       "    <tr>\n",
       "      <th>511</th>\n",
       "      <td>2010.0</td>\n",
       "      <td>0.031644</td>\n",
       "      <td>10054.0</td>\n",
       "      <td>Colorado</td>\n",
       "      <td>Yuma County</td>\n",
       "      <td>Control</td>\n",
       "    </tr>\n",
       "    <tr>\n",
       "      <th>296</th>\n",
       "      <td>2007.0</td>\n",
       "      <td>0.031644</td>\n",
       "      <td>963.0</td>\n",
       "      <td>Colorado</td>\n",
       "      <td>Mineral County</td>\n",
       "      <td>Control</td>\n",
       "    </tr>\n",
       "    <tr>\n",
       "      <th>294</th>\n",
       "      <td>2007.0</td>\n",
       "      <td>0.031644</td>\n",
       "      <td>20908.0</td>\n",
       "      <td>Colorado</td>\n",
       "      <td>Logan County</td>\n",
       "      <td>Control</td>\n",
       "    </tr>\n",
       "  </tbody>\n",
       "</table>\n",
       "</div>"
      ],
      "text/plain": [
       "       YEAR  Death Rate (%)  POPULATION    STNAME         CTYNAME Indicator\n",
       "511  2010.0        0.031644     10054.0  Colorado     Yuma County   Control\n",
       "296  2007.0        0.031644       963.0  Colorado  Mineral County   Control\n",
       "294  2007.0        0.031644     20908.0  Colorado    Logan County   Control"
      ]
     },
     "execution_count": 290,
     "metadata": {},
     "output_type": "execute_result"
    }
   ],
   "source": [
    "# death to fl by CTYNAME before 2010 top 3 county \n",
    "DE_fl_co1.groupby('CTYNAME')['Death Rate (%)'].mean()\n",
    "DE_fl_co_2010 = DE_fl_co1[DE_fl_co1['YEAR'] <= 2010].sort_values(ascending=False,by='Death Rate (%)')\n",
    "DE_fl_co_2010.head(3)"
   ]
  },
  {
   "cell_type": "code",
   "execution_count": 291,
   "metadata": {},
   "outputs": [
    {
     "data": {
      "text/plain": [
       "STNAME\n",
       "Florida    0.019615\n",
       "Name: Death Rate (%), dtype: float64"
      ]
     },
     "execution_count": 291,
     "metadata": {},
     "output_type": "execute_result"
    }
   ],
   "source": [
    "# fl death in fl after 2010\n",
    "DE_fl_fl = DE_fl[DE_fl['STNAME'] == 'Florida']\n",
    "DE_fl_fl2 = DE_fl_fl[DE_fl_fl['YEAR'] > 2010]\n",
    "DE_fl_fl2.groupby('STNAME')['Death Rate (%)'].mean()"
   ]
  },
  {
   "cell_type": "code",
   "execution_count": 292,
   "metadata": {},
   "outputs": [
    {
     "data": {
      "text/html": [
       "<div>\n",
       "<style scoped>\n",
       "    .dataframe tbody tr th:only-of-type {\n",
       "        vertical-align: middle;\n",
       "    }\n",
       "\n",
       "    .dataframe tbody tr th {\n",
       "        vertical-align: top;\n",
       "    }\n",
       "\n",
       "    .dataframe thead th {\n",
       "        text-align: right;\n",
       "    }\n",
       "</style>\n",
       "<table border=\"1\" class=\"dataframe\">\n",
       "  <thead>\n",
       "    <tr style=\"text-align: right;\">\n",
       "      <th></th>\n",
       "      <th>YEAR</th>\n",
       "      <th>Death Rate (%)</th>\n",
       "      <th>POPULATION</th>\n",
       "      <th>STNAME</th>\n",
       "      <th>CTYNAME</th>\n",
       "      <th>Indicator</th>\n",
       "    </tr>\n",
       "  </thead>\n",
       "  <tbody>\n",
       "    <tr>\n",
       "      <th>804</th>\n",
       "      <td>2015.0</td>\n",
       "      <td>0.078303</td>\n",
       "      <td>14048.0</td>\n",
       "      <td>Colorado</td>\n",
       "      <td>Las Animas County</td>\n",
       "      <td>Control</td>\n",
       "    </tr>\n",
       "    <tr>\n",
       "      <th>672</th>\n",
       "      <td>2013.0</td>\n",
       "      <td>0.031644</td>\n",
       "      <td>8259.0</td>\n",
       "      <td>Colorado</td>\n",
       "      <td>Kit Carson County</td>\n",
       "      <td>Control</td>\n",
       "    </tr>\n",
       "    <tr>\n",
       "      <th>723</th>\n",
       "      <td>2014.0</td>\n",
       "      <td>0.031644</td>\n",
       "      <td>53276.0</td>\n",
       "      <td>Colorado</td>\n",
       "      <td>Eagle County</td>\n",
       "      <td>Control</td>\n",
       "    </tr>\n",
       "  </tbody>\n",
       "</table>\n",
       "</div>"
      ],
      "text/plain": [
       "       YEAR  Death Rate (%)  POPULATION    STNAME            CTYNAME Indicator\n",
       "804  2015.0        0.078303     14048.0  Colorado  Las Animas County   Control\n",
       "672  2013.0        0.031644      8259.0  Colorado  Kit Carson County   Control\n",
       "723  2014.0        0.031644     53276.0  Colorado       Eagle County   Control"
      ]
     },
     "execution_count": 292,
     "metadata": {},
     "output_type": "execute_result"
    }
   ],
   "source": [
    "# death to fl by CTYNAME after 2010 top 3 county \n",
    "DE_fl_co2.groupby('CTYNAME')['Death Rate (%)'].mean()\n",
    "DE_fl_co_after_2010 = DE_fl_co2[DE_fl_co2['YEAR'] > 2010].sort_values(ascending=False,by='Death Rate (%)')\n",
    "DE_fl_co_after_2010.head(3)"
   ]
  },
  {
   "cell_type": "markdown",
   "metadata": {},
   "source": [
    "### Washington--OR,OK,HI"
   ]
  },
  {
   "cell_type": "code",
   "execution_count": 293,
   "metadata": {},
   "outputs": [
    {
     "data": {
      "text/html": [
       "<div>\n",
       "<style scoped>\n",
       "    .dataframe tbody tr th:only-of-type {\n",
       "        vertical-align: middle;\n",
       "    }\n",
       "\n",
       "    .dataframe tbody tr th {\n",
       "        vertical-align: top;\n",
       "    }\n",
       "\n",
       "    .dataframe thead th {\n",
       "        text-align: right;\n",
       "    }\n",
       "</style>\n",
       "<table border=\"1\" class=\"dataframe\">\n",
       "  <thead>\n",
       "    <tr style=\"text-align: right;\">\n",
       "      <th></th>\n",
       "      <th>YEAR</th>\n",
       "      <th>Death Rate (%)</th>\n",
       "      <th>POPULATION</th>\n",
       "      <th>STNAME</th>\n",
       "      <th>CTYNAME</th>\n",
       "      <th>Indicator</th>\n",
       "    </tr>\n",
       "  </thead>\n",
       "  <tbody>\n",
       "    <tr>\n",
       "      <th>0</th>\n",
       "      <td>2003.0</td>\n",
       "      <td>0.007036</td>\n",
       "      <td>156340.0</td>\n",
       "      <td>Hawaii</td>\n",
       "      <td>Hawaii County</td>\n",
       "      <td>Control</td>\n",
       "    </tr>\n",
       "    <tr>\n",
       "      <th>1</th>\n",
       "      <td>2003.0</td>\n",
       "      <td>0.006982</td>\n",
       "      <td>888026.0</td>\n",
       "      <td>Hawaii</td>\n",
       "      <td>Honolulu County</td>\n",
       "      <td>Control</td>\n",
       "    </tr>\n",
       "    <tr>\n",
       "      <th>2</th>\n",
       "      <td>2003.0</td>\n",
       "      <td>0.012706</td>\n",
       "      <td>129.0</td>\n",
       "      <td>Hawaii</td>\n",
       "      <td>Kalawao County</td>\n",
       "      <td>Control</td>\n",
       "    </tr>\n",
       "    <tr>\n",
       "      <th>3</th>\n",
       "      <td>2003.0</td>\n",
       "      <td>0.012706</td>\n",
       "      <td>60061.0</td>\n",
       "      <td>Hawaii</td>\n",
       "      <td>Kauai County</td>\n",
       "      <td>Control</td>\n",
       "    </tr>\n",
       "    <tr>\n",
       "      <th>4</th>\n",
       "      <td>2003.0</td>\n",
       "      <td>0.012706</td>\n",
       "      <td>134742.0</td>\n",
       "      <td>Hawaii</td>\n",
       "      <td>Maui County</td>\n",
       "      <td>Control</td>\n",
       "    </tr>\n",
       "  </tbody>\n",
       "</table>\n",
       "</div>"
      ],
      "text/plain": [
       "     YEAR  Death Rate (%)  POPULATION  STNAME          CTYNAME Indicator\n",
       "0  2003.0        0.007036    156340.0  Hawaii    Hawaii County   Control\n",
       "1  2003.0        0.006982    888026.0  Hawaii  Honolulu County   Control\n",
       "2  2003.0        0.012706       129.0  Hawaii   Kalawao County   Control\n",
       "3  2003.0        0.012706     60061.0  Hawaii     Kauai County   Control\n",
       "4  2003.0        0.012706    134742.0  Hawaii      Maui County   Control"
      ]
     },
     "execution_count": 293,
     "metadata": {},
     "output_type": "execute_result"
    }
   ],
   "source": [
    "url = 'https://raw.githubusercontent.com/MIDS-at-Duke/pds-2022-yellow-team/main/20_intermediate_files/washington_death_cleaned.csv?token=GHSAT0AAAAAABYIEB2ODIMZ43VYCTQDCDGYY4FUZLA'\n",
    "DE_wa = pd.read_csv(url)\n",
    "DE_wa.head()"
   ]
  },
  {
   "cell_type": "code",
   "execution_count": 294,
   "metadata": {},
   "outputs": [
    {
     "data": {
      "text/plain": [
       "STNAME\n",
       "Oregon    0.01858\n",
       "Name: Death Rate (%), dtype: float64"
      ]
     },
     "execution_count": 294,
     "metadata": {},
     "output_type": "execute_result"
    }
   ],
   "source": [
    "# WA death in OR before 2012\n",
    "DE_wa_or = DE_wa[DE_wa['STNAME'] == 'Oregon']\n",
    "DE_wa_or1 = DE_wa_or[DE_wa_or['YEAR']<= 2012]\n",
    "DE_wa_or1.groupby('STNAME')['Death Rate (%)'].mean()"
   ]
  },
  {
   "cell_type": "code",
   "execution_count": 295,
   "metadata": {},
   "outputs": [
    {
     "data": {
      "text/html": [
       "<div>\n",
       "<style scoped>\n",
       "    .dataframe tbody tr th:only-of-type {\n",
       "        vertical-align: middle;\n",
       "    }\n",
       "\n",
       "    .dataframe tbody tr th {\n",
       "        vertical-align: top;\n",
       "    }\n",
       "\n",
       "    .dataframe thead th {\n",
       "        text-align: right;\n",
       "    }\n",
       "</style>\n",
       "<table border=\"1\" class=\"dataframe\">\n",
       "  <thead>\n",
       "    <tr style=\"text-align: right;\">\n",
       "      <th></th>\n",
       "      <th>YEAR</th>\n",
       "      <th>Death Rate (%)</th>\n",
       "      <th>POPULATION</th>\n",
       "      <th>STNAME</th>\n",
       "      <th>CTYNAME</th>\n",
       "      <th>Indicator</th>\n",
       "    </tr>\n",
       "  </thead>\n",
       "  <tbody>\n",
       "    <tr>\n",
       "      <th>1357</th>\n",
       "      <td>2011.0</td>\n",
       "      <td>0.029537</td>\n",
       "      <td>37241.0</td>\n",
       "      <td>Oregon</td>\n",
       "      <td>Clatsop County</td>\n",
       "      <td>Control</td>\n",
       "    </tr>\n",
       "    <tr>\n",
       "      <th>1066</th>\n",
       "      <td>2003.0</td>\n",
       "      <td>0.023540</td>\n",
       "      <td>16270.0</td>\n",
       "      <td>Oregon</td>\n",
       "      <td>Baker County</td>\n",
       "      <td>Control</td>\n",
       "    </tr>\n",
       "    <tr>\n",
       "      <th>1312</th>\n",
       "      <td>2009.0</td>\n",
       "      <td>0.023540</td>\n",
       "      <td>25038.0</td>\n",
       "      <td>Oregon</td>\n",
       "      <td>Union County</td>\n",
       "      <td>Control</td>\n",
       "    </tr>\n",
       "  </tbody>\n",
       "</table>\n",
       "</div>"
      ],
      "text/plain": [
       "        YEAR  Death Rate (%)  POPULATION  STNAME         CTYNAME Indicator\n",
       "1357  2011.0        0.029537     37241.0  Oregon  Clatsop County   Control\n",
       "1066  2003.0        0.023540     16270.0  Oregon    Baker County   Control\n",
       "1312  2009.0        0.023540     25038.0  Oregon    Union County   Control"
      ]
     },
     "execution_count": 295,
     "metadata": {},
     "output_type": "execute_result"
    }
   ],
   "source": [
    "# death to OR by CTYNAME before 2012 top 3 county \n",
    "DE_wa_or1.groupby('CTYNAME')['Death Rate (%)'].mean()\n",
    "DE_wa_or_2012 = DE_wa_or1[DE_wa_or1['YEAR'] <= 2012].sort_values(ascending=False,by='Death Rate (%)')\n",
    "DE_wa_or_2012.head(3)"
   ]
  },
  {
   "cell_type": "code",
   "execution_count": 296,
   "metadata": {},
   "outputs": [
    {
     "data": {
      "text/plain": [
       "STNAME\n",
       "Oregon    0.018523\n",
       "Name: Death Rate (%), dtype: float64"
      ]
     },
     "execution_count": 296,
     "metadata": {},
     "output_type": "execute_result"
    }
   ],
   "source": [
    "# WA death in OR after 2012\n",
    "DE_wa_or2 = DE_wa_or[DE_wa_or['YEAR']> 2012]\n",
    "DE_wa_or2.groupby('STNAME')['Death Rate (%)'].mean()"
   ]
  },
  {
   "cell_type": "code",
   "execution_count": 297,
   "metadata": {},
   "outputs": [
    {
     "data": {
      "text/html": [
       "<div>\n",
       "<style scoped>\n",
       "    .dataframe tbody tr th:only-of-type {\n",
       "        vertical-align: middle;\n",
       "    }\n",
       "\n",
       "    .dataframe tbody tr th {\n",
       "        vertical-align: top;\n",
       "    }\n",
       "\n",
       "    .dataframe thead th {\n",
       "        text-align: right;\n",
       "    }\n",
       "</style>\n",
       "<table border=\"1\" class=\"dataframe\">\n",
       "  <thead>\n",
       "    <tr style=\"text-align: right;\">\n",
       "      <th></th>\n",
       "      <th>YEAR</th>\n",
       "      <th>Death Rate (%)</th>\n",
       "      <th>POPULATION</th>\n",
       "      <th>STNAME</th>\n",
       "      <th>CTYNAME</th>\n",
       "      <th>Indicator</th>\n",
       "    </tr>\n",
       "  </thead>\n",
       "  <tbody>\n",
       "    <tr>\n",
       "      <th>1482</th>\n",
       "      <td>2014.0</td>\n",
       "      <td>0.025872</td>\n",
       "      <td>46383.0</td>\n",
       "      <td>Oregon</td>\n",
       "      <td>Lincoln County</td>\n",
       "      <td>Control</td>\n",
       "    </tr>\n",
       "    <tr>\n",
       "      <th>1484</th>\n",
       "      <td>2014.0</td>\n",
       "      <td>0.023540</td>\n",
       "      <td>30354.0</td>\n",
       "      <td>Oregon</td>\n",
       "      <td>Malheur County</td>\n",
       "      <td>Control</td>\n",
       "    </tr>\n",
       "    <tr>\n",
       "      <th>1496</th>\n",
       "      <td>2014.0</td>\n",
       "      <td>0.023540</td>\n",
       "      <td>1351.0</td>\n",
       "      <td>Oregon</td>\n",
       "      <td>Wheeler County</td>\n",
       "      <td>Control</td>\n",
       "    </tr>\n",
       "  </tbody>\n",
       "</table>\n",
       "</div>"
      ],
      "text/plain": [
       "        YEAR  Death Rate (%)  POPULATION  STNAME         CTYNAME Indicator\n",
       "1482  2014.0        0.025872     46383.0  Oregon  Lincoln County   Control\n",
       "1484  2014.0        0.023540     30354.0  Oregon  Malheur County   Control\n",
       "1496  2014.0        0.023540      1351.0  Oregon  Wheeler County   Control"
      ]
     },
     "execution_count": 297,
     "metadata": {},
     "output_type": "execute_result"
    }
   ],
   "source": [
    "# death to OR by CTYNAME after 2012 top 3 county \n",
    "DE_wa_or1.groupby('CTYNAME')['Death Rate (%)'].mean()\n",
    "DE_wa_or_after_2012 = DE_wa_or2[DE_wa_or2['YEAR'] > 2012].sort_values(ascending=False,by='Death Rate (%)')\n",
    "DE_wa_or_after_2012.head(3)"
   ]
  },
  {
   "cell_type": "code",
   "execution_count": 298,
   "metadata": {},
   "outputs": [
    {
     "data": {
      "text/plain": [
       "STNAME\n",
       "Oklahoma    0.029246\n",
       "Name: Death Rate (%), dtype: float64"
      ]
     },
     "execution_count": 298,
     "metadata": {},
     "output_type": "execute_result"
    }
   ],
   "source": [
    "# WA death in OK before 2012\n",
    "DE_wa_ok = DE_wa[DE_wa['STNAME'] == 'Oklahoma']\n",
    "DE_wa_ok1 = DE_wa_ok[DE_wa_ok['YEAR']<= 2012]\n",
    "DE_wa_ok1.groupby('STNAME')['Death Rate (%)'].mean()"
   ]
  },
  {
   "cell_type": "code",
   "execution_count": 299,
   "metadata": {},
   "outputs": [
    {
     "data": {
      "text/html": [
       "<div>\n",
       "<style scoped>\n",
       "    .dataframe tbody tr th:only-of-type {\n",
       "        vertical-align: middle;\n",
       "    }\n",
       "\n",
       "    .dataframe tbody tr th {\n",
       "        vertical-align: top;\n",
       "    }\n",
       "\n",
       "    .dataframe thead th {\n",
       "        text-align: right;\n",
       "    }\n",
       "</style>\n",
       "<table border=\"1\" class=\"dataframe\">\n",
       "  <thead>\n",
       "    <tr style=\"text-align: right;\">\n",
       "      <th></th>\n",
       "      <th>YEAR</th>\n",
       "      <th>Death Rate (%)</th>\n",
       "      <th>POPULATION</th>\n",
       "      <th>STNAME</th>\n",
       "      <th>CTYNAME</th>\n",
       "      <th>Indicator</th>\n",
       "    </tr>\n",
       "  </thead>\n",
       "  <tbody>\n",
       "    <tr>\n",
       "      <th>588</th>\n",
       "      <td>2009.0</td>\n",
       "      <td>0.037411</td>\n",
       "      <td>37422.0</td>\n",
       "      <td>Oklahoma</td>\n",
       "      <td>Pontotoc County</td>\n",
       "      <td>Control</td>\n",
       "    </tr>\n",
       "    <tr>\n",
       "      <th>742</th>\n",
       "      <td>2011.0</td>\n",
       "      <td>0.037085</td>\n",
       "      <td>37751.0</td>\n",
       "      <td>Oklahoma</td>\n",
       "      <td>Pontotoc County</td>\n",
       "      <td>Control</td>\n",
       "    </tr>\n",
       "    <tr>\n",
       "      <th>594</th>\n",
       "      <td>2009.0</td>\n",
       "      <td>0.036203</td>\n",
       "      <td>41433.0</td>\n",
       "      <td>Oklahoma</td>\n",
       "      <td>Sequoyah County</td>\n",
       "      <td>Control</td>\n",
       "    </tr>\n",
       "  </tbody>\n",
       "</table>\n",
       "</div>"
      ],
      "text/plain": [
       "       YEAR  Death Rate (%)  POPULATION    STNAME          CTYNAME Indicator\n",
       "588  2009.0        0.037411     37422.0  Oklahoma  Pontotoc County   Control\n",
       "742  2011.0        0.037085     37751.0  Oklahoma  Pontotoc County   Control\n",
       "594  2009.0        0.036203     41433.0  Oklahoma  Sequoyah County   Control"
      ]
     },
     "execution_count": 299,
     "metadata": {},
     "output_type": "execute_result"
    }
   ],
   "source": [
    "# death to OK by CTYNAME before 2012 top 3 county \n",
    "DE_wa_ok1.groupby('CTYNAME')['Death Rate (%)'].mean()\n",
    "DE_wa_ok_2012 = DE_wa_ok1[DE_wa_ok1['YEAR'] <= 2012].sort_values(ascending=False,by='Death Rate (%)')\n",
    "DE_wa_ok_2012.head(3)"
   ]
  },
  {
   "cell_type": "code",
   "execution_count": 300,
   "metadata": {},
   "outputs": [
    {
     "data": {
      "text/plain": [
       "STNAME\n",
       "Oregon    0.018523\n",
       "Name: Death Rate (%), dtype: float64"
      ]
     },
     "execution_count": 300,
     "metadata": {},
     "output_type": "execute_result"
    }
   ],
   "source": [
    "# WA death in OR after 2012\n",
    "DE_wa_ok2 = DE_wa_or[DE_wa_or['YEAR']>2012]\n",
    "DE_wa_ok2.groupby('STNAME')['Death Rate (%)'].mean()"
   ]
  },
  {
   "cell_type": "code",
   "execution_count": 301,
   "metadata": {},
   "outputs": [
    {
     "data": {
      "text/html": [
       "<div>\n",
       "<style scoped>\n",
       "    .dataframe tbody tr th:only-of-type {\n",
       "        vertical-align: middle;\n",
       "    }\n",
       "\n",
       "    .dataframe tbody tr th {\n",
       "        vertical-align: top;\n",
       "    }\n",
       "\n",
       "    .dataframe thead th {\n",
       "        text-align: right;\n",
       "    }\n",
       "</style>\n",
       "<table border=\"1\" class=\"dataframe\">\n",
       "  <thead>\n",
       "    <tr style=\"text-align: right;\">\n",
       "      <th></th>\n",
       "      <th>YEAR</th>\n",
       "      <th>Death Rate (%)</th>\n",
       "      <th>POPULATION</th>\n",
       "      <th>STNAME</th>\n",
       "      <th>CTYNAME</th>\n",
       "      <th>Indicator</th>\n",
       "    </tr>\n",
       "  </thead>\n",
       "  <tbody>\n",
       "    <tr>\n",
       "      <th>1482</th>\n",
       "      <td>2014.0</td>\n",
       "      <td>0.025872</td>\n",
       "      <td>46383.0</td>\n",
       "      <td>Oregon</td>\n",
       "      <td>Lincoln County</td>\n",
       "      <td>Control</td>\n",
       "    </tr>\n",
       "    <tr>\n",
       "      <th>1484</th>\n",
       "      <td>2014.0</td>\n",
       "      <td>0.023540</td>\n",
       "      <td>30354.0</td>\n",
       "      <td>Oregon</td>\n",
       "      <td>Malheur County</td>\n",
       "      <td>Control</td>\n",
       "    </tr>\n",
       "    <tr>\n",
       "      <th>1496</th>\n",
       "      <td>2014.0</td>\n",
       "      <td>0.023540</td>\n",
       "      <td>1351.0</td>\n",
       "      <td>Oregon</td>\n",
       "      <td>Wheeler County</td>\n",
       "      <td>Control</td>\n",
       "    </tr>\n",
       "  </tbody>\n",
       "</table>\n",
       "</div>"
      ],
      "text/plain": [
       "        YEAR  Death Rate (%)  POPULATION  STNAME         CTYNAME Indicator\n",
       "1482  2014.0        0.025872     46383.0  Oregon  Lincoln County   Control\n",
       "1484  2014.0        0.023540     30354.0  Oregon  Malheur County   Control\n",
       "1496  2014.0        0.023540      1351.0  Oregon  Wheeler County   Control"
      ]
     },
     "execution_count": 301,
     "metadata": {},
     "output_type": "execute_result"
    }
   ],
   "source": [
    "# death to OK by CTYNAME after 2012 top 3 county \n",
    "DE_wa_ok2.groupby('CTYNAME')['Death Rate (%)'].mean()\n",
    "DE_wa_ok_after_2012 = DE_wa_ok2[DE_wa_ok2['YEAR'] > 2012].sort_values(ascending=False,by='Death Rate (%)')\n",
    "DE_wa_ok_after_2012.head(3)"
   ]
  },
  {
   "cell_type": "code",
   "execution_count": 302,
   "metadata": {},
   "outputs": [
    {
     "data": {
      "text/plain": [
       "STNAME\n",
       "Hawaii    0.011354\n",
       "Name: Death Rate (%), dtype: float64"
      ]
     },
     "execution_count": 302,
     "metadata": {},
     "output_type": "execute_result"
    }
   ],
   "source": [
    "# WA death in Hi before 2012\n",
    "DE_wa_hi = DE_wa[DE_wa['STNAME'] == 'Hawaii']\n",
    "DE_wa_hi1 = DE_wa_hi[DE_wa_hi['YEAR']<= 2012]\n",
    "DE_wa_hi1.groupby('STNAME')['Death Rate (%)'].mean()"
   ]
  },
  {
   "cell_type": "code",
   "execution_count": 303,
   "metadata": {},
   "outputs": [
    {
     "data": {
      "text/html": [
       "<div>\n",
       "<style scoped>\n",
       "    .dataframe tbody tr th:only-of-type {\n",
       "        vertical-align: middle;\n",
       "    }\n",
       "\n",
       "    .dataframe tbody tr th {\n",
       "        vertical-align: top;\n",
       "    }\n",
       "\n",
       "    .dataframe thead th {\n",
       "        text-align: right;\n",
       "    }\n",
       "</style>\n",
       "<table border=\"1\" class=\"dataframe\">\n",
       "  <thead>\n",
       "    <tr style=\"text-align: right;\">\n",
       "      <th></th>\n",
       "      <th>YEAR</th>\n",
       "      <th>Death Rate (%)</th>\n",
       "      <th>POPULATION</th>\n",
       "      <th>STNAME</th>\n",
       "      <th>CTYNAME</th>\n",
       "      <th>Indicator</th>\n",
       "    </tr>\n",
       "  </thead>\n",
       "  <tbody>\n",
       "    <tr>\n",
       "      <th>44</th>\n",
       "      <td>2011.0</td>\n",
       "      <td>0.020386</td>\n",
       "      <td>156967.0</td>\n",
       "      <td>Hawaii</td>\n",
       "      <td>Maui County</td>\n",
       "      <td>Control</td>\n",
       "    </tr>\n",
       "    <tr>\n",
       "      <th>30</th>\n",
       "      <td>2009.0</td>\n",
       "      <td>0.015745</td>\n",
       "      <td>177835.0</td>\n",
       "      <td>Hawaii</td>\n",
       "      <td>Hawaii County</td>\n",
       "      <td>Control</td>\n",
       "    </tr>\n",
       "    <tr>\n",
       "      <th>25</th>\n",
       "      <td>2008.0</td>\n",
       "      <td>0.013039</td>\n",
       "      <td>176399.0</td>\n",
       "      <td>Hawaii</td>\n",
       "      <td>Hawaii County</td>\n",
       "      <td>Control</td>\n",
       "    </tr>\n",
       "  </tbody>\n",
       "</table>\n",
       "</div>"
      ],
      "text/plain": [
       "      YEAR  Death Rate (%)  POPULATION  STNAME        CTYNAME Indicator\n",
       "44  2011.0        0.020386    156967.0  Hawaii    Maui County   Control\n",
       "30  2009.0        0.015745    177835.0  Hawaii  Hawaii County   Control\n",
       "25  2008.0        0.013039    176399.0  Hawaii  Hawaii County   Control"
      ]
     },
     "execution_count": 303,
     "metadata": {},
     "output_type": "execute_result"
    }
   ],
   "source": [
    "# death to Hi by CTYNAME before 2012 top 3 county \n",
    "DE_wa_hi1.groupby('CTYNAME')['Death Rate (%)'].mean()\n",
    "DE_wa_hi_2012 = DE_wa_hi1[DE_wa_hi1['YEAR'] <= 2012].sort_values(ascending=False,by='Death Rate (%)')\n",
    "DE_wa_hi_2012.head(3)"
   ]
  },
  {
   "cell_type": "code",
   "execution_count": 304,
   "metadata": {},
   "outputs": [
    {
     "data": {
      "text/plain": [
       "STNAME\n",
       "Hawaii    0.010402\n",
       "Name: Death Rate (%), dtype: float64"
      ]
     },
     "execution_count": 304,
     "metadata": {},
     "output_type": "execute_result"
    }
   ],
   "source": [
    "# WA death in Hi after 2012\n",
    "DE_wa_hi2 = DE_wa_hi[DE_wa_hi['YEAR']>2012]\n",
    "DE_wa_hi2.groupby('STNAME')['Death Rate (%)'].mean()"
   ]
  },
  {
   "cell_type": "code",
   "execution_count": 305,
   "metadata": {},
   "outputs": [
    {
     "data": {
      "text/html": [
       "<div>\n",
       "<style scoped>\n",
       "    .dataframe tbody tr th:only-of-type {\n",
       "        vertical-align: middle;\n",
       "    }\n",
       "\n",
       "    .dataframe tbody tr th {\n",
       "        vertical-align: top;\n",
       "    }\n",
       "\n",
       "    .dataframe thead th {\n",
       "        text-align: right;\n",
       "    }\n",
       "</style>\n",
       "<table border=\"1\" class=\"dataframe\">\n",
       "  <thead>\n",
       "    <tr style=\"text-align: right;\">\n",
       "      <th></th>\n",
       "      <th>YEAR</th>\n",
       "      <th>Death Rate (%)</th>\n",
       "      <th>POPULATION</th>\n",
       "      <th>STNAME</th>\n",
       "      <th>CTYNAME</th>\n",
       "      <th>Indicator</th>\n",
       "    </tr>\n",
       "  </thead>\n",
       "  <tbody>\n",
       "    <tr>\n",
       "      <th>52</th>\n",
       "      <td>2013.0</td>\n",
       "      <td>0.012706</td>\n",
       "      <td>89.0</td>\n",
       "      <td>Hawaii</td>\n",
       "      <td>Kalawao County</td>\n",
       "      <td>Control</td>\n",
       "    </tr>\n",
       "    <tr>\n",
       "      <th>53</th>\n",
       "      <td>2013.0</td>\n",
       "      <td>0.012706</td>\n",
       "      <td>69653.0</td>\n",
       "      <td>Hawaii</td>\n",
       "      <td>Kauai County</td>\n",
       "      <td>Control</td>\n",
       "    </tr>\n",
       "    <tr>\n",
       "      <th>57</th>\n",
       "      <td>2014.0</td>\n",
       "      <td>0.012706</td>\n",
       "      <td>89.0</td>\n",
       "      <td>Hawaii</td>\n",
       "      <td>Kalawao County</td>\n",
       "      <td>Control</td>\n",
       "    </tr>\n",
       "  </tbody>\n",
       "</table>\n",
       "</div>"
      ],
      "text/plain": [
       "      YEAR  Death Rate (%)  POPULATION  STNAME         CTYNAME Indicator\n",
       "52  2013.0        0.012706        89.0  Hawaii  Kalawao County   Control\n",
       "53  2013.0        0.012706     69653.0  Hawaii    Kauai County   Control\n",
       "57  2014.0        0.012706        89.0  Hawaii  Kalawao County   Control"
      ]
     },
     "execution_count": 305,
     "metadata": {},
     "output_type": "execute_result"
    }
   ],
   "source": [
    "# death to Hi by CTYNAME after 2012 top 3 county \n",
    "DE_wa_hi2.groupby('CTYNAME')['Death Rate (%)'].mean()\n",
    "DE_wa_hi_after_2012 = DE_wa_hi2[DE_wa_hi2['YEAR'] > 2012].sort_values(ascending=False,by='Death Rate (%)')\n",
    "DE_wa_hi_after_2012.head(3)"
   ]
  },
  {
   "cell_type": "code",
   "execution_count": 306,
   "metadata": {},
   "outputs": [
    {
     "data": {
      "text/plain": [
       "STNAME\n",
       "Washington    0.020161\n",
       "Name: Death Rate (%), dtype: float64"
      ]
     },
     "execution_count": 306,
     "metadata": {},
     "output_type": "execute_result"
    }
   ],
   "source": [
    "# WA death in WA before 2012\n",
    "DE_wa_wa = DE_wa[DE_wa['STNAME'] == 'Washington']\n",
    "DE_wa_wa1 = DE_wa_wa[DE_wa_wa['YEAR']<= 2012]\n",
    "DE_wa_wa1.groupby('STNAME')['Death Rate (%)'].mean()"
   ]
  },
  {
   "cell_type": "code",
   "execution_count": 307,
   "metadata": {},
   "outputs": [
    {
     "data": {
      "text/html": [
       "<div>\n",
       "<style scoped>\n",
       "    .dataframe tbody tr th:only-of-type {\n",
       "        vertical-align: middle;\n",
       "    }\n",
       "\n",
       "    .dataframe tbody tr th {\n",
       "        vertical-align: top;\n",
       "    }\n",
       "\n",
       "    .dataframe thead th {\n",
       "        text-align: right;\n",
       "    }\n",
       "</style>\n",
       "<table border=\"1\" class=\"dataframe\">\n",
       "  <thead>\n",
       "    <tr style=\"text-align: right;\">\n",
       "      <th></th>\n",
       "      <th>YEAR</th>\n",
       "      <th>Death Rate (%)</th>\n",
       "      <th>POPULATION</th>\n",
       "      <th>STNAME</th>\n",
       "      <th>CTYNAME</th>\n",
       "      <th>Indicator</th>\n",
       "    </tr>\n",
       "  </thead>\n",
       "  <tbody>\n",
       "    <tr>\n",
       "      <th>1683</th>\n",
       "      <td>2006.0</td>\n",
       "      <td>0.031407</td>\n",
       "      <td>41392.0</td>\n",
       "      <td>Washington</td>\n",
       "      <td>Stevens County</td>\n",
       "      <td>Treatment</td>\n",
       "    </tr>\n",
       "    <tr>\n",
       "      <th>1760</th>\n",
       "      <td>2008.0</td>\n",
       "      <td>0.027249</td>\n",
       "      <td>462408.0</td>\n",
       "      <td>Washington</td>\n",
       "      <td>Spokane County</td>\n",
       "      <td>Treatment</td>\n",
       "    </tr>\n",
       "    <tr>\n",
       "      <th>1694</th>\n",
       "      <td>2007.0</td>\n",
       "      <td>0.027038</td>\n",
       "      <td>70272.0</td>\n",
       "      <td>Washington</td>\n",
       "      <td>Clallam County</td>\n",
       "      <td>Treatment</td>\n",
       "    </tr>\n",
       "  </tbody>\n",
       "</table>\n",
       "</div>"
      ],
      "text/plain": [
       "        YEAR  Death Rate (%)  POPULATION      STNAME         CTYNAME  \\\n",
       "1683  2006.0        0.031407     41392.0  Washington  Stevens County   \n",
       "1760  2008.0        0.027249    462408.0  Washington  Spokane County   \n",
       "1694  2007.0        0.027038     70272.0  Washington  Clallam County   \n",
       "\n",
       "      Indicator  \n",
       "1683  Treatment  \n",
       "1760  Treatment  \n",
       "1694  Treatment  "
      ]
     },
     "execution_count": 307,
     "metadata": {},
     "output_type": "execute_result"
    }
   ],
   "source": [
    "# death to WA by CTYNAME before 2012 top 3 county \n",
    "DE_wa_wa1.groupby('CTYNAME')['Death Rate (%)'].mean()\n",
    "DE_wa_wa_2012 = DE_wa_wa1[DE_wa_wa1['YEAR'] <= 2012].sort_values(ascending=False,by='Death Rate (%)')\n",
    "DE_wa_wa_2012.head(3)"
   ]
  },
  {
   "cell_type": "code",
   "execution_count": 308,
   "metadata": {},
   "outputs": [
    {
     "data": {
      "text/plain": [
       "STNAME\n",
       "Washington    0.019956\n",
       "Name: Death Rate (%), dtype: float64"
      ]
     },
     "execution_count": 308,
     "metadata": {},
     "output_type": "execute_result"
    }
   ],
   "source": [
    "# WA death in WA after 2012\n",
    "DE_wa_wa2 = DE_wa_wa[DE_wa_wa['YEAR']> 2012]\n",
    "DE_wa_wa2.groupby('STNAME')['Death Rate (%)'].mean()"
   ]
  },
  {
   "cell_type": "code",
   "execution_count": 309,
   "metadata": {},
   "outputs": [
    {
     "data": {
      "text/html": [
       "<div>\n",
       "<style scoped>\n",
       "    .dataframe tbody tr th:only-of-type {\n",
       "        vertical-align: middle;\n",
       "    }\n",
       "\n",
       "    .dataframe tbody tr th {\n",
       "        vertical-align: top;\n",
       "    }\n",
       "\n",
       "    .dataframe thead th {\n",
       "        text-align: right;\n",
       "    }\n",
       "</style>\n",
       "<table border=\"1\" class=\"dataframe\">\n",
       "  <thead>\n",
       "    <tr style=\"text-align: right;\">\n",
       "      <th></th>\n",
       "      <th>YEAR</th>\n",
       "      <th>Death Rate (%)</th>\n",
       "      <th>POPULATION</th>\n",
       "      <th>STNAME</th>\n",
       "      <th>CTYNAME</th>\n",
       "      <th>Indicator</th>\n",
       "    </tr>\n",
       "  </thead>\n",
       "  <tbody>\n",
       "    <tr>\n",
       "      <th>1924</th>\n",
       "      <td>2013.0</td>\n",
       "      <td>0.026438</td>\n",
       "      <td>19080.0</td>\n",
       "      <td>Washington</td>\n",
       "      <td>Adams County</td>\n",
       "      <td>Treatment</td>\n",
       "    </tr>\n",
       "    <tr>\n",
       "      <th>2002</th>\n",
       "      <td>2015.0</td>\n",
       "      <td>0.026438</td>\n",
       "      <td>19208.0</td>\n",
       "      <td>Washington</td>\n",
       "      <td>Adams County</td>\n",
       "      <td>Treatment</td>\n",
       "    </tr>\n",
       "    <tr>\n",
       "      <th>1997</th>\n",
       "      <td>2014.0</td>\n",
       "      <td>0.026438</td>\n",
       "      <td>4008.0</td>\n",
       "      <td>Washington</td>\n",
       "      <td>Wahkiakum County</td>\n",
       "      <td>Treatment</td>\n",
       "    </tr>\n",
       "  </tbody>\n",
       "</table>\n",
       "</div>"
      ],
      "text/plain": [
       "        YEAR  Death Rate (%)  POPULATION      STNAME           CTYNAME  \\\n",
       "1924  2013.0        0.026438     19080.0  Washington      Adams County   \n",
       "2002  2015.0        0.026438     19208.0  Washington      Adams County   \n",
       "1997  2014.0        0.026438      4008.0  Washington  Wahkiakum County   \n",
       "\n",
       "      Indicator  \n",
       "1924  Treatment  \n",
       "2002  Treatment  \n",
       "1997  Treatment  "
      ]
     },
     "execution_count": 309,
     "metadata": {},
     "output_type": "execute_result"
    }
   ],
   "source": [
    "# death to WA by CTYNAME after 2012 top 3 county \n",
    "DE_wa_wa_after_2012 = DE_wa_wa2[DE_wa_wa2['YEAR'] >2012].sort_values(ascending=False,by='Death Rate (%)')\n",
    "DE_wa_wa_after_2012.head(3)"
   ]
  },
  {
   "cell_type": "markdown",
   "metadata": {},
   "source": [
    "### Texas--WI,NY,OR"
   ]
  },
  {
   "cell_type": "code",
   "execution_count": 310,
   "metadata": {},
   "outputs": [
    {
     "data": {
      "text/html": [
       "<div>\n",
       "<style scoped>\n",
       "    .dataframe tbody tr th:only-of-type {\n",
       "        vertical-align: middle;\n",
       "    }\n",
       "\n",
       "    .dataframe tbody tr th {\n",
       "        vertical-align: top;\n",
       "    }\n",
       "\n",
       "    .dataframe thead th {\n",
       "        text-align: right;\n",
       "    }\n",
       "</style>\n",
       "<table border=\"1\" class=\"dataframe\">\n",
       "  <thead>\n",
       "    <tr style=\"text-align: right;\">\n",
       "      <th></th>\n",
       "      <th>YEAR</th>\n",
       "      <th>Death Rate (%)</th>\n",
       "      <th>POPULATION</th>\n",
       "      <th>STNAME</th>\n",
       "      <th>CTYNAME</th>\n",
       "      <th>Indicator</th>\n",
       "    </tr>\n",
       "  </thead>\n",
       "  <tbody>\n",
       "    <tr>\n",
       "      <th>0</th>\n",
       "      <td>2003.0</td>\n",
       "      <td>0.005809</td>\n",
       "      <td>298491.0</td>\n",
       "      <td>New York</td>\n",
       "      <td>Albany County</td>\n",
       "      <td>Control</td>\n",
       "    </tr>\n",
       "    <tr>\n",
       "      <th>1</th>\n",
       "      <td>2003.0</td>\n",
       "      <td>0.020627</td>\n",
       "      <td>50220.0</td>\n",
       "      <td>New York</td>\n",
       "      <td>Allegany County</td>\n",
       "      <td>Control</td>\n",
       "    </tr>\n",
       "    <tr>\n",
       "      <th>2</th>\n",
       "      <td>2003.0</td>\n",
       "      <td>0.009677</td>\n",
       "      <td>1353712.0</td>\n",
       "      <td>New York</td>\n",
       "      <td>Bronx County</td>\n",
       "      <td>Control</td>\n",
       "    </tr>\n",
       "    <tr>\n",
       "      <th>3</th>\n",
       "      <td>2003.0</td>\n",
       "      <td>0.010073</td>\n",
       "      <td>198364.0</td>\n",
       "      <td>New York</td>\n",
       "      <td>Broome County</td>\n",
       "      <td>Control</td>\n",
       "    </tr>\n",
       "    <tr>\n",
       "      <th>4</th>\n",
       "      <td>2003.0</td>\n",
       "      <td>0.012510</td>\n",
       "      <td>82968.0</td>\n",
       "      <td>New York</td>\n",
       "      <td>Cattaraugus County</td>\n",
       "      <td>Control</td>\n",
       "    </tr>\n",
       "  </tbody>\n",
       "</table>\n",
       "</div>"
      ],
      "text/plain": [
       "     YEAR  Death Rate (%)  POPULATION    STNAME             CTYNAME Indicator\n",
       "0  2003.0        0.005809    298491.0  New York       Albany County   Control\n",
       "1  2003.0        0.020627     50220.0  New York     Allegany County   Control\n",
       "2  2003.0        0.009677   1353712.0  New York        Bronx County   Control\n",
       "3  2003.0        0.010073    198364.0  New York       Broome County   Control\n",
       "4  2003.0        0.012510     82968.0  New York  Cattaraugus County   Control"
      ]
     },
     "execution_count": 310,
     "metadata": {},
     "output_type": "execute_result"
    }
   ],
   "source": [
    "url = 'https://raw.githubusercontent.com/MIDS-at-Duke/pds-2022-yellow-team/main/20_intermediate_files/texas_death_cleaned.csv?token=GHSAT0AAAAAABYIEB2PFGYGLONCHWOQE72AY4FVMIA'\n",
    "DE_tx = pd.read_csv(url)\n",
    "DE_tx.head()"
   ]
  },
  {
   "cell_type": "code",
   "execution_count": 311,
   "metadata": {},
   "outputs": [
    {
     "data": {
      "text/plain": [
       "STNAME\n",
       "Wisconsin    0.016639\n",
       "Name: Death Rate (%), dtype: float64"
      ]
     },
     "execution_count": 311,
     "metadata": {},
     "output_type": "execute_result"
    }
   ],
   "source": [
    "# Tx death in WI before 2007\n",
    "DE_tx_wi = DE_tx[DE_tx['STNAME'] == 'Wisconsin']\n",
    "DE_tx_wi1 = DE_tx_wi[DE_tx_wi['YEAR']<= 2007]\n",
    "DE_tx_wi1.groupby('STNAME')['Death Rate (%)'].mean()"
   ]
  },
  {
   "cell_type": "code",
   "execution_count": 312,
   "metadata": {},
   "outputs": [
    {
     "data": {
      "text/html": [
       "<div>\n",
       "<style scoped>\n",
       "    .dataframe tbody tr th:only-of-type {\n",
       "        vertical-align: middle;\n",
       "    }\n",
       "\n",
       "    .dataframe tbody tr th {\n",
       "        vertical-align: top;\n",
       "    }\n",
       "\n",
       "    .dataframe thead th {\n",
       "        text-align: right;\n",
       "    }\n",
       "</style>\n",
       "<table border=\"1\" class=\"dataframe\">\n",
       "  <thead>\n",
       "    <tr style=\"text-align: right;\">\n",
       "      <th></th>\n",
       "      <th>YEAR</th>\n",
       "      <th>Death Rate (%)</th>\n",
       "      <th>POPULATION</th>\n",
       "      <th>STNAME</th>\n",
       "      <th>CTYNAME</th>\n",
       "      <th>Indicator</th>\n",
       "    </tr>\n",
       "  </thead>\n",
       "  <tbody>\n",
       "    <tr>\n",
       "      <th>4832</th>\n",
       "      <td>2006.0</td>\n",
       "      <td>0.019950</td>\n",
       "      <td>952374.0</td>\n",
       "      <td>Wisconsin</td>\n",
       "      <td>Milwaukee County</td>\n",
       "      <td>Control</td>\n",
       "    </tr>\n",
       "    <tr>\n",
       "      <th>4904</th>\n",
       "      <td>2007.0</td>\n",
       "      <td>0.019429</td>\n",
       "      <td>952185.0</td>\n",
       "      <td>Wisconsin</td>\n",
       "      <td>Milwaukee County</td>\n",
       "      <td>Control</td>\n",
       "    </tr>\n",
       "    <tr>\n",
       "      <th>4867</th>\n",
       "      <td>2007.0</td>\n",
       "      <td>0.018892</td>\n",
       "      <td>15021.0</td>\n",
       "      <td>Wisconsin</td>\n",
       "      <td>Bayfield County</td>\n",
       "      <td>Control</td>\n",
       "    </tr>\n",
       "  </tbody>\n",
       "</table>\n",
       "</div>"
      ],
      "text/plain": [
       "        YEAR  Death Rate (%)  POPULATION     STNAME           CTYNAME  \\\n",
       "4832  2006.0        0.019950    952374.0  Wisconsin  Milwaukee County   \n",
       "4904  2007.0        0.019429    952185.0  Wisconsin  Milwaukee County   \n",
       "4867  2007.0        0.018892     15021.0  Wisconsin   Bayfield County   \n",
       "\n",
       "     Indicator  \n",
       "4832   Control  \n",
       "4904   Control  \n",
       "4867   Control  "
      ]
     },
     "execution_count": 312,
     "metadata": {},
     "output_type": "execute_result"
    }
   ],
   "source": [
    "# death to WI by CTYNAME before 2007 top 3 county \n",
    "DE_tx_wi.groupby('CTYNAME')['Death Rate (%)'].mean()\n",
    "DE_tx_wi_2007 = DE_tx_wi1[DE_tx_wi1['YEAR'] <= 2007].sort_values(ascending=False,by='Death Rate (%)')\n",
    "DE_tx_wi_2007.head(3)"
   ]
  },
  {
   "cell_type": "code",
   "execution_count": 313,
   "metadata": {},
   "outputs": [
    {
     "data": {
      "text/plain": [
       "STNAME\n",
       "Wisconsin    0.016909\n",
       "Name: Death Rate (%), dtype: float64"
      ]
     },
     "execution_count": 313,
     "metadata": {},
     "output_type": "execute_result"
    }
   ],
   "source": [
    "# Tx death in WI after 2007\n",
    "DE_tx_wi2 = DE_tx_wi[DE_tx_wi['YEAR']> 2007]\n",
    "DE_tx_wi2.groupby('STNAME')['Death Rate (%)'].mean()"
   ]
  },
  {
   "cell_type": "code",
   "execution_count": 314,
   "metadata": {},
   "outputs": [
    {
     "data": {
      "text/html": [
       "<div>\n",
       "<style scoped>\n",
       "    .dataframe tbody tr th:only-of-type {\n",
       "        vertical-align: middle;\n",
       "    }\n",
       "\n",
       "    .dataframe tbody tr th {\n",
       "        vertical-align: top;\n",
       "    }\n",
       "\n",
       "    .dataframe thead th {\n",
       "        text-align: right;\n",
       "    }\n",
       "</style>\n",
       "<table border=\"1\" class=\"dataframe\">\n",
       "  <thead>\n",
       "    <tr style=\"text-align: right;\">\n",
       "      <th></th>\n",
       "      <th>YEAR</th>\n",
       "      <th>Death Rate (%)</th>\n",
       "      <th>POPULATION</th>\n",
       "      <th>STNAME</th>\n",
       "      <th>CTYNAME</th>\n",
       "      <th>Indicator</th>\n",
       "    </tr>\n",
       "  </thead>\n",
       "  <tbody>\n",
       "    <tr>\n",
       "      <th>5480</th>\n",
       "      <td>2015.0</td>\n",
       "      <td>0.026705</td>\n",
       "      <td>958606.0</td>\n",
       "      <td>Wisconsin</td>\n",
       "      <td>Milwaukee County</td>\n",
       "      <td>Control</td>\n",
       "    </tr>\n",
       "    <tr>\n",
       "      <th>5408</th>\n",
       "      <td>2014.0</td>\n",
       "      <td>0.025140</td>\n",
       "      <td>958639.0</td>\n",
       "      <td>Wisconsin</td>\n",
       "      <td>Milwaukee County</td>\n",
       "      <td>Control</td>\n",
       "    </tr>\n",
       "    <tr>\n",
       "      <th>5336</th>\n",
       "      <td>2013.0</td>\n",
       "      <td>0.023602</td>\n",
       "      <td>957557.0</td>\n",
       "      <td>Wisconsin</td>\n",
       "      <td>Milwaukee County</td>\n",
       "      <td>Control</td>\n",
       "    </tr>\n",
       "  </tbody>\n",
       "</table>\n",
       "</div>"
      ],
      "text/plain": [
       "        YEAR  Death Rate (%)  POPULATION     STNAME           CTYNAME  \\\n",
       "5480  2015.0        0.026705    958606.0  Wisconsin  Milwaukee County   \n",
       "5408  2014.0        0.025140    958639.0  Wisconsin  Milwaukee County   \n",
       "5336  2013.0        0.023602    957557.0  Wisconsin  Milwaukee County   \n",
       "\n",
       "     Indicator  \n",
       "5480   Control  \n",
       "5408   Control  \n",
       "5336   Control  "
      ]
     },
     "execution_count": 314,
     "metadata": {},
     "output_type": "execute_result"
    }
   ],
   "source": [
    "# death to WI by CTYNAME after 2007 top 3 county \n",
    "DE_tx_wi_after_2007 = DE_tx_wi2[DE_tx_wi2['YEAR'] > 2007].sort_values(ascending=False,by='Death Rate (%)')\n",
    "DE_tx_wi_after_2007.head(3)"
   ]
  },
  {
   "cell_type": "code",
   "execution_count": 315,
   "metadata": {},
   "outputs": [
    {
     "data": {
      "text/plain": [
       "STNAME\n",
       "New York    0.014644\n",
       "Name: Death Rate (%), dtype: float64"
      ]
     },
     "execution_count": 315,
     "metadata": {},
     "output_type": "execute_result"
    }
   ],
   "source": [
    "# Tx death in NY before 2007\n",
    "DE_tx_ny= DE_tx[DE_tx['STNAME'] == 'New York']\n",
    "DE_tx_ny1 = DE_tx_ny[DE_tx_ny['YEAR']<= 2007]\n",
    "DE_tx_ny1.groupby('STNAME')['Death Rate (%)'].mean()"
   ]
  },
  {
   "cell_type": "code",
   "execution_count": 316,
   "metadata": {},
   "outputs": [
    {
     "data": {
      "text/html": [
       "<div>\n",
       "<style scoped>\n",
       "    .dataframe tbody tr th:only-of-type {\n",
       "        vertical-align: middle;\n",
       "    }\n",
       "\n",
       "    .dataframe tbody tr th {\n",
       "        vertical-align: top;\n",
       "    }\n",
       "\n",
       "    .dataframe thead th {\n",
       "        text-align: right;\n",
       "    }\n",
       "</style>\n",
       "<table border=\"1\" class=\"dataframe\">\n",
       "  <thead>\n",
       "    <tr style=\"text-align: right;\">\n",
       "      <th></th>\n",
       "      <th>YEAR</th>\n",
       "      <th>Death Rate (%)</th>\n",
       "      <th>POPULATION</th>\n",
       "      <th>STNAME</th>\n",
       "      <th>CTYNAME</th>\n",
       "      <th>Indicator</th>\n",
       "    </tr>\n",
       "  </thead>\n",
       "  <tbody>\n",
       "    <tr>\n",
       "      <th>52</th>\n",
       "      <td>2003.0</td>\n",
       "      <td>0.022101</td>\n",
       "      <td>74774.0</td>\n",
       "      <td>New York</td>\n",
       "      <td>Sullivan County</td>\n",
       "      <td>Control</td>\n",
       "    </tr>\n",
       "    <tr>\n",
       "      <th>114</th>\n",
       "      <td>2004.0</td>\n",
       "      <td>0.022101</td>\n",
       "      <td>75351.0</td>\n",
       "      <td>New York</td>\n",
       "      <td>Sullivan County</td>\n",
       "      <td>Control</td>\n",
       "    </tr>\n",
       "    <tr>\n",
       "      <th>119</th>\n",
       "      <td>2004.0</td>\n",
       "      <td>0.021783</td>\n",
       "      <td>61979.0</td>\n",
       "      <td>New York</td>\n",
       "      <td>Washington County</td>\n",
       "      <td>Control</td>\n",
       "    </tr>\n",
       "  </tbody>\n",
       "</table>\n",
       "</div>"
      ],
      "text/plain": [
       "       YEAR  Death Rate (%)  POPULATION    STNAME            CTYNAME Indicator\n",
       "52   2003.0        0.022101     74774.0  New York    Sullivan County   Control\n",
       "114  2004.0        0.022101     75351.0  New York    Sullivan County   Control\n",
       "119  2004.0        0.021783     61979.0  New York  Washington County   Control"
      ]
     },
     "execution_count": 316,
     "metadata": {},
     "output_type": "execute_result"
    }
   ],
   "source": [
    "# death to NY by CTYNAME before 2007 top 3 county \n",
    "DE_tx_ny.groupby('CTYNAME')['Death Rate (%)'].mean()\n",
    "DE_tx_ny_2007 = DE_tx_ny1[DE_tx_ny1['YEAR'] <= 2007].sort_values(ascending=False,by='Death Rate (%)')\n",
    "DE_tx_ny_2007.head(3)"
   ]
  },
  {
   "cell_type": "code",
   "execution_count": 317,
   "metadata": {},
   "outputs": [
    {
     "data": {
      "text/plain": [
       "STNAME\n",
       "New York    0.015412\n",
       "Name: Death Rate (%), dtype: float64"
      ]
     },
     "execution_count": 317,
     "metadata": {},
     "output_type": "execute_result"
    }
   ],
   "source": [
    "# Tx death in NY after 2007\n",
    "DE_tx_ny2 = DE_tx_ny[DE_tx_ny['YEAR']> 2007]\n",
    "DE_tx_ny2.groupby('STNAME')['Death Rate (%)'].mean()"
   ]
  },
  {
   "cell_type": "code",
   "execution_count": 318,
   "metadata": {},
   "outputs": [
    {
     "data": {
      "text/html": [
       "<div>\n",
       "<style scoped>\n",
       "    .dataframe tbody tr th:only-of-type {\n",
       "        vertical-align: middle;\n",
       "    }\n",
       "\n",
       "    .dataframe tbody tr th {\n",
       "        vertical-align: top;\n",
       "    }\n",
       "\n",
       "    .dataframe thead th {\n",
       "        text-align: right;\n",
       "    }\n",
       "</style>\n",
       "<table border=\"1\" class=\"dataframe\">\n",
       "  <thead>\n",
       "    <tr style=\"text-align: right;\">\n",
       "      <th></th>\n",
       "      <th>YEAR</th>\n",
       "      <th>Death Rate (%)</th>\n",
       "      <th>POPULATION</th>\n",
       "      <th>STNAME</th>\n",
       "      <th>CTYNAME</th>\n",
       "      <th>Indicator</th>\n",
       "    </tr>\n",
       "  </thead>\n",
       "  <tbody>\n",
       "    <tr>\n",
       "      <th>548</th>\n",
       "      <td>2011.0</td>\n",
       "      <td>0.037633</td>\n",
       "      <td>77061.0</td>\n",
       "      <td>New York</td>\n",
       "      <td>Sullivan County</td>\n",
       "      <td>Control</td>\n",
       "    </tr>\n",
       "    <tr>\n",
       "      <th>758</th>\n",
       "      <td>2015.0</td>\n",
       "      <td>0.029429</td>\n",
       "      <td>920858.0</td>\n",
       "      <td>New York</td>\n",
       "      <td>Erie County</td>\n",
       "      <td>Control</td>\n",
       "    </tr>\n",
       "    <tr>\n",
       "      <th>735</th>\n",
       "      <td>2014.0</td>\n",
       "      <td>0.026076</td>\n",
       "      <td>49855.0</td>\n",
       "      <td>New York</td>\n",
       "      <td>Tioga County</td>\n",
       "      <td>Control</td>\n",
       "    </tr>\n",
       "  </tbody>\n",
       "</table>\n",
       "</div>"
      ],
      "text/plain": [
       "       YEAR  Death Rate (%)  POPULATION    STNAME          CTYNAME Indicator\n",
       "548  2011.0        0.037633     77061.0  New York  Sullivan County   Control\n",
       "758  2015.0        0.029429    920858.0  New York      Erie County   Control\n",
       "735  2014.0        0.026076     49855.0  New York     Tioga County   Control"
      ]
     },
     "execution_count": 318,
     "metadata": {},
     "output_type": "execute_result"
    }
   ],
   "source": [
    "# death to NY by CTYNAME after 2007 top 3 county \n",
    "DE_tx_ny_after_2007 = DE_tx_ny2[DE_tx_ny2['YEAR'] > 2007].sort_values(ascending=False,by='Death Rate (%)')\n",
    "DE_tx_ny_after_2007.head(3)"
   ]
  },
  {
   "cell_type": "code",
   "execution_count": 319,
   "metadata": {},
   "outputs": [
    {
     "data": {
      "text/plain": [
       "STNAME\n",
       "Oregon    0.018522\n",
       "Name: Death Rate (%), dtype: float64"
      ]
     },
     "execution_count": 319,
     "metadata": {},
     "output_type": "execute_result"
    }
   ],
   "source": [
    "# Tx death in Or before 2007\n",
    "DE_tx_or= DE_tx[DE_tx['STNAME'] == 'Oregon']\n",
    "DE_tx_or1 = DE_tx_or[DE_tx_or['YEAR']<= 2007]\n",
    "DE_tx_or1.groupby('STNAME')['Death Rate (%)'].mean()"
   ]
  },
  {
   "cell_type": "code",
   "execution_count": 320,
   "metadata": {},
   "outputs": [
    {
     "data": {
      "text/html": [
       "<div>\n",
       "<style scoped>\n",
       "    .dataframe tbody tr th:only-of-type {\n",
       "        vertical-align: middle;\n",
       "    }\n",
       "\n",
       "    .dataframe tbody tr th {\n",
       "        vertical-align: top;\n",
       "    }\n",
       "\n",
       "    .dataframe thead th {\n",
       "        text-align: right;\n",
       "    }\n",
       "</style>\n",
       "<table border=\"1\" class=\"dataframe\">\n",
       "  <thead>\n",
       "    <tr style=\"text-align: right;\">\n",
       "      <th></th>\n",
       "      <th>YEAR</th>\n",
       "      <th>Death Rate (%)</th>\n",
       "      <th>POPULATION</th>\n",
       "      <th>STNAME</th>\n",
       "      <th>CTYNAME</th>\n",
       "      <th>Indicator</th>\n",
       "    </tr>\n",
       "  </thead>\n",
       "  <tbody>\n",
       "    <tr>\n",
       "      <th>806</th>\n",
       "      <td>2003.0</td>\n",
       "      <td>0.02354</td>\n",
       "      <td>16270.0</td>\n",
       "      <td>Oregon</td>\n",
       "      <td>Baker County</td>\n",
       "      <td>Control</td>\n",
       "    </tr>\n",
       "    <tr>\n",
       "      <th>872</th>\n",
       "      <td>2004.0</td>\n",
       "      <td>0.02354</td>\n",
       "      <td>24327.0</td>\n",
       "      <td>Oregon</td>\n",
       "      <td>Union County</td>\n",
       "      <td>Control</td>\n",
       "    </tr>\n",
       "    <tr>\n",
       "      <th>926</th>\n",
       "      <td>2006.0</td>\n",
       "      <td>0.02354</td>\n",
       "      <td>6798.0</td>\n",
       "      <td>Oregon</td>\n",
       "      <td>Harney County</td>\n",
       "      <td>Control</td>\n",
       "    </tr>\n",
       "  </tbody>\n",
       "</table>\n",
       "</div>"
      ],
      "text/plain": [
       "       YEAR  Death Rate (%)  POPULATION  STNAME        CTYNAME Indicator\n",
       "806  2003.0         0.02354     16270.0  Oregon   Baker County   Control\n",
       "872  2004.0         0.02354     24327.0  Oregon   Union County   Control\n",
       "926  2006.0         0.02354      6798.0  Oregon  Harney County   Control"
      ]
     },
     "execution_count": 320,
     "metadata": {},
     "output_type": "execute_result"
    }
   ],
   "source": [
    "# death to Or by CTYNAME before 2007 top 3 county \n",
    "DE_tx_or.groupby('CTYNAME')['Death Rate (%)'].mean()\n",
    "DE_tx_or_2007 = DE_tx_or1[DE_tx_or1['YEAR'] <= 2007].sort_values(ascending=False,by='Death Rate (%)')\n",
    "DE_tx_or_2007.head(3)"
   ]
  },
  {
   "cell_type": "code",
   "execution_count": 321,
   "metadata": {},
   "outputs": [
    {
     "data": {
      "text/plain": [
       "STNAME\n",
       "Oregon    0.018595\n",
       "Name: Death Rate (%), dtype: float64"
      ]
     },
     "execution_count": 321,
     "metadata": {},
     "output_type": "execute_result"
    }
   ],
   "source": [
    "# Tx death in Or after 2007\n",
    "DE_tx_or2 = DE_tx_or[DE_tx_or['YEAR']> 2007]\n",
    "DE_tx_or2.groupby('STNAME')['Death Rate (%)'].mean()"
   ]
  },
  {
   "cell_type": "code",
   "execution_count": 322,
   "metadata": {},
   "outputs": [
    {
     "data": {
      "text/html": [
       "<div>\n",
       "<style scoped>\n",
       "    .dataframe tbody tr th:only-of-type {\n",
       "        vertical-align: middle;\n",
       "    }\n",
       "\n",
       "    .dataframe tbody tr th {\n",
       "        vertical-align: top;\n",
       "    }\n",
       "\n",
       "    .dataframe thead th {\n",
       "        text-align: right;\n",
       "    }\n",
       "</style>\n",
       "<table border=\"1\" class=\"dataframe\">\n",
       "  <thead>\n",
       "    <tr style=\"text-align: right;\">\n",
       "      <th></th>\n",
       "      <th>YEAR</th>\n",
       "      <th>Death Rate (%)</th>\n",
       "      <th>POPULATION</th>\n",
       "      <th>STNAME</th>\n",
       "      <th>CTYNAME</th>\n",
       "      <th>Indicator</th>\n",
       "    </tr>\n",
       "  </thead>\n",
       "  <tbody>\n",
       "    <tr>\n",
       "      <th>1097</th>\n",
       "      <td>2011.0</td>\n",
       "      <td>0.029537</td>\n",
       "      <td>37241.0</td>\n",
       "      <td>Oregon</td>\n",
       "      <td>Clatsop County</td>\n",
       "      <td>Control</td>\n",
       "    </tr>\n",
       "    <tr>\n",
       "      <th>1222</th>\n",
       "      <td>2014.0</td>\n",
       "      <td>0.025872</td>\n",
       "      <td>46383.0</td>\n",
       "      <td>Oregon</td>\n",
       "      <td>Lincoln County</td>\n",
       "      <td>Control</td>\n",
       "    </tr>\n",
       "    <tr>\n",
       "      <th>986</th>\n",
       "      <td>2008.0</td>\n",
       "      <td>0.023540</td>\n",
       "      <td>16051.0</td>\n",
       "      <td>Oregon</td>\n",
       "      <td>Baker County</td>\n",
       "      <td>Control</td>\n",
       "    </tr>\n",
       "  </tbody>\n",
       "</table>\n",
       "</div>"
      ],
      "text/plain": [
       "        YEAR  Death Rate (%)  POPULATION  STNAME         CTYNAME Indicator\n",
       "1097  2011.0        0.029537     37241.0  Oregon  Clatsop County   Control\n",
       "1222  2014.0        0.025872     46383.0  Oregon  Lincoln County   Control\n",
       "986   2008.0        0.023540     16051.0  Oregon    Baker County   Control"
      ]
     },
     "execution_count": 322,
     "metadata": {},
     "output_type": "execute_result"
    }
   ],
   "source": [
    "# death to Or by CTYNAME after 2007 top 3 county \n",
    "DE_tx_or_after_2007 = DE_tx_or2[DE_tx_or2['YEAR'] > 2007].sort_values(ascending=False,by='Death Rate (%)')\n",
    "DE_tx_or_after_2007.head(3)"
   ]
  },
  {
   "cell_type": "code",
   "execution_count": 323,
   "metadata": {},
   "outputs": [
    {
     "data": {
      "text/plain": [
       "STNAME\n",
       "Texas    0.026795\n",
       "Name: Death Rate (%), dtype: float64"
      ]
     },
     "execution_count": 323,
     "metadata": {},
     "output_type": "execute_result"
    }
   ],
   "source": [
    "# Tx death in Tx before 2007\n",
    "DE_tx_tx= DE_tx[DE_tx['STNAME'] == 'Texas']\n",
    "DE_tx_tx1 = DE_tx_tx[DE_tx_tx['YEAR']<= 2007]\n",
    "DE_tx_tx1.groupby('STNAME')['Death Rate (%)'].mean()"
   ]
  },
  {
   "cell_type": "code",
   "execution_count": 324,
   "metadata": {},
   "outputs": [
    {
     "data": {
      "text/html": [
       "<div>\n",
       "<style scoped>\n",
       "    .dataframe tbody tr th:only-of-type {\n",
       "        vertical-align: middle;\n",
       "    }\n",
       "\n",
       "    .dataframe tbody tr th {\n",
       "        vertical-align: top;\n",
       "    }\n",
       "\n",
       "    .dataframe thead th {\n",
       "        text-align: right;\n",
       "    }\n",
       "</style>\n",
       "<table border=\"1\" class=\"dataframe\">\n",
       "  <thead>\n",
       "    <tr style=\"text-align: right;\">\n",
       "      <th></th>\n",
       "      <th>YEAR</th>\n",
       "      <th>Death Rate (%)</th>\n",
       "      <th>POPULATION</th>\n",
       "      <th>STNAME</th>\n",
       "      <th>CTYNAME</th>\n",
       "      <th>Indicator</th>\n",
       "    </tr>\n",
       "  </thead>\n",
       "  <tbody>\n",
       "    <tr>\n",
       "      <th>2216</th>\n",
       "      <td>2006.0</td>\n",
       "      <td>0.041554</td>\n",
       "      <td>81822.0</td>\n",
       "      <td>Texas</td>\n",
       "      <td>Orange County</td>\n",
       "      <td>Treatment</td>\n",
       "    </tr>\n",
       "    <tr>\n",
       "      <th>2039</th>\n",
       "      <td>2006.0</td>\n",
       "      <td>0.041004</td>\n",
       "      <td>24388.0</td>\n",
       "      <td>Texas</td>\n",
       "      <td>Aransas County</td>\n",
       "      <td>Treatment</td>\n",
       "    </tr>\n",
       "    <tr>\n",
       "      <th>1402</th>\n",
       "      <td>2003.0</td>\n",
       "      <td>0.035827</td>\n",
       "      <td>81493.0</td>\n",
       "      <td>Texas</td>\n",
       "      <td>Kaufman County</td>\n",
       "      <td>Treatment</td>\n",
       "    </tr>\n",
       "  </tbody>\n",
       "</table>\n",
       "</div>"
      ],
      "text/plain": [
       "        YEAR  Death Rate (%)  POPULATION STNAME         CTYNAME  Indicator\n",
       "2216  2006.0        0.041554     81822.0  Texas   Orange County  Treatment\n",
       "2039  2006.0        0.041004     24388.0  Texas  Aransas County  Treatment\n",
       "1402  2003.0        0.035827     81493.0  Texas  Kaufman County  Treatment"
      ]
     },
     "execution_count": 324,
     "metadata": {},
     "output_type": "execute_result"
    }
   ],
   "source": [
    "# death to Tx by CTYNAME before 2007 top 3 county \n",
    "DE_tx_tx.groupby('CTYNAME')['Death Rate (%)'].mean()\n",
    "DE_tx_tx_2007 = DE_tx_tx1[DE_tx_tx1['YEAR'] <= 2007].sort_values(ascending=False,by='Death Rate (%)')\n",
    "DE_tx_tx_2007.head(3)"
   ]
  },
  {
   "cell_type": "code",
   "execution_count": 325,
   "metadata": {},
   "outputs": [
    {
     "data": {
      "text/plain": [
       "STNAME\n",
       "Texas    0.026415\n",
       "Name: Death Rate (%), dtype: float64"
      ]
     },
     "execution_count": 325,
     "metadata": {},
     "output_type": "execute_result"
    }
   ],
   "source": [
    "# Tx death in Tx after 2007\n",
    "DE_tx_tx2 = DE_tx_tx[DE_tx_tx['YEAR']> 2007]\n",
    "DE_tx_tx2.groupby('STNAME')['Death Rate (%)'].mean()"
   ]
  },
  {
   "cell_type": "code",
   "execution_count": 326,
   "metadata": {},
   "outputs": [
    {
     "data": {
      "text/html": [
       "<div>\n",
       "<style scoped>\n",
       "    .dataframe tbody tr th:only-of-type {\n",
       "        vertical-align: middle;\n",
       "    }\n",
       "\n",
       "    .dataframe tbody tr th {\n",
       "        vertical-align: top;\n",
       "    }\n",
       "\n",
       "    .dataframe thead th {\n",
       "        text-align: right;\n",
       "    }\n",
       "</style>\n",
       "<table border=\"1\" class=\"dataframe\">\n",
       "  <thead>\n",
       "    <tr style=\"text-align: right;\">\n",
       "      <th></th>\n",
       "      <th>YEAR</th>\n",
       "      <th>Death Rate (%)</th>\n",
       "      <th>POPULATION</th>\n",
       "      <th>STNAME</th>\n",
       "      <th>CTYNAME</th>\n",
       "      <th>Indicator</th>\n",
       "    </tr>\n",
       "  </thead>\n",
       "  <tbody>\n",
       "    <tr>\n",
       "      <th>3504</th>\n",
       "      <td>2011.0</td>\n",
       "      <td>0.035827</td>\n",
       "      <td>81103.0</td>\n",
       "      <td>Texas</td>\n",
       "      <td>Rockwall County</td>\n",
       "      <td>Treatment</td>\n",
       "    </tr>\n",
       "    <tr>\n",
       "      <th>2996</th>\n",
       "      <td>2009.0</td>\n",
       "      <td>0.035827</td>\n",
       "      <td>81391.0</td>\n",
       "      <td>Texas</td>\n",
       "      <td>Rockwall County</td>\n",
       "      <td>Treatment</td>\n",
       "    </tr>\n",
       "    <tr>\n",
       "      <th>2978</th>\n",
       "      <td>2009.0</td>\n",
       "      <td>0.035445</td>\n",
       "      <td>81816.0</td>\n",
       "      <td>Texas</td>\n",
       "      <td>Orange County</td>\n",
       "      <td>Treatment</td>\n",
       "    </tr>\n",
       "  </tbody>\n",
       "</table>\n",
       "</div>"
      ],
      "text/plain": [
       "        YEAR  Death Rate (%)  POPULATION STNAME          CTYNAME  Indicator\n",
       "3504  2011.0        0.035827     81103.0  Texas  Rockwall County  Treatment\n",
       "2996  2009.0        0.035827     81391.0  Texas  Rockwall County  Treatment\n",
       "2978  2009.0        0.035445     81816.0  Texas    Orange County  Treatment"
      ]
     },
     "execution_count": 326,
     "metadata": {},
     "output_type": "execute_result"
    }
   ],
   "source": [
    "# death to Tx by CTYNAME after 2007 top 3 county \n",
    "DE_tx_or_after_2007 = DE_tx_tx2[DE_tx_tx2['YEAR'] > 2007].sort_values(ascending=False,by='Death Rate (%)')\n",
    "DE_tx_or_after_2007.head(3)"
   ]
  },
  {
   "cell_type": "code",
   "execution_count": null,
   "metadata": {},
   "outputs": [],
   "source": []
  }
 ],
 "metadata": {
  "kernelspec": {
   "display_name": "Python 3.10.6 ('base')",
   "language": "python",
   "name": "python3"
  },
  "language_info": {
   "codemirror_mode": {
    "name": "ipython",
    "version": 3
   },
   "file_extension": ".py",
   "mimetype": "text/x-python",
   "name": "python",
   "nbconvert_exporter": "python",
   "pygments_lexer": "ipython3",
   "version": "3.10.6"
  },
  "orig_nbformat": 4,
  "vscode": {
   "interpreter": {
    "hash": "4f06bde831ca988703cb9b7830ea1c8602b5ef42f5d637e6173f7638bf4a67b4"
   }
  }
 },
 "nbformat": 4,
 "nbformat_minor": 2
}
