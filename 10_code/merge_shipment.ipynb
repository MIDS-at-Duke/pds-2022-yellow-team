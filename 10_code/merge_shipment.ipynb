{
 "cells": [
  {
   "cell_type": "code",
   "execution_count": 1,
   "metadata": {},
   "outputs": [],
   "source": [
    "import pandas as pd\n",
    "import os\n",
    "os.environ['KMP_DUPLICATE_LIB_OK'] = 'True'"
   ]
  },
  {
   "cell_type": "code",
   "execution_count": 2,
   "metadata": {},
   "outputs": [],
   "source": [
    "box_link = 'https://www.dropbox.com/s/95ujsl5fa1r4ko2/prescription_data.zip?dl=1'\n",
    "states = ['NY', 'PA', 'AL', 'LA', 'CA', 'IA', 'WI', 'AZ', 'VA', 'OR', 'CO', 'FL', 'WA', 'TX']\n",
    "cols_needed = ['BUYER_STATE', 'BUYER_COUNTY', 'TRANSACTION_DATE', 'CALC_BASE_WT_IN_GM', 'MME_Conversion_Factor', 'MME']"
   ]
  },
  {
   "cell_type": "code",
   "execution_count": 3,
   "metadata": {},
   "outputs": [
    {
     "ename": "",
     "evalue": "",
     "output_type": "error",
     "traceback": [
      "\u001b[1;31mCanceled future for execute_request message before replies were done"
     ]
    },
    {
     "ename": "",
     "evalue": "",
     "output_type": "error",
     "traceback": [
      "\u001b[1;31mThe Kernel crashed while executing code in the the current cell or a previous cell. Please review the code in the cell(s) to identify a possible cause of the failure. Click <a href='https://aka.ms/vscodeJupyterKernelCrash'>here</a> for more info. View Jupyter <a href='command:jupyter.viewOutput'>log</a> for further details."
     ]
    }
   ],
   "source": [
    "data = []\n",
    "for ship_chunk in pd.read_csv(box_link, compression='zip', sep = '\\t', usecols = cols_needed, iterator=True, chunksize=1000000):\n",
    "    chunk = ship_chunk[ship_chunk['BUYER_STATE'].isin(states)]\n",
    "    data.append(chunk)\n",
    "ship_df = pd.concat(data)\n",
    "ship_df.to_csv('/workspaces/pds-2022-yellow-team/20_intermediate_files/shipment_states.csv', encoding = 'utf-8', index=False)"
   ]
  },
  {
   "cell_type": "code",
   "execution_count": null,
   "metadata": {},
   "outputs": [],
   "source": []
  }
 ],
 "metadata": {
  "kernelspec": {
   "display_name": "Python 3.10.6 ('base')",
   "language": "python",
   "name": "python3"
  },
  "language_info": {
   "codemirror_mode": {
    "name": "ipython",
    "version": 3
   },
   "file_extension": ".py",
   "mimetype": "text/x-python",
   "name": "python",
   "nbconvert_exporter": "python",
   "pygments_lexer": "ipython3",
   "version": "3.10.6"
  },
  "orig_nbformat": 4,
  "vscode": {
   "interpreter": {
    "hash": "0660dbafbb79d2b4a4d3b4fdd3b4b30979b17b34162357f125b8968e0e7fa8b1"
   }
  }
 },
 "nbformat": 4,
 "nbformat_minor": 2
}
