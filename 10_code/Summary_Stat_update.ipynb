{
 "cells": [
  {
   "cell_type": "code",
   "execution_count": 5,
   "metadata": {},
   "outputs": [],
   "source": [
    "import numpy as np\n",
    "import pandas as pd\n"
   ]
  },
  {
   "cell_type": "markdown",
   "metadata": {},
   "source": [
    "## Shipment "
   ]
  },
  {
   "cell_type": "markdown",
   "metadata": {},
   "source": [
    "### Florida -- AZ, LA, SC"
   ]
  },
  {
   "cell_type": "code",
   "execution_count": 6,
   "metadata": {},
   "outputs": [
    {
     "data": {
      "text/html": [
       "<div>\n",
       "<style scoped>\n",
       "    .dataframe tbody tr th:only-of-type {\n",
       "        vertical-align: middle;\n",
       "    }\n",
       "\n",
       "    .dataframe tbody tr th {\n",
       "        vertical-align: top;\n",
       "    }\n",
       "\n",
       "    .dataframe thead th {\n",
       "        text-align: right;\n",
       "    }\n",
       "</style>\n",
       "<table border=\"1\" class=\"dataframe\">\n",
       "  <thead>\n",
       "    <tr style=\"text-align: right;\">\n",
       "      <th></th>\n",
       "      <th>BUYER_STATE</th>\n",
       "      <th>BUYER_COUNTY</th>\n",
       "      <th>YEAR</th>\n",
       "      <th>MME</th>\n",
       "      <th>FIPS Code</th>\n",
       "      <th>State</th>\n",
       "      <th>STNAME</th>\n",
       "      <th>CTYNAME</th>\n",
       "      <th>POPULATION</th>\n",
       "    </tr>\n",
       "  </thead>\n",
       "  <tbody>\n",
       "    <tr>\n",
       "      <th>0</th>\n",
       "      <td>AZ</td>\n",
       "      <td>APACHE</td>\n",
       "      <td>2006</td>\n",
       "      <td>4.956969e+06</td>\n",
       "      <td>4001</td>\n",
       "      <td>Arizona</td>\n",
       "      <td>Arizona</td>\n",
       "      <td>APACHE</td>\n",
       "      <td>69066.0</td>\n",
       "    </tr>\n",
       "    <tr>\n",
       "      <th>1</th>\n",
       "      <td>AZ</td>\n",
       "      <td>APACHE</td>\n",
       "      <td>2007</td>\n",
       "      <td>5.611684e+06</td>\n",
       "      <td>4001</td>\n",
       "      <td>Arizona</td>\n",
       "      <td>Arizona</td>\n",
       "      <td>APACHE</td>\n",
       "      <td>69278.0</td>\n",
       "    </tr>\n",
       "    <tr>\n",
       "      <th>2</th>\n",
       "      <td>AZ</td>\n",
       "      <td>APACHE</td>\n",
       "      <td>2008</td>\n",
       "      <td>5.853244e+06</td>\n",
       "      <td>4001</td>\n",
       "      <td>Arizona</td>\n",
       "      <td>Arizona</td>\n",
       "      <td>APACHE</td>\n",
       "      <td>69520.0</td>\n",
       "    </tr>\n",
       "    <tr>\n",
       "      <th>3</th>\n",
       "      <td>AZ</td>\n",
       "      <td>APACHE</td>\n",
       "      <td>2009</td>\n",
       "      <td>7.344332e+06</td>\n",
       "      <td>4001</td>\n",
       "      <td>Arizona</td>\n",
       "      <td>Arizona</td>\n",
       "      <td>APACHE</td>\n",
       "      <td>70591.0</td>\n",
       "    </tr>\n",
       "    <tr>\n",
       "      <th>4</th>\n",
       "      <td>AZ</td>\n",
       "      <td>APACHE</td>\n",
       "      <td>2010</td>\n",
       "      <td>7.732743e+06</td>\n",
       "      <td>4001</td>\n",
       "      <td>Arizona</td>\n",
       "      <td>Arizona</td>\n",
       "      <td>APACHE</td>\n",
       "      <td>71828.0</td>\n",
       "    </tr>\n",
       "  </tbody>\n",
       "</table>\n",
       "</div>"
      ],
      "text/plain": [
       "  BUYER_STATE BUYER_COUNTY  YEAR           MME  FIPS Code    State   STNAME  \\\n",
       "0          AZ       APACHE  2006  4.956969e+06       4001  Arizona  Arizona   \n",
       "1          AZ       APACHE  2007  5.611684e+06       4001  Arizona  Arizona   \n",
       "2          AZ       APACHE  2008  5.853244e+06       4001  Arizona  Arizona   \n",
       "3          AZ       APACHE  2009  7.344332e+06       4001  Arizona  Arizona   \n",
       "4          AZ       APACHE  2010  7.732743e+06       4001  Arizona  Arizona   \n",
       "\n",
       "  CTYNAME  POPULATION  \n",
       "0  APACHE     69066.0  \n",
       "1  APACHE     69278.0  \n",
       "2  APACHE     69520.0  \n",
       "3  APACHE     70591.0  \n",
       "4  APACHE     71828.0  "
      ]
     },
     "execution_count": 6,
     "metadata": {},
     "output_type": "execute_result"
    }
   ],
   "source": [
    "url = 'https://raw.githubusercontent.com/MIDS-at-Duke/pds-2022-yellow-team/main/20_intermediate_files/fl_ship_merge.csv?token=GHSAT0AAAAAABYIEB2PJY2QR3YW62QAPRV4Y4GSQKA'\n",
    "df = pd.read_csv(url)\n",
    "df.head(5)"
   ]
  },
  {
   "cell_type": "code",
   "execution_count": 7,
   "metadata": {},
   "outputs": [],
   "source": [
    "df['BUYER_STATE']=df['BUYER_STATE'].replace(['AZ','LA','SC'],'Comparison_State')"
   ]
  },
  {
   "cell_type": "code",
   "execution_count": 8,
   "metadata": {},
   "outputs": [
    {
     "data": {
      "text/html": [
       "<div>\n",
       "<style scoped>\n",
       "    .dataframe tbody tr th:only-of-type {\n",
       "        vertical-align: middle;\n",
       "    }\n",
       "\n",
       "    .dataframe tbody tr th {\n",
       "        vertical-align: top;\n",
       "    }\n",
       "\n",
       "    .dataframe thead th {\n",
       "        text-align: right;\n",
       "    }\n",
       "</style>\n",
       "<table border=\"1\" class=\"dataframe\">\n",
       "  <thead>\n",
       "    <tr style=\"text-align: right;\">\n",
       "      <th></th>\n",
       "      <th>BUYER_STATE</th>\n",
       "      <th>BUYER_COUNTY</th>\n",
       "      <th>YEAR</th>\n",
       "      <th>MME</th>\n",
       "      <th>FIPS Code</th>\n",
       "      <th>State</th>\n",
       "      <th>STNAME</th>\n",
       "      <th>CTYNAME</th>\n",
       "      <th>POPULATION</th>\n",
       "    </tr>\n",
       "  </thead>\n",
       "  <tbody>\n",
       "    <tr>\n",
       "      <th>0</th>\n",
       "      <td>Comparison_State</td>\n",
       "      <td>APACHE</td>\n",
       "      <td>2006</td>\n",
       "      <td>4.956969e+06</td>\n",
       "      <td>4001</td>\n",
       "      <td>Arizona</td>\n",
       "      <td>Arizona</td>\n",
       "      <td>APACHE</td>\n",
       "      <td>69066.0</td>\n",
       "    </tr>\n",
       "    <tr>\n",
       "      <th>1</th>\n",
       "      <td>Comparison_State</td>\n",
       "      <td>APACHE</td>\n",
       "      <td>2007</td>\n",
       "      <td>5.611684e+06</td>\n",
       "      <td>4001</td>\n",
       "      <td>Arizona</td>\n",
       "      <td>Arizona</td>\n",
       "      <td>APACHE</td>\n",
       "      <td>69278.0</td>\n",
       "    </tr>\n",
       "    <tr>\n",
       "      <th>2</th>\n",
       "      <td>Comparison_State</td>\n",
       "      <td>APACHE</td>\n",
       "      <td>2008</td>\n",
       "      <td>5.853244e+06</td>\n",
       "      <td>4001</td>\n",
       "      <td>Arizona</td>\n",
       "      <td>Arizona</td>\n",
       "      <td>APACHE</td>\n",
       "      <td>69520.0</td>\n",
       "    </tr>\n",
       "    <tr>\n",
       "      <th>3</th>\n",
       "      <td>Comparison_State</td>\n",
       "      <td>APACHE</td>\n",
       "      <td>2009</td>\n",
       "      <td>7.344332e+06</td>\n",
       "      <td>4001</td>\n",
       "      <td>Arizona</td>\n",
       "      <td>Arizona</td>\n",
       "      <td>APACHE</td>\n",
       "      <td>70591.0</td>\n",
       "    </tr>\n",
       "    <tr>\n",
       "      <th>4</th>\n",
       "      <td>Comparison_State</td>\n",
       "      <td>APACHE</td>\n",
       "      <td>2010</td>\n",
       "      <td>7.732743e+06</td>\n",
       "      <td>4001</td>\n",
       "      <td>Arizona</td>\n",
       "      <td>Arizona</td>\n",
       "      <td>APACHE</td>\n",
       "      <td>71828.0</td>\n",
       "    </tr>\n",
       "    <tr>\n",
       "      <th>...</th>\n",
       "      <td>...</td>\n",
       "      <td>...</td>\n",
       "      <td>...</td>\n",
       "      <td>...</td>\n",
       "      <td>...</td>\n",
       "      <td>...</td>\n",
       "      <td>...</td>\n",
       "      <td>...</td>\n",
       "      <td>...</td>\n",
       "    </tr>\n",
       "    <tr>\n",
       "      <th>1715</th>\n",
       "      <td>Comparison_State</td>\n",
       "      <td>YORK</td>\n",
       "      <td>2010</td>\n",
       "      <td>5.209517e+07</td>\n",
       "      <td>45091</td>\n",
       "      <td>South Carolina</td>\n",
       "      <td>South Carolina</td>\n",
       "      <td>YORK</td>\n",
       "      <td>226871.0</td>\n",
       "    </tr>\n",
       "    <tr>\n",
       "      <th>1716</th>\n",
       "      <td>Comparison_State</td>\n",
       "      <td>YORK</td>\n",
       "      <td>2011</td>\n",
       "      <td>5.296504e+07</td>\n",
       "      <td>45091</td>\n",
       "      <td>South Carolina</td>\n",
       "      <td>South Carolina</td>\n",
       "      <td>YORK</td>\n",
       "      <td>230131.0</td>\n",
       "    </tr>\n",
       "    <tr>\n",
       "      <th>1717</th>\n",
       "      <td>Comparison_State</td>\n",
       "      <td>YORK</td>\n",
       "      <td>2012</td>\n",
       "      <td>5.644417e+07</td>\n",
       "      <td>45091</td>\n",
       "      <td>South Carolina</td>\n",
       "      <td>South Carolina</td>\n",
       "      <td>YORK</td>\n",
       "      <td>234151.0</td>\n",
       "    </tr>\n",
       "    <tr>\n",
       "      <th>1718</th>\n",
       "      <td>Comparison_State</td>\n",
       "      <td>YORK</td>\n",
       "      <td>2013</td>\n",
       "      <td>5.813704e+07</td>\n",
       "      <td>45091</td>\n",
       "      <td>South Carolina</td>\n",
       "      <td>South Carolina</td>\n",
       "      <td>YORK</td>\n",
       "      <td>238736.0</td>\n",
       "    </tr>\n",
       "    <tr>\n",
       "      <th>1719</th>\n",
       "      <td>Comparison_State</td>\n",
       "      <td>YORK</td>\n",
       "      <td>2014</td>\n",
       "      <td>6.217813e+07</td>\n",
       "      <td>45091</td>\n",
       "      <td>South Carolina</td>\n",
       "      <td>South Carolina</td>\n",
       "      <td>YORK</td>\n",
       "      <td>244661.0</td>\n",
       "    </tr>\n",
       "  </tbody>\n",
       "</table>\n",
       "<p>1720 rows × 9 columns</p>\n",
       "</div>"
      ],
      "text/plain": [
       "           BUYER_STATE BUYER_COUNTY  YEAR           MME  FIPS Code  \\\n",
       "0     Comparison_State       APACHE  2006  4.956969e+06       4001   \n",
       "1     Comparison_State       APACHE  2007  5.611684e+06       4001   \n",
       "2     Comparison_State       APACHE  2008  5.853244e+06       4001   \n",
       "3     Comparison_State       APACHE  2009  7.344332e+06       4001   \n",
       "4     Comparison_State       APACHE  2010  7.732743e+06       4001   \n",
       "...                ...          ...   ...           ...        ...   \n",
       "1715  Comparison_State         YORK  2010  5.209517e+07      45091   \n",
       "1716  Comparison_State         YORK  2011  5.296504e+07      45091   \n",
       "1717  Comparison_State         YORK  2012  5.644417e+07      45091   \n",
       "1718  Comparison_State         YORK  2013  5.813704e+07      45091   \n",
       "1719  Comparison_State         YORK  2014  6.217813e+07      45091   \n",
       "\n",
       "               State          STNAME CTYNAME  POPULATION  \n",
       "0            Arizona         Arizona  APACHE     69066.0  \n",
       "1            Arizona         Arizona  APACHE     69278.0  \n",
       "2            Arizona         Arizona  APACHE     69520.0  \n",
       "3            Arizona         Arizona  APACHE     70591.0  \n",
       "4            Arizona         Arizona  APACHE     71828.0  \n",
       "...              ...             ...     ...         ...  \n",
       "1715  South Carolina  South Carolina    YORK    226871.0  \n",
       "1716  South Carolina  South Carolina    YORK    230131.0  \n",
       "1717  South Carolina  South Carolina    YORK    234151.0  \n",
       "1718  South Carolina  South Carolina    YORK    238736.0  \n",
       "1719  South Carolina  South Carolina    YORK    244661.0  \n",
       "\n",
       "[1720 rows x 9 columns]"
      ]
     },
     "execution_count": 8,
     "metadata": {},
     "output_type": "execute_result"
    }
   ],
   "source": [
    "df"
   ]
  },
  {
   "cell_type": "code",
   "execution_count": 9,
   "metadata": {},
   "outputs": [
    {
     "data": {
      "text/html": [
       "<div>\n",
       "<style scoped>\n",
       "    .dataframe tbody tr th:only-of-type {\n",
       "        vertical-align: middle;\n",
       "    }\n",
       "\n",
       "    .dataframe tbody tr th {\n",
       "        vertical-align: top;\n",
       "    }\n",
       "\n",
       "    .dataframe thead th {\n",
       "        text-align: right;\n",
       "    }\n",
       "</style>\n",
       "<table border=\"1\" class=\"dataframe\">\n",
       "  <thead>\n",
       "    <tr style=\"text-align: right;\">\n",
       "      <th></th>\n",
       "      <th>count</th>\n",
       "      <th>mean</th>\n",
       "      <th>std</th>\n",
       "      <th>min</th>\n",
       "      <th>25%</th>\n",
       "      <th>50%</th>\n",
       "      <th>75%</th>\n",
       "      <th>max</th>\n",
       "    </tr>\n",
       "    <tr>\n",
       "      <th>BUYER_STATE</th>\n",
       "      <th></th>\n",
       "      <th></th>\n",
       "      <th></th>\n",
       "      <th></th>\n",
       "      <th></th>\n",
       "      <th></th>\n",
       "      <th></th>\n",
       "      <th></th>\n",
       "    </tr>\n",
       "  </thead>\n",
       "  <tbody>\n",
       "    <tr>\n",
       "      <th>Comparison_State</th>\n",
       "      <td>1120.0</td>\n",
       "      <td>5.532070e+07</td>\n",
       "      <td>1.723070e+08</td>\n",
       "      <td>2185.88</td>\n",
       "      <td>4985211.97</td>\n",
       "      <td>14981229.21</td>\n",
       "      <td>4.354434e+07</td>\n",
       "      <td>2.114214e+09</td>\n",
       "    </tr>\n",
       "    <tr>\n",
       "      <th>FL</th>\n",
       "      <td>600.0</td>\n",
       "      <td>1.724027e+08</td>\n",
       "      <td>3.462363e+08</td>\n",
       "      <td>628449.83</td>\n",
       "      <td>9807154.29</td>\n",
       "      <td>54206960.72</td>\n",
       "      <td>1.665996e+08</td>\n",
       "      <td>3.026737e+09</td>\n",
       "    </tr>\n",
       "  </tbody>\n",
       "</table>\n",
       "</div>"
      ],
      "text/plain": [
       "                   count          mean           std        min         25%  \\\n",
       "BUYER_STATE                                                                   \n",
       "Comparison_State  1120.0  5.532070e+07  1.723070e+08    2185.88  4985211.97   \n",
       "FL                 600.0  1.724027e+08  3.462363e+08  628449.83  9807154.29   \n",
       "\n",
       "                          50%           75%           max  \n",
       "BUYER_STATE                                                \n",
       "Comparison_State  14981229.21  4.354434e+07  2.114214e+09  \n",
       "FL                54206960.72  1.665996e+08  3.026737e+09  "
      ]
     },
     "execution_count": 9,
     "metadata": {},
     "output_type": "execute_result"
    }
   ],
   "source": [
    "df['BUYER_STATE'].value_counts()\n",
    "round(df.groupby('BUYER_STATE')['MME'].describe(),2)"
   ]
  },
  {
   "cell_type": "code",
   "execution_count": 10,
   "metadata": {},
   "outputs": [
    {
     "data": {
      "text/plain": [
       "STNAME\n",
       "Arizona    1.644573e+08\n",
       "Name: MME, dtype: float64"
      ]
     },
     "execution_count": 10,
     "metadata": {},
     "output_type": "execute_result"
    }
   ],
   "source": [
    "# fl shipment to Arizona before 2010\n",
    "fl_ship_az = df[df['STNAME'] == 'Arizona']\n",
    "fl_ship_az1 = fl_ship_az[fl_ship_az['YEAR']<= 2010]\n",
    "fl_ship_az1.groupby('STNAME')['MME'].mean()"
   ]
  },
  {
   "cell_type": "code",
   "execution_count": 11,
   "metadata": {},
   "outputs": [
    {
     "data": {
      "text/plain": [
       "STNAME\n",
       "Arizona    2.353518e+08\n",
       "Name: MME, dtype: float64"
      ]
     },
     "execution_count": 11,
     "metadata": {},
     "output_type": "execute_result"
    }
   ],
   "source": [
    "# fl shipment to Arizona after 2010\n",
    "fl_ship_az2 = fl_ship_az[fl_ship_az['YEAR']> 2010]\n",
    "fl_ship_az2.groupby('STNAME')['MME'].mean()\n"
   ]
  },
  {
   "cell_type": "code",
   "execution_count": 12,
   "metadata": {},
   "outputs": [
    {
     "data": {
      "text/plain": [
       "BUYER_STATE      Comparison_State\n",
       "BUYER_COUNTY                 YUMA\n",
       "YEAR                         2010\n",
       "MME             1784577100.201575\n",
       "FIPS Code                    4027\n",
       "State                     Arizona\n",
       "STNAME                    Arizona\n",
       "CTYNAME                      YUMA\n",
       "POPULATION              4023132.0\n",
       "dtype: object"
      ]
     },
     "execution_count": 12,
     "metadata": {},
     "output_type": "execute_result"
    }
   ],
   "source": [
    "# shipment to Arizona by CTYNAME before 2010\n",
    "fl_ship_az1.groupby('CTYNAME')['MME'].mean()\n",
    "fl_ship_az1.max()"
   ]
  },
  {
   "cell_type": "code",
   "execution_count": 13,
   "metadata": {},
   "outputs": [
    {
     "data": {
      "text/plain": [
       "BUYER_STATE      Comparison_State\n",
       "BUYER_COUNTY                 YUMA\n",
       "YEAR                         2014\n",
       "MME             2114214074.404012\n",
       "FIPS Code                    4027\n",
       "State                     Arizona\n",
       "STNAME                    Arizona\n",
       "CTYNAME                      YUMA\n",
       "POPULATION              4094842.0\n",
       "dtype: object"
      ]
     },
     "execution_count": 13,
     "metadata": {},
     "output_type": "execute_result"
    }
   ],
   "source": [
    "# shipment to Arizona by CTYNAME after 2010\n",
    "fl_ship_az2.groupby('CTYNAME')['MME'].mean()\n",
    "fl_ship_az2.max()"
   ]
  },
  {
   "cell_type": "code",
   "execution_count": 14,
   "metadata": {},
   "outputs": [
    {
     "data": {
      "text/plain": [
       "Series([], Name: MME, dtype: float64)"
      ]
     },
     "execution_count": 14,
     "metadata": {},
     "output_type": "execute_result"
    }
   ],
   "source": [
    "# fl shipment to Louisiana before 2010\n",
    "fl_ship_la = df[df['STNAME'] == 'Louisiana']\n",
    "fl_ship_la1 = fl_ship_la[fl_ship_la['YEAR']<= 2010]\n",
    "fl_ship_la1.groupby('STNAME')['MME'].mean()\n"
   ]
  },
  {
   "cell_type": "code",
   "execution_count": 15,
   "metadata": {},
   "outputs": [
    {
     "data": {
      "text/plain": [
       "Series([], Name: MME, dtype: float64)"
      ]
     },
     "execution_count": 15,
     "metadata": {},
     "output_type": "execute_result"
    }
   ],
   "source": [
    "# fl shipment to Louisiana after 2010\n",
    "fl_ship_la2 = fl_ship_la[fl_ship_la['YEAR']> 2010]\n",
    "fl_ship_la2.groupby('STNAME')['MME'].mean()\n"
   ]
  },
  {
   "cell_type": "code",
   "execution_count": 16,
   "metadata": {},
   "outputs": [
    {
     "data": {
      "text/plain": [
       "STNAME\n",
       "South Carolina    3.766200e+07\n",
       "Name: MME, dtype: float64"
      ]
     },
     "execution_count": 16,
     "metadata": {},
     "output_type": "execute_result"
    }
   ],
   "source": [
    "# fl shipment to South Carolina before 2010\n",
    "fl_ship_sc = df[df['STNAME'] == 'South Carolina']\n",
    "fl_ship_sc1 = fl_ship_sc[fl_ship_sc['YEAR']<= 2010]\n",
    "fl_ship_sc1.groupby('STNAME')['MME'].mean()\n"
   ]
  },
  {
   "cell_type": "code",
   "execution_count": 17,
   "metadata": {},
   "outputs": [
    {
     "data": {
      "text/plain": [
       "STNAME\n",
       "South Carolina    5.581880e+07\n",
       "Name: MME, dtype: float64"
      ]
     },
     "execution_count": 17,
     "metadata": {},
     "output_type": "execute_result"
    }
   ],
   "source": [
    "# fl shipment to South Carolina after 2010\n",
    "fl_ship_sc2 = fl_ship_sc[fl_ship_sc['YEAR']> 2010]\n",
    "fl_ship_sc2.groupby('STNAME')['MME'].mean()"
   ]
  },
  {
   "cell_type": "code",
   "execution_count": 18,
   "metadata": {},
   "outputs": [
    {
     "data": {
      "text/plain": [
       "STNAME\n",
       "Florida    1.994386e+08\n",
       "Name: MME, dtype: float64"
      ]
     },
     "execution_count": 18,
     "metadata": {},
     "output_type": "execute_result"
    }
   ],
   "source": [
    "# fl shipment to Florida before 2010\n",
    "fl_ship_fl = df[df['STNAME'] == 'Florida']\n",
    "fl_ship_fl1 = fl_ship_fl[fl_ship_fl['YEAR']<= 2010]\n",
    "fl_ship_fl1.groupby('STNAME')['MME'].mean()\n",
    "\n"
   ]
  },
  {
   "cell_type": "code",
   "execution_count": 19,
   "metadata": {},
   "outputs": [
    {
     "data": {
      "text/plain": [
       "STNAME\n",
       "Florida    1.489932e+08\n",
       "Name: MME, dtype: float64"
      ]
     },
     "execution_count": 19,
     "metadata": {},
     "output_type": "execute_result"
    }
   ],
   "source": [
    "# fl shipment to Florida after 2010\n",
    "fl_ship_fl2 = fl_ship_fl[fl_ship_fl['YEAR']> 2010]\n",
    "fl_ship_fl2.groupby('STNAME')['MME'].mean()\n"
   ]
  },
  {
   "cell_type": "code",
   "execution_count": 20,
   "metadata": {},
   "outputs": [
    {
     "data": {
      "text/plain": [
       "BUYER_STATE                    FL\n",
       "BUYER_COUNTY           WASHINGTON\n",
       "YEAR                         2010\n",
       "MME             3026736844.585425\n",
       "FIPS Code                   12133\n",
       "State                     Florida\n",
       "STNAME                    Florida\n",
       "CTYNAME                WASHINGTON\n",
       "POPULATION              2506986.0\n",
       "dtype: object"
      ]
     },
     "execution_count": 20,
     "metadata": {},
     "output_type": "execute_result"
    }
   ],
   "source": [
    "# shipment to Florida by CTYNAME before 2010\n",
    "fl_ship_fl1.groupby('CTYNAME')['MME'].mean()\n",
    "fl_ship_fl1.max()"
   ]
  },
  {
   "cell_type": "code",
   "execution_count": 21,
   "metadata": {},
   "outputs": [
    {
     "data": {
      "text/plain": [
       "BUYER_STATE                    FL\n",
       "BUYER_COUNTY           WASHINGTON\n",
       "YEAR                         2014\n",
       "MME             1533314549.951288\n",
       "FIPS Code                   12133\n",
       "State                     Florida\n",
       "STNAME                    Florida\n",
       "CTYNAME                WASHINGTON\n",
       "POPULATION              2634056.0\n",
       "dtype: object"
      ]
     },
     "execution_count": 21,
     "metadata": {},
     "output_type": "execute_result"
    }
   ],
   "source": [
    "# shipment to Florida by CTYNAME after 2010\n",
    "fl_ship_fl2.groupby('CTYNAME')['MME'].mean()\n",
    "fl_ship_fl2.max()\n",
    "\n"
   ]
  },
  {
   "cell_type": "markdown",
   "metadata": {},
   "source": [
    "### Washington--CO, AZ, NY"
   ]
  },
  {
   "cell_type": "code",
   "execution_count": 22,
   "metadata": {},
   "outputs": [
    {
     "data": {
      "text/html": [
       "<div>\n",
       "<style scoped>\n",
       "    .dataframe tbody tr th:only-of-type {\n",
       "        vertical-align: middle;\n",
       "    }\n",
       "\n",
       "    .dataframe tbody tr th {\n",
       "        vertical-align: top;\n",
       "    }\n",
       "\n",
       "    .dataframe thead th {\n",
       "        text-align: right;\n",
       "    }\n",
       "</style>\n",
       "<table border=\"1\" class=\"dataframe\">\n",
       "  <thead>\n",
       "    <tr style=\"text-align: right;\">\n",
       "      <th></th>\n",
       "      <th>BUYER_STATE</th>\n",
       "      <th>BUYER_COUNTY</th>\n",
       "      <th>YEAR</th>\n",
       "      <th>MME</th>\n",
       "      <th>FIPS Code</th>\n",
       "      <th>State</th>\n",
       "      <th>STNAME</th>\n",
       "      <th>CTYNAME</th>\n",
       "      <th>POPULATION</th>\n",
       "    </tr>\n",
       "  </thead>\n",
       "  <tbody>\n",
       "    <tr>\n",
       "      <th>0</th>\n",
       "      <td>AZ</td>\n",
       "      <td>APACHE</td>\n",
       "      <td>2006</td>\n",
       "      <td>4.956969e+06</td>\n",
       "      <td>4001</td>\n",
       "      <td>Arizona</td>\n",
       "      <td>Arizona</td>\n",
       "      <td>APACHE</td>\n",
       "      <td>69066.0</td>\n",
       "    </tr>\n",
       "    <tr>\n",
       "      <th>1</th>\n",
       "      <td>AZ</td>\n",
       "      <td>APACHE</td>\n",
       "      <td>2007</td>\n",
       "      <td>5.611684e+06</td>\n",
       "      <td>4001</td>\n",
       "      <td>Arizona</td>\n",
       "      <td>Arizona</td>\n",
       "      <td>APACHE</td>\n",
       "      <td>69278.0</td>\n",
       "    </tr>\n",
       "    <tr>\n",
       "      <th>2</th>\n",
       "      <td>AZ</td>\n",
       "      <td>APACHE</td>\n",
       "      <td>2008</td>\n",
       "      <td>5.853244e+06</td>\n",
       "      <td>4001</td>\n",
       "      <td>Arizona</td>\n",
       "      <td>Arizona</td>\n",
       "      <td>APACHE</td>\n",
       "      <td>69520.0</td>\n",
       "    </tr>\n",
       "    <tr>\n",
       "      <th>3</th>\n",
       "      <td>AZ</td>\n",
       "      <td>APACHE</td>\n",
       "      <td>2009</td>\n",
       "      <td>7.344332e+06</td>\n",
       "      <td>4001</td>\n",
       "      <td>Arizona</td>\n",
       "      <td>Arizona</td>\n",
       "      <td>APACHE</td>\n",
       "      <td>70591.0</td>\n",
       "    </tr>\n",
       "    <tr>\n",
       "      <th>4</th>\n",
       "      <td>AZ</td>\n",
       "      <td>APACHE</td>\n",
       "      <td>2010</td>\n",
       "      <td>7.732743e+06</td>\n",
       "      <td>4001</td>\n",
       "      <td>Arizona</td>\n",
       "      <td>Arizona</td>\n",
       "      <td>APACHE</td>\n",
       "      <td>71828.0</td>\n",
       "    </tr>\n",
       "  </tbody>\n",
       "</table>\n",
       "</div>"
      ],
      "text/plain": [
       "  BUYER_STATE BUYER_COUNTY  YEAR           MME  FIPS Code    State   STNAME  \\\n",
       "0          AZ       APACHE  2006  4.956969e+06       4001  Arizona  Arizona   \n",
       "1          AZ       APACHE  2007  5.611684e+06       4001  Arizona  Arizona   \n",
       "2          AZ       APACHE  2008  5.853244e+06       4001  Arizona  Arizona   \n",
       "3          AZ       APACHE  2009  7.344332e+06       4001  Arizona  Arizona   \n",
       "4          AZ       APACHE  2010  7.732743e+06       4001  Arizona  Arizona   \n",
       "\n",
       "  CTYNAME  POPULATION  \n",
       "0  APACHE     69066.0  \n",
       "1  APACHE     69278.0  \n",
       "2  APACHE     69520.0  \n",
       "3  APACHE     70591.0  \n",
       "4  APACHE     71828.0  "
      ]
     },
     "execution_count": 22,
     "metadata": {},
     "output_type": "execute_result"
    }
   ],
   "source": [
    "url = 'https://raw.githubusercontent.com/MIDS-at-Duke/pds-2022-yellow-team/main/20_intermediate_files/wa_ship_merge.csv?token=GHSAT0AAAAAABYIEB2PMXRBQ3FXCOGK2OR4Y4GRK7A'\n",
    "df_WA = pd.read_csv(url)\n",
    "df_WA.head()"
   ]
  },
  {
   "cell_type": "code",
   "execution_count": 23,
   "metadata": {},
   "outputs": [
    {
     "data": {
      "text/html": [
       "<div>\n",
       "<style scoped>\n",
       "    .dataframe tbody tr th:only-of-type {\n",
       "        vertical-align: middle;\n",
       "    }\n",
       "\n",
       "    .dataframe tbody tr th {\n",
       "        vertical-align: top;\n",
       "    }\n",
       "\n",
       "    .dataframe thead th {\n",
       "        text-align: right;\n",
       "    }\n",
       "</style>\n",
       "<table border=\"1\" class=\"dataframe\">\n",
       "  <thead>\n",
       "    <tr style=\"text-align: right;\">\n",
       "      <th></th>\n",
       "      <th>count</th>\n",
       "      <th>mean</th>\n",
       "      <th>std</th>\n",
       "      <th>min</th>\n",
       "      <th>25%</th>\n",
       "      <th>50%</th>\n",
       "      <th>75%</th>\n",
       "      <th>max</th>\n",
       "    </tr>\n",
       "    <tr>\n",
       "      <th>BUYER_STATE</th>\n",
       "      <th></th>\n",
       "      <th></th>\n",
       "      <th></th>\n",
       "      <th></th>\n",
       "      <th></th>\n",
       "      <th></th>\n",
       "      <th></th>\n",
       "      <th></th>\n",
       "    </tr>\n",
       "  </thead>\n",
       "  <tbody>\n",
       "    <tr>\n",
       "      <th>Comparison_State</th>\n",
       "      <td>1219.0</td>\n",
       "      <td>73096665.97</td>\n",
       "      <td>1.851588e+08</td>\n",
       "      <td>242.16</td>\n",
       "      <td>5070708.75</td>\n",
       "      <td>16678279.11</td>\n",
       "      <td>55783699.52</td>\n",
       "      <td>2.114214e+09</td>\n",
       "    </tr>\n",
       "    <tr>\n",
       "      <th>WA</th>\n",
       "      <td>351.0</td>\n",
       "      <td>61484989.38</td>\n",
       "      <td>1.135400e+08</td>\n",
       "      <td>761058.52</td>\n",
       "      <td>7347821.67</td>\n",
       "      <td>20319301.58</td>\n",
       "      <td>51758630.42</td>\n",
       "      <td>6.469564e+08</td>\n",
       "    </tr>\n",
       "  </tbody>\n",
       "</table>\n",
       "</div>"
      ],
      "text/plain": [
       "                   count         mean           std        min         25%  \\\n",
       "BUYER_STATE                                                                  \n",
       "Comparison_State  1219.0  73096665.97  1.851588e+08     242.16  5070708.75   \n",
       "WA                 351.0  61484989.38  1.135400e+08  761058.52  7347821.67   \n",
       "\n",
       "                          50%          75%           max  \n",
       "BUYER_STATE                                               \n",
       "Comparison_State  16678279.11  55783699.52  2.114214e+09  \n",
       "WA                20319301.58  51758630.42  6.469564e+08  "
      ]
     },
     "execution_count": 23,
     "metadata": {},
     "output_type": "execute_result"
    }
   ],
   "source": [
    "df_WA['BUYER_STATE']=df_WA['BUYER_STATE'].replace(['CO','AZ','NY'],'Comparison_State')\n",
    "df_WA['BUYER_STATE'].value_counts()\n",
    "round(df_WA.groupby('BUYER_STATE')['MME'].describe(),2)"
   ]
  },
  {
   "cell_type": "code",
   "execution_count": 24,
   "metadata": {},
   "outputs": [
    {
     "data": {
      "text/plain": [
       "STNAME\n",
       "Colorado    2.544277e+07\n",
       "Name: MME, dtype: float64"
      ]
     },
     "execution_count": 24,
     "metadata": {},
     "output_type": "execute_result"
    }
   ],
   "source": [
    "# wa shipment to CO before 2012\n",
    "wa_ship_co = df_WA[df_WA['STNAME'] == 'Colorado']\n",
    "wa_ship_co1 = wa_ship_co[wa_ship_co['YEAR']<= 2012]\n",
    "wa_ship_co1.groupby('STNAME')['MME'].mean()\n"
   ]
  },
  {
   "cell_type": "code",
   "execution_count": 25,
   "metadata": {},
   "outputs": [
    {
     "data": {
      "text/plain": [
       "STNAME\n",
       "Colorado    3.000596e+07\n",
       "Name: MME, dtype: float64"
      ]
     },
     "execution_count": 25,
     "metadata": {},
     "output_type": "execute_result"
    }
   ],
   "source": [
    "# wa shipment to CO after 2012\n",
    "wa_ship_co2 = wa_ship_co[wa_ship_co['YEAR']> 2012]\n",
    "wa_ship_co2.groupby('STNAME')['MME'].mean()"
   ]
  },
  {
   "cell_type": "code",
   "execution_count": 26,
   "metadata": {},
   "outputs": [
    {
     "data": {
      "text/plain": [
       "STNAME\n",
       "Arizona    1.853882e+08\n",
       "Name: MME, dtype: float64"
      ]
     },
     "execution_count": 26,
     "metadata": {},
     "output_type": "execute_result"
    }
   ],
   "source": [
    "# wa shipment to AZ before 2012\n",
    "wa_ship_az = df_WA[df_WA['STNAME'] == 'Arizona']\n",
    "wa_ship_az1 = wa_ship_az[wa_ship_az['YEAR']<= 2012]\n",
    "wa_ship_az1.groupby('STNAME')['MME'].mean()\n"
   ]
  },
  {
   "cell_type": "code",
   "execution_count": 27,
   "metadata": {},
   "outputs": [
    {
     "data": {
      "text/plain": [
       "STNAME\n",
       "Arizona    2.329883e+08\n",
       "Name: MME, dtype: float64"
      ]
     },
     "execution_count": 27,
     "metadata": {},
     "output_type": "execute_result"
    }
   ],
   "source": [
    "# wa shipment to AZ after 2012\n",
    "wa_ship_az2 = wa_ship_az[wa_ship_az['YEAR']> 2012]\n",
    "wa_ship_az2.groupby('STNAME')['MME'].mean()\n"
   ]
  },
  {
   "cell_type": "code",
   "execution_count": 28,
   "metadata": {},
   "outputs": [
    {
     "data": {
      "text/plain": [
       "STNAME\n",
       "New York    8.575867e+07\n",
       "Name: MME, dtype: float64"
      ]
     },
     "execution_count": 28,
     "metadata": {},
     "output_type": "execute_result"
    }
   ],
   "source": [
    "# wa shipment to NY before 2012\n",
    "wa_ship_ny = df_WA[df_WA['STNAME'] == 'New York']\n",
    "wa_ship_ny1 = wa_ship_ny[wa_ship_ny['YEAR']<= 2012]\n",
    "wa_ship_ny1.groupby('STNAME')['MME'].mean()\n"
   ]
  },
  {
   "cell_type": "code",
   "execution_count": 29,
   "metadata": {},
   "outputs": [
    {
     "data": {
      "text/plain": [
       "BUYER_STATE     Comparison_State\n",
       "BUYER_COUNTY               YATES\n",
       "YEAR                        2012\n",
       "MME             767117238.708112\n",
       "FIPS Code                  36123\n",
       "State                   New York\n",
       "STNAME                  New York\n",
       "CTYNAME                    YATES\n",
       "POPULATION             2568538.0\n",
       "dtype: object"
      ]
     },
     "execution_count": 29,
     "metadata": {},
     "output_type": "execute_result"
    }
   ],
   "source": [
    "# shipment to NY by CTYNAME before 2012\n",
    "wa_ship_ny1.groupby('CTYNAME')['MME'].mean()\n",
    "wa_ship_ny1.max()"
   ]
  },
  {
   "cell_type": "code",
   "execution_count": 30,
   "metadata": {},
   "outputs": [
    {
     "data": {
      "text/plain": [
       "STNAME\n",
       "New York    9.730642e+07\n",
       "Name: MME, dtype: float64"
      ]
     },
     "execution_count": 30,
     "metadata": {},
     "output_type": "execute_result"
    }
   ],
   "source": [
    "# wa shipment to NY after 2012\n",
    "wa_ship_ny2 = wa_ship_ny[wa_ship_ny['YEAR']> 2012]\n",
    "wa_ship_ny2.groupby('STNAME')['MME'].mean()\n"
   ]
  },
  {
   "cell_type": "code",
   "execution_count": 31,
   "metadata": {},
   "outputs": [
    {
     "data": {
      "text/plain": [
       "BUYER_STATE     Comparison_State\n",
       "BUYER_COUNTY               YATES\n",
       "YEAR                        2014\n",
       "MME             625433764.025213\n",
       "FIPS Code                  36123\n",
       "State                   New York\n",
       "STNAME                  New York\n",
       "CTYNAME                    YATES\n",
       "POPULATION             2601527.0\n",
       "dtype: object"
      ]
     },
     "execution_count": 31,
     "metadata": {},
     "output_type": "execute_result"
    }
   ],
   "source": [
    "# shipment to NY by CTYNAME after 2012\n",
    "wa_ship_ny2.groupby('CTYNAME')['MME'].mean()\n",
    "wa_ship_ny2.max()\n"
   ]
  },
  {
   "cell_type": "code",
   "execution_count": 32,
   "metadata": {},
   "outputs": [
    {
     "data": {
      "text/plain": [
       "STNAME\n",
       "Washington    6.116464e+07\n",
       "Name: MME, dtype: float64"
      ]
     },
     "execution_count": 32,
     "metadata": {},
     "output_type": "execute_result"
    }
   ],
   "source": [
    "# wa shipment to WA before 2012\n",
    "wa_ship_wa = df_WA[df_WA['STNAME'] == 'Washington']\n",
    "wa_ship_wa1 = wa_ship_wa[wa_ship_wa['YEAR']<= 2012]\n",
    "wa_ship_wa1.groupby('STNAME')['MME'].mean()\n"
   ]
  },
  {
   "cell_type": "code",
   "execution_count": 33,
   "metadata": {},
   "outputs": [
    {
     "data": {
      "text/plain": [
       "STNAME\n",
       "Washington    6.260623e+07\n",
       "Name: MME, dtype: float64"
      ]
     },
     "execution_count": 33,
     "metadata": {},
     "output_type": "execute_result"
    }
   ],
   "source": [
    "# wa shipment to WA after 2012\n",
    "wa_ship_wa2 = wa_ship_wa[wa_ship_wa['YEAR']> 2012]\n",
    "wa_ship_wa2.groupby('STNAME')['MME'].mean()\n"
   ]
  },
  {
   "cell_type": "markdown",
   "metadata": {},
   "source": [
    "## Death"
   ]
  },
  {
   "cell_type": "markdown",
   "metadata": {},
   "source": [
    "### Florida-LA,NV,CO"
   ]
  },
  {
   "cell_type": "code",
   "execution_count": 34,
   "metadata": {},
   "outputs": [
    {
     "data": {
      "text/html": [
       "<div>\n",
       "<style scoped>\n",
       "    .dataframe tbody tr th:only-of-type {\n",
       "        vertical-align: middle;\n",
       "    }\n",
       "\n",
       "    .dataframe tbody tr th {\n",
       "        vertical-align: top;\n",
       "    }\n",
       "\n",
       "    .dataframe thead th {\n",
       "        text-align: right;\n",
       "    }\n",
       "</style>\n",
       "<table border=\"1\" class=\"dataframe\">\n",
       "  <thead>\n",
       "    <tr style=\"text-align: right;\">\n",
       "      <th></th>\n",
       "      <th>YEAR</th>\n",
       "      <th>Death Rate (%)</th>\n",
       "      <th>POPULATION</th>\n",
       "      <th>STNAME</th>\n",
       "      <th>CTYNAME</th>\n",
       "      <th>Indicator</th>\n",
       "    </tr>\n",
       "  </thead>\n",
       "  <tbody>\n",
       "    <tr>\n",
       "      <th>0</th>\n",
       "      <td>2003.0</td>\n",
       "      <td>0.011088</td>\n",
       "      <td>378785.0</td>\n",
       "      <td>Colorado</td>\n",
       "      <td>Adams County</td>\n",
       "      <td>Control</td>\n",
       "    </tr>\n",
       "    <tr>\n",
       "      <th>1</th>\n",
       "      <td>2003.0</td>\n",
       "      <td>0.031644</td>\n",
       "      <td>15125.0</td>\n",
       "      <td>Colorado</td>\n",
       "      <td>Alamosa County</td>\n",
       "      <td>Control</td>\n",
       "    </tr>\n",
       "    <tr>\n",
       "      <th>2</th>\n",
       "      <td>2003.0</td>\n",
       "      <td>0.008748</td>\n",
       "      <td>514406.0</td>\n",
       "      <td>Colorado</td>\n",
       "      <td>Arapahoe County</td>\n",
       "      <td>Control</td>\n",
       "    </tr>\n",
       "    <tr>\n",
       "      <th>3</th>\n",
       "      <td>2003.0</td>\n",
       "      <td>0.031644</td>\n",
       "      <td>11167.0</td>\n",
       "      <td>Colorado</td>\n",
       "      <td>Archuleta County</td>\n",
       "      <td>Control</td>\n",
       "    </tr>\n",
       "    <tr>\n",
       "      <th>4</th>\n",
       "      <td>2003.0</td>\n",
       "      <td>0.031644</td>\n",
       "      <td>4106.0</td>\n",
       "      <td>Colorado</td>\n",
       "      <td>Baca County</td>\n",
       "      <td>Control</td>\n",
       "    </tr>\n",
       "  </tbody>\n",
       "</table>\n",
       "</div>"
      ],
      "text/plain": [
       "     YEAR  Death Rate (%)  POPULATION    STNAME           CTYNAME Indicator\n",
       "0  2003.0        0.011088    378785.0  Colorado      Adams County   Control\n",
       "1  2003.0        0.031644     15125.0  Colorado    Alamosa County   Control\n",
       "2  2003.0        0.008748    514406.0  Colorado   Arapahoe County   Control\n",
       "3  2003.0        0.031644     11167.0  Colorado  Archuleta County   Control\n",
       "4  2003.0        0.031644      4106.0  Colorado       Baca County   Control"
      ]
     },
     "execution_count": 34,
     "metadata": {},
     "output_type": "execute_result"
    }
   ],
   "source": [
    "url = 'https://raw.githubusercontent.com/MIDS-at-Duke/pds-2022-yellow-team/main/20_intermediate_files/florida_death_cleaned.csv?token=GHSAT0AAAAAABYIEB2PBXMJ5LSM23C6NYWSY4GRRIQ'\n",
    "DE_fl = pd.read_csv(url)\n",
    "DE_fl.head()"
   ]
  },
  {
   "cell_type": "code",
   "execution_count": 35,
   "metadata": {},
   "outputs": [
    {
     "data": {
      "text/html": [
       "<div>\n",
       "<style scoped>\n",
       "    .dataframe tbody tr th:only-of-type {\n",
       "        vertical-align: middle;\n",
       "    }\n",
       "\n",
       "    .dataframe tbody tr th {\n",
       "        vertical-align: top;\n",
       "    }\n",
       "\n",
       "    .dataframe thead th {\n",
       "        text-align: right;\n",
       "    }\n",
       "</style>\n",
       "<table border=\"1\" class=\"dataframe\">\n",
       "  <thead>\n",
       "    <tr style=\"text-align: right;\">\n",
       "      <th></th>\n",
       "      <th>count</th>\n",
       "      <th>mean</th>\n",
       "      <th>std</th>\n",
       "      <th>min</th>\n",
       "      <th>25%</th>\n",
       "      <th>50%</th>\n",
       "      <th>75%</th>\n",
       "      <th>max</th>\n",
       "    </tr>\n",
       "    <tr>\n",
       "      <th>STNAME</th>\n",
       "      <th></th>\n",
       "      <th></th>\n",
       "      <th></th>\n",
       "      <th></th>\n",
       "      <th></th>\n",
       "      <th></th>\n",
       "      <th></th>\n",
       "      <th></th>\n",
       "    </tr>\n",
       "  </thead>\n",
       "  <tbody>\n",
       "    <tr>\n",
       "      <th>Comparison_State</th>\n",
       "      <td>1885.0</td>\n",
       "      <td>0.0282</td>\n",
       "      <td>0.0078</td>\n",
       "      <td>0.0034</td>\n",
       "      <td>0.0278</td>\n",
       "      <td>0.0316</td>\n",
       "      <td>0.0341</td>\n",
       "      <td>0.0783</td>\n",
       "    </tr>\n",
       "    <tr>\n",
       "      <th>Florida</th>\n",
       "      <td>871.0</td>\n",
       "      <td>0.0198</td>\n",
       "      <td>0.0077</td>\n",
       "      <td>0.0038</td>\n",
       "      <td>0.0132</td>\n",
       "      <td>0.0207</td>\n",
       "      <td>0.0276</td>\n",
       "      <td>0.0408</td>\n",
       "    </tr>\n",
       "  </tbody>\n",
       "</table>\n",
       "</div>"
      ],
      "text/plain": [
       "                   count    mean     std     min     25%     50%     75%  \\\n",
       "STNAME                                                                     \n",
       "Comparison_State  1885.0  0.0282  0.0078  0.0034  0.0278  0.0316  0.0341   \n",
       "Florida            871.0  0.0198  0.0077  0.0038  0.0132  0.0207  0.0276   \n",
       "\n",
       "                     max  \n",
       "STNAME                    \n",
       "Comparison_State  0.0783  \n",
       "Florida           0.0408  "
      ]
     },
     "execution_count": 35,
     "metadata": {},
     "output_type": "execute_result"
    }
   ],
   "source": [
    "DE_fl['STNAME']=DE_fl['STNAME'].replace(['Louisiana','Nevada','Colorado'],'Comparison_State')\n",
    "DE_fl['STNAME'].value_counts()\n",
    "round(DE_fl.groupby('STNAME')['Death Rate (%)'].describe(),4)"
   ]
  },
  {
   "cell_type": "code",
   "execution_count": 36,
   "metadata": {},
   "outputs": [
    {
     "data": {
      "text/plain": [
       "Series([], Name: Death Rate (%), dtype: float64)"
      ]
     },
     "execution_count": 36,
     "metadata": {},
     "output_type": "execute_result"
    }
   ],
   "source": [
    "# fl death in LA before 2010\n",
    "DE_fl_la = DE_fl[DE_fl['STNAME'] == 'Louisiana']\n",
    "DE_fl_la1 = DE_fl_la[DE_fl_la['YEAR']<= 2010]\n",
    "DE_fl_la1.groupby('STNAME')['Death Rate (%)'].mean()"
   ]
  },
  {
   "cell_type": "code",
   "execution_count": 37,
   "metadata": {},
   "outputs": [
    {
     "data": {
      "text/html": [
       "<div>\n",
       "<style scoped>\n",
       "    .dataframe tbody tr th:only-of-type {\n",
       "        vertical-align: middle;\n",
       "    }\n",
       "\n",
       "    .dataframe tbody tr th {\n",
       "        vertical-align: top;\n",
       "    }\n",
       "\n",
       "    .dataframe thead th {\n",
       "        text-align: right;\n",
       "    }\n",
       "</style>\n",
       "<table border=\"1\" class=\"dataframe\">\n",
       "  <thead>\n",
       "    <tr style=\"text-align: right;\">\n",
       "      <th></th>\n",
       "      <th>YEAR</th>\n",
       "      <th>Death Rate (%)</th>\n",
       "      <th>POPULATION</th>\n",
       "      <th>STNAME</th>\n",
       "      <th>CTYNAME</th>\n",
       "      <th>Indicator</th>\n",
       "    </tr>\n",
       "  </thead>\n",
       "  <tbody>\n",
       "  </tbody>\n",
       "</table>\n",
       "</div>"
      ],
      "text/plain": [
       "Empty DataFrame\n",
       "Columns: [YEAR, Death Rate (%), POPULATION, STNAME, CTYNAME, Indicator]\n",
       "Index: []"
      ]
     },
     "execution_count": 37,
     "metadata": {},
     "output_type": "execute_result"
    }
   ],
   "source": [
    "# death to LA by CTYNAME before 2010 top 3 county \n",
    "DE_fl_la1.groupby('CTYNAME')['Death Rate (%)'].mean()\n",
    "DE_fl_la2010 = DE_fl_la1[DE_fl_la1['YEAR'] <= 2010].sort_values(ascending=False,by='Death Rate (%)')\n",
    "DE_fl_la2010.head(3)"
   ]
  },
  {
   "cell_type": "code",
   "execution_count": 38,
   "metadata": {},
   "outputs": [
    {
     "data": {
      "text/plain": [
       "Series([], Name: Death Rate (%), dtype: float64)"
      ]
     },
     "execution_count": 38,
     "metadata": {},
     "output_type": "execute_result"
    }
   ],
   "source": [
    "# fl death in LA after 2010\n",
    "DE_fl_la2 = DE_fl_la[DE_fl_la['YEAR']> 2010]    \n",
    "DE_fl_la2.groupby('STNAME')['Death Rate (%)'].mean()\n"
   ]
  },
  {
   "cell_type": "code",
   "execution_count": 39,
   "metadata": {},
   "outputs": [
    {
     "data": {
      "text/html": [
       "<div>\n",
       "<style scoped>\n",
       "    .dataframe tbody tr th:only-of-type {\n",
       "        vertical-align: middle;\n",
       "    }\n",
       "\n",
       "    .dataframe tbody tr th {\n",
       "        vertical-align: top;\n",
       "    }\n",
       "\n",
       "    .dataframe thead th {\n",
       "        text-align: right;\n",
       "    }\n",
       "</style>\n",
       "<table border=\"1\" class=\"dataframe\">\n",
       "  <thead>\n",
       "    <tr style=\"text-align: right;\">\n",
       "      <th></th>\n",
       "      <th>YEAR</th>\n",
       "      <th>Death Rate (%)</th>\n",
       "      <th>POPULATION</th>\n",
       "      <th>STNAME</th>\n",
       "      <th>CTYNAME</th>\n",
       "      <th>Indicator</th>\n",
       "    </tr>\n",
       "  </thead>\n",
       "  <tbody>\n",
       "  </tbody>\n",
       "</table>\n",
       "</div>"
      ],
      "text/plain": [
       "Empty DataFrame\n",
       "Columns: [YEAR, Death Rate (%), POPULATION, STNAME, CTYNAME, Indicator]\n",
       "Index: []"
      ]
     },
     "execution_count": 39,
     "metadata": {},
     "output_type": "execute_result"
    }
   ],
   "source": [
    "# death to LA by CTYNAME after 2010 top 3 county \n",
    "DE_fl_la2.groupby('CTYNAME')['Death Rate (%)'].mean()\n",
    "DE_fl_la_after_2010 = DE_fl_la2[DE_fl_la2['YEAR'] > 2010].sort_values(ascending=False,by='Death Rate (%)')\n",
    "DE_fl_la_after_2010.head(3)"
   ]
  },
  {
   "cell_type": "code",
   "execution_count": 40,
   "metadata": {},
   "outputs": [
    {
     "data": {
      "text/html": [
       "<div>\n",
       "<style scoped>\n",
       "    .dataframe tbody tr th:only-of-type {\n",
       "        vertical-align: middle;\n",
       "    }\n",
       "\n",
       "    .dataframe tbody tr th {\n",
       "        vertical-align: top;\n",
       "    }\n",
       "\n",
       "    .dataframe thead th {\n",
       "        text-align: right;\n",
       "    }\n",
       "</style>\n",
       "<table border=\"1\" class=\"dataframe\">\n",
       "  <thead>\n",
       "    <tr style=\"text-align: right;\">\n",
       "      <th></th>\n",
       "      <th>YEAR</th>\n",
       "      <th>Death Rate (%)</th>\n",
       "      <th>POPULATION</th>\n",
       "      <th>STNAME</th>\n",
       "      <th>CTYNAME</th>\n",
       "      <th>Indicator</th>\n",
       "    </tr>\n",
       "  </thead>\n",
       "  <tbody>\n",
       "  </tbody>\n",
       "</table>\n",
       "</div>"
      ],
      "text/plain": [
       "Empty DataFrame\n",
       "Columns: [YEAR, Death Rate (%), POPULATION, STNAME, CTYNAME, Indicator]\n",
       "Index: []"
      ]
     },
     "execution_count": 40,
     "metadata": {},
     "output_type": "execute_result"
    }
   ],
   "source": [
    "# death to LA by CTYNAME after 2010 top 3 county\n",
    "DE_fl_la2015 = DE_fl_la2[DE_fl_la2['YEAR'] > 2010].sort_values(ascending=False,by='Death Rate (%)')\n",
    "DE_fl_la2015.head(3)"
   ]
  },
  {
   "cell_type": "code",
   "execution_count": 41,
   "metadata": {},
   "outputs": [
    {
     "data": {
      "text/plain": [
       "Series([], Name: Death Rate (%), dtype: float64)"
      ]
     },
     "execution_count": 41,
     "metadata": {},
     "output_type": "execute_result"
    }
   ],
   "source": [
    "# fl death in NV before 2010\n",
    "DE_fl_nv = DE_fl[DE_fl['STNAME'] == 'Nevada']\n",
    "DE_fl_nv1 = DE_fl_nv[DE_fl_nv['YEAR']<= 2010]\n",
    "DE_fl_nv1.groupby('STNAME')['Death Rate (%)'].mean()"
   ]
  },
  {
   "cell_type": "code",
   "execution_count": 42,
   "metadata": {},
   "outputs": [
    {
     "data": {
      "text/html": [
       "<div>\n",
       "<style scoped>\n",
       "    .dataframe tbody tr th:only-of-type {\n",
       "        vertical-align: middle;\n",
       "    }\n",
       "\n",
       "    .dataframe tbody tr th {\n",
       "        vertical-align: top;\n",
       "    }\n",
       "\n",
       "    .dataframe thead th {\n",
       "        text-align: right;\n",
       "    }\n",
       "</style>\n",
       "<table border=\"1\" class=\"dataframe\">\n",
       "  <thead>\n",
       "    <tr style=\"text-align: right;\">\n",
       "      <th></th>\n",
       "      <th>YEAR</th>\n",
       "      <th>Death Rate (%)</th>\n",
       "      <th>POPULATION</th>\n",
       "      <th>STNAME</th>\n",
       "      <th>CTYNAME</th>\n",
       "      <th>Indicator</th>\n",
       "    </tr>\n",
       "  </thead>\n",
       "  <tbody>\n",
       "  </tbody>\n",
       "</table>\n",
       "</div>"
      ],
      "text/plain": [
       "Empty DataFrame\n",
       "Columns: [YEAR, Death Rate (%), POPULATION, STNAME, CTYNAME, Indicator]\n",
       "Index: []"
      ]
     },
     "execution_count": 42,
     "metadata": {},
     "output_type": "execute_result"
    }
   ],
   "source": [
    "# death to NV by CTYNAME before 2010 top 3 county \n",
    "DE_fl_nv1.groupby('CTYNAME')['Death Rate (%)'].mean()\n",
    "DE_fl_nv2010 = DE_fl_nv1[DE_fl_nv1['YEAR'] <= 2010].sort_values(ascending=False,by='Death Rate (%)')\n",
    "DE_fl_nv2010.head(3)"
   ]
  },
  {
   "cell_type": "code",
   "execution_count": 43,
   "metadata": {},
   "outputs": [
    {
     "data": {
      "text/plain": [
       "Series([], Name: Death Rate (%), dtype: float64)"
      ]
     },
     "execution_count": 43,
     "metadata": {},
     "output_type": "execute_result"
    }
   ],
   "source": [
    "# fl death in NV after 2010\n",
    "DE_fl_nv = DE_fl[DE_fl['STNAME'] == 'Nevada']\n",
    "DE_fl_nv2 = DE_fl_nv[DE_fl_nv['YEAR']> 2010]\n",
    "DE_fl_nv2.groupby('STNAME')['Death Rate (%)'].mean()"
   ]
  },
  {
   "cell_type": "code",
   "execution_count": 44,
   "metadata": {},
   "outputs": [
    {
     "data": {
      "text/html": [
       "<div>\n",
       "<style scoped>\n",
       "    .dataframe tbody tr th:only-of-type {\n",
       "        vertical-align: middle;\n",
       "    }\n",
       "\n",
       "    .dataframe tbody tr th {\n",
       "        vertical-align: top;\n",
       "    }\n",
       "\n",
       "    .dataframe thead th {\n",
       "        text-align: right;\n",
       "    }\n",
       "</style>\n",
       "<table border=\"1\" class=\"dataframe\">\n",
       "  <thead>\n",
       "    <tr style=\"text-align: right;\">\n",
       "      <th></th>\n",
       "      <th>YEAR</th>\n",
       "      <th>Death Rate (%)</th>\n",
       "      <th>POPULATION</th>\n",
       "      <th>STNAME</th>\n",
       "      <th>CTYNAME</th>\n",
       "      <th>Indicator</th>\n",
       "    </tr>\n",
       "  </thead>\n",
       "  <tbody>\n",
       "  </tbody>\n",
       "</table>\n",
       "</div>"
      ],
      "text/plain": [
       "Empty DataFrame\n",
       "Columns: [YEAR, Death Rate (%), POPULATION, STNAME, CTYNAME, Indicator]\n",
       "Index: []"
      ]
     },
     "execution_count": 44,
     "metadata": {},
     "output_type": "execute_result"
    }
   ],
   "source": [
    "# death to NV by CTYNAME after 2010 top 3 county \n",
    "DE_fl_nv_after_2010 = DE_fl_nv2[DE_fl_nv2['YEAR'] >2010].sort_values(ascending=False,by='Death Rate (%)')\n",
    "DE_fl_nv_after_2010.head(3)"
   ]
  },
  {
   "cell_type": "code",
   "execution_count": 45,
   "metadata": {},
   "outputs": [
    {
     "data": {
      "text/plain": [
       "Series([], Name: Death Rate (%), dtype: float64)"
      ]
     },
     "execution_count": 45,
     "metadata": {},
     "output_type": "execute_result"
    }
   ],
   "source": [
    "# fl death in CO before 2010\n",
    "DE_fl_co = DE_fl[DE_fl['STNAME'] == 'Colorado']\n",
    "DE_fl_co1 = DE_fl_co[DE_fl_co['YEAR']<= 2010]\n",
    "DE_fl_co1.groupby('STNAME')['Death Rate (%)'].mean()"
   ]
  },
  {
   "cell_type": "code",
   "execution_count": 46,
   "metadata": {},
   "outputs": [
    {
     "data": {
      "text/html": [
       "<div>\n",
       "<style scoped>\n",
       "    .dataframe tbody tr th:only-of-type {\n",
       "        vertical-align: middle;\n",
       "    }\n",
       "\n",
       "    .dataframe tbody tr th {\n",
       "        vertical-align: top;\n",
       "    }\n",
       "\n",
       "    .dataframe thead th {\n",
       "        text-align: right;\n",
       "    }\n",
       "</style>\n",
       "<table border=\"1\" class=\"dataframe\">\n",
       "  <thead>\n",
       "    <tr style=\"text-align: right;\">\n",
       "      <th></th>\n",
       "      <th>YEAR</th>\n",
       "      <th>Death Rate (%)</th>\n",
       "      <th>POPULATION</th>\n",
       "      <th>STNAME</th>\n",
       "      <th>CTYNAME</th>\n",
       "      <th>Indicator</th>\n",
       "    </tr>\n",
       "  </thead>\n",
       "  <tbody>\n",
       "  </tbody>\n",
       "</table>\n",
       "</div>"
      ],
      "text/plain": [
       "Empty DataFrame\n",
       "Columns: [YEAR, Death Rate (%), POPULATION, STNAME, CTYNAME, Indicator]\n",
       "Index: []"
      ]
     },
     "execution_count": 46,
     "metadata": {},
     "output_type": "execute_result"
    }
   ],
   "source": [
    "# death to NV by CTYNAME before 2010 top 3 county \n",
    "DE_fl_co1.groupby('CTYNAME')['Death Rate (%)'].mean()\n",
    "DE_fl_co2010 = DE_fl_co1[DE_fl_co1['YEAR'] <= 2010].sort_values(ascending=False,by='Death Rate (%)')\n",
    "DE_fl_co2010.head(3)"
   ]
  },
  {
   "cell_type": "code",
   "execution_count": 47,
   "metadata": {},
   "outputs": [
    {
     "data": {
      "text/plain": [
       "Series([], Name: Death Rate (%), dtype: float64)"
      ]
     },
     "execution_count": 47,
     "metadata": {},
     "output_type": "execute_result"
    }
   ],
   "source": [
    "# fl death in CO after 2010\n",
    "DE_fl_co = DE_fl[DE_fl['STNAME'] == 'Colorado']\n",
    "DE_fl_co2 = DE_fl_co[DE_fl_co['YEAR']> 2010]\n",
    "DE_fl_co2.groupby('STNAME')['Death Rate (%)'].mean()"
   ]
  },
  {
   "cell_type": "code",
   "execution_count": 48,
   "metadata": {},
   "outputs": [
    {
     "data": {
      "text/html": [
       "<div>\n",
       "<style scoped>\n",
       "    .dataframe tbody tr th:only-of-type {\n",
       "        vertical-align: middle;\n",
       "    }\n",
       "\n",
       "    .dataframe tbody tr th {\n",
       "        vertical-align: top;\n",
       "    }\n",
       "\n",
       "    .dataframe thead th {\n",
       "        text-align: right;\n",
       "    }\n",
       "</style>\n",
       "<table border=\"1\" class=\"dataframe\">\n",
       "  <thead>\n",
       "    <tr style=\"text-align: right;\">\n",
       "      <th></th>\n",
       "      <th>YEAR</th>\n",
       "      <th>Death Rate (%)</th>\n",
       "      <th>POPULATION</th>\n",
       "      <th>STNAME</th>\n",
       "      <th>CTYNAME</th>\n",
       "      <th>Indicator</th>\n",
       "    </tr>\n",
       "  </thead>\n",
       "  <tbody>\n",
       "  </tbody>\n",
       "</table>\n",
       "</div>"
      ],
      "text/plain": [
       "Empty DataFrame\n",
       "Columns: [YEAR, Death Rate (%), POPULATION, STNAME, CTYNAME, Indicator]\n",
       "Index: []"
      ]
     },
     "execution_count": 48,
     "metadata": {},
     "output_type": "execute_result"
    }
   ],
   "source": [
    "# death to NV by CTYNAME after 2010 top 3 county \n",
    "DE_fl_co_after_2010 = DE_fl_co2[DE_fl_co2['YEAR'] >2010].sort_values(ascending=False,by='Death Rate (%)')\n",
    "DE_fl_co_after_2010.head(3)"
   ]
  },
  {
   "cell_type": "code",
   "execution_count": 49,
   "metadata": {},
   "outputs": [
    {
     "data": {
      "text/plain": [
       "STNAME\n",
       "Florida    0.019845\n",
       "Name: Death Rate (%), dtype: float64"
      ]
     },
     "execution_count": 49,
     "metadata": {},
     "output_type": "execute_result"
    }
   ],
   "source": [
    "# fl death in fl before 2010\n",
    "DE_fl_fl = DE_fl[DE_fl['STNAME'] == 'Florida']\n",
    "DE_fl_fl1 = DE_fl_fl[DE_fl_fl['YEAR']<= 2010]\n",
    "DE_fl_fl1.groupby('STNAME')['Death Rate (%)'].mean()"
   ]
  },
  {
   "cell_type": "code",
   "execution_count": 50,
   "metadata": {},
   "outputs": [
    {
     "data": {
      "text/html": [
       "<div>\n",
       "<style scoped>\n",
       "    .dataframe tbody tr th:only-of-type {\n",
       "        vertical-align: middle;\n",
       "    }\n",
       "\n",
       "    .dataframe tbody tr th {\n",
       "        vertical-align: top;\n",
       "    }\n",
       "\n",
       "    .dataframe thead th {\n",
       "        text-align: right;\n",
       "    }\n",
       "</style>\n",
       "<table border=\"1\" class=\"dataframe\">\n",
       "  <thead>\n",
       "    <tr style=\"text-align: right;\">\n",
       "      <th></th>\n",
       "      <th>YEAR</th>\n",
       "      <th>Death Rate (%)</th>\n",
       "      <th>POPULATION</th>\n",
       "      <th>STNAME</th>\n",
       "      <th>CTYNAME</th>\n",
       "      <th>Indicator</th>\n",
       "    </tr>\n",
       "  </thead>\n",
       "  <tbody>\n",
       "  </tbody>\n",
       "</table>\n",
       "</div>"
      ],
      "text/plain": [
       "Empty DataFrame\n",
       "Columns: [YEAR, Death Rate (%), POPULATION, STNAME, CTYNAME, Indicator]\n",
       "Index: []"
      ]
     },
     "execution_count": 50,
     "metadata": {},
     "output_type": "execute_result"
    }
   ],
   "source": [
    "# death to fl by CTYNAME before 2010 top 3 county \n",
    "DE_fl_co1.groupby('CTYNAME')['Death Rate (%)'].mean()\n",
    "DE_fl_co_2010 = DE_fl_co1[DE_fl_co1['YEAR'] <= 2010].sort_values(ascending=False,by='Death Rate (%)')\n",
    "DE_fl_co_2010.head(3)"
   ]
  },
  {
   "cell_type": "code",
   "execution_count": 51,
   "metadata": {},
   "outputs": [
    {
     "data": {
      "text/plain": [
       "STNAME\n",
       "Florida    0.019615\n",
       "Name: Death Rate (%), dtype: float64"
      ]
     },
     "execution_count": 51,
     "metadata": {},
     "output_type": "execute_result"
    }
   ],
   "source": [
    "# fl death in fl after 2010\n",
    "DE_fl_fl = DE_fl[DE_fl['STNAME'] == 'Florida']\n",
    "DE_fl_fl2 = DE_fl_fl[DE_fl_fl['YEAR'] > 2010]\n",
    "DE_fl_fl2.groupby('STNAME')['Death Rate (%)'].mean()"
   ]
  },
  {
   "cell_type": "code",
   "execution_count": 52,
   "metadata": {},
   "outputs": [
    {
     "data": {
      "text/html": [
       "<div>\n",
       "<style scoped>\n",
       "    .dataframe tbody tr th:only-of-type {\n",
       "        vertical-align: middle;\n",
       "    }\n",
       "\n",
       "    .dataframe tbody tr th {\n",
       "        vertical-align: top;\n",
       "    }\n",
       "\n",
       "    .dataframe thead th {\n",
       "        text-align: right;\n",
       "    }\n",
       "</style>\n",
       "<table border=\"1\" class=\"dataframe\">\n",
       "  <thead>\n",
       "    <tr style=\"text-align: right;\">\n",
       "      <th></th>\n",
       "      <th>YEAR</th>\n",
       "      <th>Death Rate (%)</th>\n",
       "      <th>POPULATION</th>\n",
       "      <th>STNAME</th>\n",
       "      <th>CTYNAME</th>\n",
       "      <th>Indicator</th>\n",
       "    </tr>\n",
       "  </thead>\n",
       "  <tbody>\n",
       "  </tbody>\n",
       "</table>\n",
       "</div>"
      ],
      "text/plain": [
       "Empty DataFrame\n",
       "Columns: [YEAR, Death Rate (%), POPULATION, STNAME, CTYNAME, Indicator]\n",
       "Index: []"
      ]
     },
     "execution_count": 52,
     "metadata": {},
     "output_type": "execute_result"
    }
   ],
   "source": [
    "# death to fl by CTYNAME after 2010 top 3 county \n",
    "DE_fl_co2.groupby('CTYNAME')['Death Rate (%)'].mean()\n",
    "DE_fl_co_after_2010 = DE_fl_co2[DE_fl_co2['YEAR'] > 2010].sort_values(ascending=False,by='Death Rate (%)')\n",
    "DE_fl_co_after_2010.head(3)"
   ]
  },
  {
   "cell_type": "markdown",
   "metadata": {},
   "source": [
    "### Washington--OR,OK,HI"
   ]
  },
  {
   "cell_type": "code",
   "execution_count": 53,
   "metadata": {},
   "outputs": [
    {
     "data": {
      "text/html": [
       "<div>\n",
       "<style scoped>\n",
       "    .dataframe tbody tr th:only-of-type {\n",
       "        vertical-align: middle;\n",
       "    }\n",
       "\n",
       "    .dataframe tbody tr th {\n",
       "        vertical-align: top;\n",
       "    }\n",
       "\n",
       "    .dataframe thead th {\n",
       "        text-align: right;\n",
       "    }\n",
       "</style>\n",
       "<table border=\"1\" class=\"dataframe\">\n",
       "  <thead>\n",
       "    <tr style=\"text-align: right;\">\n",
       "      <th></th>\n",
       "      <th>YEAR</th>\n",
       "      <th>Death Rate (%)</th>\n",
       "      <th>POPULATION</th>\n",
       "      <th>STNAME</th>\n",
       "      <th>CTYNAME</th>\n",
       "      <th>Indicator</th>\n",
       "    </tr>\n",
       "  </thead>\n",
       "  <tbody>\n",
       "    <tr>\n",
       "      <th>0</th>\n",
       "      <td>2003.0</td>\n",
       "      <td>0.007036</td>\n",
       "      <td>156340.0</td>\n",
       "      <td>Hawaii</td>\n",
       "      <td>Hawaii County</td>\n",
       "      <td>Control</td>\n",
       "    </tr>\n",
       "    <tr>\n",
       "      <th>1</th>\n",
       "      <td>2003.0</td>\n",
       "      <td>0.006982</td>\n",
       "      <td>888026.0</td>\n",
       "      <td>Hawaii</td>\n",
       "      <td>Honolulu County</td>\n",
       "      <td>Control</td>\n",
       "    </tr>\n",
       "    <tr>\n",
       "      <th>2</th>\n",
       "      <td>2003.0</td>\n",
       "      <td>0.012706</td>\n",
       "      <td>129.0</td>\n",
       "      <td>Hawaii</td>\n",
       "      <td>Kalawao County</td>\n",
       "      <td>Control</td>\n",
       "    </tr>\n",
       "    <tr>\n",
       "      <th>3</th>\n",
       "      <td>2003.0</td>\n",
       "      <td>0.012706</td>\n",
       "      <td>60061.0</td>\n",
       "      <td>Hawaii</td>\n",
       "      <td>Kauai County</td>\n",
       "      <td>Control</td>\n",
       "    </tr>\n",
       "    <tr>\n",
       "      <th>4</th>\n",
       "      <td>2003.0</td>\n",
       "      <td>0.012706</td>\n",
       "      <td>134742.0</td>\n",
       "      <td>Hawaii</td>\n",
       "      <td>Maui County</td>\n",
       "      <td>Control</td>\n",
       "    </tr>\n",
       "  </tbody>\n",
       "</table>\n",
       "</div>"
      ],
      "text/plain": [
       "     YEAR  Death Rate (%)  POPULATION  STNAME          CTYNAME Indicator\n",
       "0  2003.0        0.007036    156340.0  Hawaii    Hawaii County   Control\n",
       "1  2003.0        0.006982    888026.0  Hawaii  Honolulu County   Control\n",
       "2  2003.0        0.012706       129.0  Hawaii   Kalawao County   Control\n",
       "3  2003.0        0.012706     60061.0  Hawaii     Kauai County   Control\n",
       "4  2003.0        0.012706    134742.0  Hawaii      Maui County   Control"
      ]
     },
     "execution_count": 53,
     "metadata": {},
     "output_type": "execute_result"
    }
   ],
   "source": [
    "url = 'https://raw.githubusercontent.com/MIDS-at-Duke/pds-2022-yellow-team/main/20_intermediate_files/washington_death_cleaned.csv?token=GHSAT0AAAAAABYIEB2O5CWH4D3GDZ2DLKEWY4GRXZQ'\n",
    "DE_wa = pd.read_csv(url)\n",
    "DE_wa.head()"
   ]
  },
  {
   "cell_type": "code",
   "execution_count": 54,
   "metadata": {},
   "outputs": [
    {
     "data": {
      "text/html": [
       "<div>\n",
       "<style scoped>\n",
       "    .dataframe tbody tr th:only-of-type {\n",
       "        vertical-align: middle;\n",
       "    }\n",
       "\n",
       "    .dataframe tbody tr th {\n",
       "        vertical-align: top;\n",
       "    }\n",
       "\n",
       "    .dataframe thead th {\n",
       "        text-align: right;\n",
       "    }\n",
       "</style>\n",
       "<table border=\"1\" class=\"dataframe\">\n",
       "  <thead>\n",
       "    <tr style=\"text-align: right;\">\n",
       "      <th></th>\n",
       "      <th>count</th>\n",
       "      <th>mean</th>\n",
       "      <th>std</th>\n",
       "      <th>min</th>\n",
       "      <th>25%</th>\n",
       "      <th>50%</th>\n",
       "      <th>75%</th>\n",
       "      <th>max</th>\n",
       "    </tr>\n",
       "    <tr>\n",
       "      <th>STNAME</th>\n",
       "      <th></th>\n",
       "      <th></th>\n",
       "      <th></th>\n",
       "      <th></th>\n",
       "      <th></th>\n",
       "      <th></th>\n",
       "      <th></th>\n",
       "      <th></th>\n",
       "    </tr>\n",
       "  </thead>\n",
       "  <tbody>\n",
       "    <tr>\n",
       "      <th>Comparison_State</th>\n",
       "      <td>1534.0</td>\n",
       "      <td>0.0252</td>\n",
       "      <td>0.0083</td>\n",
       "      <td>0.0034</td>\n",
       "      <td>0.0200</td>\n",
       "      <td>0.0270</td>\n",
       "      <td>0.0325</td>\n",
       "      <td>0.0401</td>\n",
       "    </tr>\n",
       "    <tr>\n",
       "      <th>Washington</th>\n",
       "      <td>507.0</td>\n",
       "      <td>0.0201</td>\n",
       "      <td>0.0069</td>\n",
       "      <td>0.0043</td>\n",
       "      <td>0.0145</td>\n",
       "      <td>0.0221</td>\n",
       "      <td>0.0264</td>\n",
       "      <td>0.0314</td>\n",
       "    </tr>\n",
       "  </tbody>\n",
       "</table>\n",
       "</div>"
      ],
      "text/plain": [
       "                   count    mean     std     min     25%     50%     75%  \\\n",
       "STNAME                                                                     \n",
       "Comparison_State  1534.0  0.0252  0.0083  0.0034  0.0200  0.0270  0.0325   \n",
       "Washington         507.0  0.0201  0.0069  0.0043  0.0145  0.0221  0.0264   \n",
       "\n",
       "                     max  \n",
       "STNAME                    \n",
       "Comparison_State  0.0401  \n",
       "Washington        0.0314  "
      ]
     },
     "execution_count": 54,
     "metadata": {},
     "output_type": "execute_result"
    }
   ],
   "source": [
    "DE_wa['STNAME']=DE_wa['STNAME'].replace(['Oregon','Oklahoma','Hawaii'],'Comparison_State')\n",
    "DE_wa['STNAME'].value_counts()\n",
    "round(DE_wa.groupby('STNAME')['Death Rate (%)'].describe(),4)"
   ]
  },
  {
   "cell_type": "code",
   "execution_count": 55,
   "metadata": {},
   "outputs": [
    {
     "data": {
      "text/plain": [
       "Series([], Name: Death Rate (%), dtype: float64)"
      ]
     },
     "execution_count": 55,
     "metadata": {},
     "output_type": "execute_result"
    }
   ],
   "source": [
    "# WA death in OR before 2012\n",
    "DE_wa_or = DE_wa[DE_wa['STNAME'] == 'Oregon']\n",
    "DE_wa_or1 = DE_wa_or[DE_wa_or['YEAR']<= 2012]\n",
    "DE_wa_or1.groupby('STNAME')['Death Rate (%)'].mean()"
   ]
  },
  {
   "cell_type": "code",
   "execution_count": 56,
   "metadata": {},
   "outputs": [
    {
     "data": {
      "text/html": [
       "<div>\n",
       "<style scoped>\n",
       "    .dataframe tbody tr th:only-of-type {\n",
       "        vertical-align: middle;\n",
       "    }\n",
       "\n",
       "    .dataframe tbody tr th {\n",
       "        vertical-align: top;\n",
       "    }\n",
       "\n",
       "    .dataframe thead th {\n",
       "        text-align: right;\n",
       "    }\n",
       "</style>\n",
       "<table border=\"1\" class=\"dataframe\">\n",
       "  <thead>\n",
       "    <tr style=\"text-align: right;\">\n",
       "      <th></th>\n",
       "      <th>YEAR</th>\n",
       "      <th>Death Rate (%)</th>\n",
       "      <th>POPULATION</th>\n",
       "      <th>STNAME</th>\n",
       "      <th>CTYNAME</th>\n",
       "      <th>Indicator</th>\n",
       "    </tr>\n",
       "  </thead>\n",
       "  <tbody>\n",
       "  </tbody>\n",
       "</table>\n",
       "</div>"
      ],
      "text/plain": [
       "Empty DataFrame\n",
       "Columns: [YEAR, Death Rate (%), POPULATION, STNAME, CTYNAME, Indicator]\n",
       "Index: []"
      ]
     },
     "execution_count": 56,
     "metadata": {},
     "output_type": "execute_result"
    }
   ],
   "source": [
    "# death to OR by CTYNAME before 2012 top 3 county \n",
    "DE_wa_or1.groupby('CTYNAME')['Death Rate (%)'].mean()\n",
    "DE_wa_or_2012 = DE_wa_or1[DE_wa_or1['YEAR'] <= 2012].sort_values(ascending=False,by='Death Rate (%)')\n",
    "DE_wa_or_2012.head(3)"
   ]
  },
  {
   "cell_type": "code",
   "execution_count": 57,
   "metadata": {},
   "outputs": [
    {
     "data": {
      "text/plain": [
       "Series([], Name: Death Rate (%), dtype: float64)"
      ]
     },
     "execution_count": 57,
     "metadata": {},
     "output_type": "execute_result"
    }
   ],
   "source": [
    "# WA death in OR after 2012\n",
    "DE_wa_or2 = DE_wa_or[DE_wa_or['YEAR']> 2012]\n",
    "DE_wa_or2.groupby('STNAME')['Death Rate (%)'].mean()"
   ]
  },
  {
   "cell_type": "code",
   "execution_count": 58,
   "metadata": {},
   "outputs": [
    {
     "data": {
      "text/html": [
       "<div>\n",
       "<style scoped>\n",
       "    .dataframe tbody tr th:only-of-type {\n",
       "        vertical-align: middle;\n",
       "    }\n",
       "\n",
       "    .dataframe tbody tr th {\n",
       "        vertical-align: top;\n",
       "    }\n",
       "\n",
       "    .dataframe thead th {\n",
       "        text-align: right;\n",
       "    }\n",
       "</style>\n",
       "<table border=\"1\" class=\"dataframe\">\n",
       "  <thead>\n",
       "    <tr style=\"text-align: right;\">\n",
       "      <th></th>\n",
       "      <th>YEAR</th>\n",
       "      <th>Death Rate (%)</th>\n",
       "      <th>POPULATION</th>\n",
       "      <th>STNAME</th>\n",
       "      <th>CTYNAME</th>\n",
       "      <th>Indicator</th>\n",
       "    </tr>\n",
       "  </thead>\n",
       "  <tbody>\n",
       "  </tbody>\n",
       "</table>\n",
       "</div>"
      ],
      "text/plain": [
       "Empty DataFrame\n",
       "Columns: [YEAR, Death Rate (%), POPULATION, STNAME, CTYNAME, Indicator]\n",
       "Index: []"
      ]
     },
     "execution_count": 58,
     "metadata": {},
     "output_type": "execute_result"
    }
   ],
   "source": [
    "# death to OR by CTYNAME after 2012 top 3 county \n",
    "DE_wa_or1.groupby('CTYNAME')['Death Rate (%)'].mean()\n",
    "DE_wa_or_after_2012 = DE_wa_or2[DE_wa_or2['YEAR'] > 2012].sort_values(ascending=False,by='Death Rate (%)')\n",
    "DE_wa_or_after_2012.head(3)"
   ]
  },
  {
   "cell_type": "code",
   "execution_count": 59,
   "metadata": {},
   "outputs": [
    {
     "data": {
      "text/plain": [
       "Series([], Name: Death Rate (%), dtype: float64)"
      ]
     },
     "execution_count": 59,
     "metadata": {},
     "output_type": "execute_result"
    }
   ],
   "source": [
    "# WA death in OK before 2012\n",
    "DE_wa_ok = DE_wa[DE_wa['STNAME'] == 'Oklahoma']\n",
    "DE_wa_ok1 = DE_wa_ok[DE_wa_ok['YEAR']<= 2012]\n",
    "DE_wa_ok1.groupby('STNAME')['Death Rate (%)'].mean()"
   ]
  },
  {
   "cell_type": "code",
   "execution_count": 60,
   "metadata": {},
   "outputs": [
    {
     "data": {
      "text/html": [
       "<div>\n",
       "<style scoped>\n",
       "    .dataframe tbody tr th:only-of-type {\n",
       "        vertical-align: middle;\n",
       "    }\n",
       "\n",
       "    .dataframe tbody tr th {\n",
       "        vertical-align: top;\n",
       "    }\n",
       "\n",
       "    .dataframe thead th {\n",
       "        text-align: right;\n",
       "    }\n",
       "</style>\n",
       "<table border=\"1\" class=\"dataframe\">\n",
       "  <thead>\n",
       "    <tr style=\"text-align: right;\">\n",
       "      <th></th>\n",
       "      <th>YEAR</th>\n",
       "      <th>Death Rate (%)</th>\n",
       "      <th>POPULATION</th>\n",
       "      <th>STNAME</th>\n",
       "      <th>CTYNAME</th>\n",
       "      <th>Indicator</th>\n",
       "    </tr>\n",
       "  </thead>\n",
       "  <tbody>\n",
       "  </tbody>\n",
       "</table>\n",
       "</div>"
      ],
      "text/plain": [
       "Empty DataFrame\n",
       "Columns: [YEAR, Death Rate (%), POPULATION, STNAME, CTYNAME, Indicator]\n",
       "Index: []"
      ]
     },
     "execution_count": 60,
     "metadata": {},
     "output_type": "execute_result"
    }
   ],
   "source": [
    "# death to OK by CTYNAME before 2012 top 3 county \n",
    "DE_wa_ok1.groupby('CTYNAME')['Death Rate (%)'].mean()\n",
    "DE_wa_ok_2012 = DE_wa_ok1[DE_wa_ok1['YEAR'] <= 2012].sort_values(ascending=False,by='Death Rate (%)')\n",
    "DE_wa_ok_2012.head(3)"
   ]
  },
  {
   "cell_type": "code",
   "execution_count": 61,
   "metadata": {},
   "outputs": [
    {
     "data": {
      "text/plain": [
       "Series([], Name: Death Rate (%), dtype: float64)"
      ]
     },
     "execution_count": 61,
     "metadata": {},
     "output_type": "execute_result"
    }
   ],
   "source": [
    "# WA death in OR after 2012\n",
    "DE_wa_ok2 = DE_wa_or[DE_wa_or['YEAR']>2012]\n",
    "DE_wa_ok2.groupby('STNAME')['Death Rate (%)'].mean()"
   ]
  },
  {
   "cell_type": "code",
   "execution_count": 62,
   "metadata": {},
   "outputs": [
    {
     "data": {
      "text/html": [
       "<div>\n",
       "<style scoped>\n",
       "    .dataframe tbody tr th:only-of-type {\n",
       "        vertical-align: middle;\n",
       "    }\n",
       "\n",
       "    .dataframe tbody tr th {\n",
       "        vertical-align: top;\n",
       "    }\n",
       "\n",
       "    .dataframe thead th {\n",
       "        text-align: right;\n",
       "    }\n",
       "</style>\n",
       "<table border=\"1\" class=\"dataframe\">\n",
       "  <thead>\n",
       "    <tr style=\"text-align: right;\">\n",
       "      <th></th>\n",
       "      <th>YEAR</th>\n",
       "      <th>Death Rate (%)</th>\n",
       "      <th>POPULATION</th>\n",
       "      <th>STNAME</th>\n",
       "      <th>CTYNAME</th>\n",
       "      <th>Indicator</th>\n",
       "    </tr>\n",
       "  </thead>\n",
       "  <tbody>\n",
       "  </tbody>\n",
       "</table>\n",
       "</div>"
      ],
      "text/plain": [
       "Empty DataFrame\n",
       "Columns: [YEAR, Death Rate (%), POPULATION, STNAME, CTYNAME, Indicator]\n",
       "Index: []"
      ]
     },
     "execution_count": 62,
     "metadata": {},
     "output_type": "execute_result"
    }
   ],
   "source": [
    "# death to OK by CTYNAME after 2012 top 3 county \n",
    "DE_wa_ok2.groupby('CTYNAME')['Death Rate (%)'].mean()\n",
    "DE_wa_ok_after_2012 = DE_wa_ok2[DE_wa_ok2['YEAR'] > 2012].sort_values(ascending=False,by='Death Rate (%)')\n",
    "DE_wa_ok_after_2012.head(3)"
   ]
  },
  {
   "cell_type": "code",
   "execution_count": 63,
   "metadata": {},
   "outputs": [
    {
     "data": {
      "text/plain": [
       "Series([], Name: Death Rate (%), dtype: float64)"
      ]
     },
     "execution_count": 63,
     "metadata": {},
     "output_type": "execute_result"
    }
   ],
   "source": [
    "# WA death in Hi before 2012\n",
    "DE_wa_hi = DE_wa[DE_wa['STNAME'] == 'Hawaii']\n",
    "DE_wa_hi1 = DE_wa_hi[DE_wa_hi['YEAR']<= 2012]\n",
    "DE_wa_hi1.groupby('STNAME')['Death Rate (%)'].mean()"
   ]
  },
  {
   "cell_type": "code",
   "execution_count": 64,
   "metadata": {},
   "outputs": [
    {
     "data": {
      "text/html": [
       "<div>\n",
       "<style scoped>\n",
       "    .dataframe tbody tr th:only-of-type {\n",
       "        vertical-align: middle;\n",
       "    }\n",
       "\n",
       "    .dataframe tbody tr th {\n",
       "        vertical-align: top;\n",
       "    }\n",
       "\n",
       "    .dataframe thead th {\n",
       "        text-align: right;\n",
       "    }\n",
       "</style>\n",
       "<table border=\"1\" class=\"dataframe\">\n",
       "  <thead>\n",
       "    <tr style=\"text-align: right;\">\n",
       "      <th></th>\n",
       "      <th>YEAR</th>\n",
       "      <th>Death Rate (%)</th>\n",
       "      <th>POPULATION</th>\n",
       "      <th>STNAME</th>\n",
       "      <th>CTYNAME</th>\n",
       "      <th>Indicator</th>\n",
       "    </tr>\n",
       "  </thead>\n",
       "  <tbody>\n",
       "  </tbody>\n",
       "</table>\n",
       "</div>"
      ],
      "text/plain": [
       "Empty DataFrame\n",
       "Columns: [YEAR, Death Rate (%), POPULATION, STNAME, CTYNAME, Indicator]\n",
       "Index: []"
      ]
     },
     "execution_count": 64,
     "metadata": {},
     "output_type": "execute_result"
    }
   ],
   "source": [
    "# death to Hi by CTYNAME before 2012 top 3 county \n",
    "DE_wa_hi1.groupby('CTYNAME')['Death Rate (%)'].mean()\n",
    "DE_wa_hi_2012 = DE_wa_hi1[DE_wa_hi1['YEAR'] <= 2012].sort_values(ascending=False,by='Death Rate (%)')\n",
    "DE_wa_hi_2012.head(3)"
   ]
  },
  {
   "cell_type": "code",
   "execution_count": 65,
   "metadata": {},
   "outputs": [
    {
     "data": {
      "text/plain": [
       "Series([], Name: Death Rate (%), dtype: float64)"
      ]
     },
     "execution_count": 65,
     "metadata": {},
     "output_type": "execute_result"
    }
   ],
   "source": [
    "# WA death in Hi after 2012\n",
    "DE_wa_hi2 = DE_wa_hi[DE_wa_hi['YEAR']>2012]\n",
    "DE_wa_hi2.groupby('STNAME')['Death Rate (%)'].mean()"
   ]
  },
  {
   "cell_type": "code",
   "execution_count": 66,
   "metadata": {},
   "outputs": [
    {
     "data": {
      "text/html": [
       "<div>\n",
       "<style scoped>\n",
       "    .dataframe tbody tr th:only-of-type {\n",
       "        vertical-align: middle;\n",
       "    }\n",
       "\n",
       "    .dataframe tbody tr th {\n",
       "        vertical-align: top;\n",
       "    }\n",
       "\n",
       "    .dataframe thead th {\n",
       "        text-align: right;\n",
       "    }\n",
       "</style>\n",
       "<table border=\"1\" class=\"dataframe\">\n",
       "  <thead>\n",
       "    <tr style=\"text-align: right;\">\n",
       "      <th></th>\n",
       "      <th>YEAR</th>\n",
       "      <th>Death Rate (%)</th>\n",
       "      <th>POPULATION</th>\n",
       "      <th>STNAME</th>\n",
       "      <th>CTYNAME</th>\n",
       "      <th>Indicator</th>\n",
       "    </tr>\n",
       "  </thead>\n",
       "  <tbody>\n",
       "  </tbody>\n",
       "</table>\n",
       "</div>"
      ],
      "text/plain": [
       "Empty DataFrame\n",
       "Columns: [YEAR, Death Rate (%), POPULATION, STNAME, CTYNAME, Indicator]\n",
       "Index: []"
      ]
     },
     "execution_count": 66,
     "metadata": {},
     "output_type": "execute_result"
    }
   ],
   "source": [
    "# death to Hi by CTYNAME after 2012 top 3 county \n",
    "DE_wa_hi2.groupby('CTYNAME')['Death Rate (%)'].mean()\n",
    "DE_wa_hi_after_2012 = DE_wa_hi2[DE_wa_hi2['YEAR'] > 2012].sort_values(ascending=False,by='Death Rate (%)')\n",
    "DE_wa_hi_after_2012.head(3)"
   ]
  },
  {
   "cell_type": "code",
   "execution_count": 67,
   "metadata": {},
   "outputs": [
    {
     "data": {
      "text/plain": [
       "STNAME\n",
       "Washington    0.020161\n",
       "Name: Death Rate (%), dtype: float64"
      ]
     },
     "execution_count": 67,
     "metadata": {},
     "output_type": "execute_result"
    }
   ],
   "source": [
    "# WA death in WA before 2012\n",
    "DE_wa_wa = DE_wa[DE_wa['STNAME'] == 'Washington']\n",
    "DE_wa_wa1 = DE_wa_wa[DE_wa_wa['YEAR']<= 2012]\n",
    "DE_wa_wa1.groupby('STNAME')['Death Rate (%)'].mean()"
   ]
  },
  {
   "cell_type": "code",
   "execution_count": 68,
   "metadata": {},
   "outputs": [
    {
     "data": {
      "text/html": [
       "<div>\n",
       "<style scoped>\n",
       "    .dataframe tbody tr th:only-of-type {\n",
       "        vertical-align: middle;\n",
       "    }\n",
       "\n",
       "    .dataframe tbody tr th {\n",
       "        vertical-align: top;\n",
       "    }\n",
       "\n",
       "    .dataframe thead th {\n",
       "        text-align: right;\n",
       "    }\n",
       "</style>\n",
       "<table border=\"1\" class=\"dataframe\">\n",
       "  <thead>\n",
       "    <tr style=\"text-align: right;\">\n",
       "      <th></th>\n",
       "      <th>YEAR</th>\n",
       "      <th>Death Rate (%)</th>\n",
       "      <th>POPULATION</th>\n",
       "      <th>STNAME</th>\n",
       "      <th>CTYNAME</th>\n",
       "      <th>Indicator</th>\n",
       "    </tr>\n",
       "  </thead>\n",
       "  <tbody>\n",
       "    <tr>\n",
       "      <th>1683</th>\n",
       "      <td>2006.0</td>\n",
       "      <td>0.031407</td>\n",
       "      <td>41392.0</td>\n",
       "      <td>Washington</td>\n",
       "      <td>Stevens County</td>\n",
       "      <td>Treatment</td>\n",
       "    </tr>\n",
       "    <tr>\n",
       "      <th>1760</th>\n",
       "      <td>2008.0</td>\n",
       "      <td>0.027249</td>\n",
       "      <td>462408.0</td>\n",
       "      <td>Washington</td>\n",
       "      <td>Spokane County</td>\n",
       "      <td>Treatment</td>\n",
       "    </tr>\n",
       "    <tr>\n",
       "      <th>1694</th>\n",
       "      <td>2007.0</td>\n",
       "      <td>0.027038</td>\n",
       "      <td>70272.0</td>\n",
       "      <td>Washington</td>\n",
       "      <td>Clallam County</td>\n",
       "      <td>Treatment</td>\n",
       "    </tr>\n",
       "  </tbody>\n",
       "</table>\n",
       "</div>"
      ],
      "text/plain": [
       "        YEAR  Death Rate (%)  POPULATION      STNAME         CTYNAME  \\\n",
       "1683  2006.0        0.031407     41392.0  Washington  Stevens County   \n",
       "1760  2008.0        0.027249    462408.0  Washington  Spokane County   \n",
       "1694  2007.0        0.027038     70272.0  Washington  Clallam County   \n",
       "\n",
       "      Indicator  \n",
       "1683  Treatment  \n",
       "1760  Treatment  \n",
       "1694  Treatment  "
      ]
     },
     "execution_count": 68,
     "metadata": {},
     "output_type": "execute_result"
    }
   ],
   "source": [
    "# death to WA by CTYNAME before 2012 top 3 county \n",
    "DE_wa_wa1.groupby('CTYNAME')['Death Rate (%)'].mean()\n",
    "DE_wa_wa_2012 = DE_wa_wa1[DE_wa_wa1['YEAR'] <= 2012].sort_values(ascending=False,by='Death Rate (%)')\n",
    "DE_wa_wa_2012.head(3)"
   ]
  },
  {
   "cell_type": "code",
   "execution_count": 69,
   "metadata": {},
   "outputs": [
    {
     "data": {
      "text/plain": [
       "STNAME\n",
       "Washington    0.019956\n",
       "Name: Death Rate (%), dtype: float64"
      ]
     },
     "execution_count": 69,
     "metadata": {},
     "output_type": "execute_result"
    }
   ],
   "source": [
    "# WA death in WA after 2012\n",
    "DE_wa_wa2 = DE_wa_wa[DE_wa_wa['YEAR']> 2012]\n",
    "DE_wa_wa2.groupby('STNAME')['Death Rate (%)'].mean()"
   ]
  },
  {
   "cell_type": "code",
   "execution_count": 70,
   "metadata": {},
   "outputs": [
    {
     "data": {
      "text/html": [
       "<div>\n",
       "<style scoped>\n",
       "    .dataframe tbody tr th:only-of-type {\n",
       "        vertical-align: middle;\n",
       "    }\n",
       "\n",
       "    .dataframe tbody tr th {\n",
       "        vertical-align: top;\n",
       "    }\n",
       "\n",
       "    .dataframe thead th {\n",
       "        text-align: right;\n",
       "    }\n",
       "</style>\n",
       "<table border=\"1\" class=\"dataframe\">\n",
       "  <thead>\n",
       "    <tr style=\"text-align: right;\">\n",
       "      <th></th>\n",
       "      <th>YEAR</th>\n",
       "      <th>Death Rate (%)</th>\n",
       "      <th>POPULATION</th>\n",
       "      <th>STNAME</th>\n",
       "      <th>CTYNAME</th>\n",
       "      <th>Indicator</th>\n",
       "    </tr>\n",
       "  </thead>\n",
       "  <tbody>\n",
       "    <tr>\n",
       "      <th>1924</th>\n",
       "      <td>2013.0</td>\n",
       "      <td>0.026438</td>\n",
       "      <td>19080.0</td>\n",
       "      <td>Washington</td>\n",
       "      <td>Adams County</td>\n",
       "      <td>Treatment</td>\n",
       "    </tr>\n",
       "    <tr>\n",
       "      <th>2002</th>\n",
       "      <td>2015.0</td>\n",
       "      <td>0.026438</td>\n",
       "      <td>19208.0</td>\n",
       "      <td>Washington</td>\n",
       "      <td>Adams County</td>\n",
       "      <td>Treatment</td>\n",
       "    </tr>\n",
       "    <tr>\n",
       "      <th>1997</th>\n",
       "      <td>2014.0</td>\n",
       "      <td>0.026438</td>\n",
       "      <td>4008.0</td>\n",
       "      <td>Washington</td>\n",
       "      <td>Wahkiakum County</td>\n",
       "      <td>Treatment</td>\n",
       "    </tr>\n",
       "  </tbody>\n",
       "</table>\n",
       "</div>"
      ],
      "text/plain": [
       "        YEAR  Death Rate (%)  POPULATION      STNAME           CTYNAME  \\\n",
       "1924  2013.0        0.026438     19080.0  Washington      Adams County   \n",
       "2002  2015.0        0.026438     19208.0  Washington      Adams County   \n",
       "1997  2014.0        0.026438      4008.0  Washington  Wahkiakum County   \n",
       "\n",
       "      Indicator  \n",
       "1924  Treatment  \n",
       "2002  Treatment  \n",
       "1997  Treatment  "
      ]
     },
     "execution_count": 70,
     "metadata": {},
     "output_type": "execute_result"
    }
   ],
   "source": [
    "# death to WA by CTYNAME after 2012 top 3 county \n",
    "DE_wa_wa_after_2012 = DE_wa_wa2[DE_wa_wa2['YEAR'] >2012].sort_values(ascending=False,by='Death Rate (%)')\n",
    "DE_wa_wa_after_2012.head(3)"
   ]
  },
  {
   "cell_type": "markdown",
   "metadata": {},
   "source": [
    "### Texas--WI,NY,OR"
   ]
  },
  {
   "cell_type": "code",
   "execution_count": 71,
   "metadata": {},
   "outputs": [
    {
     "data": {
      "text/html": [
       "<div>\n",
       "<style scoped>\n",
       "    .dataframe tbody tr th:only-of-type {\n",
       "        vertical-align: middle;\n",
       "    }\n",
       "\n",
       "    .dataframe tbody tr th {\n",
       "        vertical-align: top;\n",
       "    }\n",
       "\n",
       "    .dataframe thead th {\n",
       "        text-align: right;\n",
       "    }\n",
       "</style>\n",
       "<table border=\"1\" class=\"dataframe\">\n",
       "  <thead>\n",
       "    <tr style=\"text-align: right;\">\n",
       "      <th></th>\n",
       "      <th>YEAR</th>\n",
       "      <th>Death Rate (%)</th>\n",
       "      <th>POPULATION</th>\n",
       "      <th>STNAME</th>\n",
       "      <th>CTYNAME</th>\n",
       "      <th>Indicator</th>\n",
       "    </tr>\n",
       "  </thead>\n",
       "  <tbody>\n",
       "    <tr>\n",
       "      <th>0</th>\n",
       "      <td>2003.0</td>\n",
       "      <td>0.005809</td>\n",
       "      <td>298491.0</td>\n",
       "      <td>New York</td>\n",
       "      <td>Albany County</td>\n",
       "      <td>Control</td>\n",
       "    </tr>\n",
       "    <tr>\n",
       "      <th>1</th>\n",
       "      <td>2003.0</td>\n",
       "      <td>0.020627</td>\n",
       "      <td>50220.0</td>\n",
       "      <td>New York</td>\n",
       "      <td>Allegany County</td>\n",
       "      <td>Control</td>\n",
       "    </tr>\n",
       "    <tr>\n",
       "      <th>2</th>\n",
       "      <td>2003.0</td>\n",
       "      <td>0.009677</td>\n",
       "      <td>1353712.0</td>\n",
       "      <td>New York</td>\n",
       "      <td>Bronx County</td>\n",
       "      <td>Control</td>\n",
       "    </tr>\n",
       "    <tr>\n",
       "      <th>3</th>\n",
       "      <td>2003.0</td>\n",
       "      <td>0.010073</td>\n",
       "      <td>198364.0</td>\n",
       "      <td>New York</td>\n",
       "      <td>Broome County</td>\n",
       "      <td>Control</td>\n",
       "    </tr>\n",
       "    <tr>\n",
       "      <th>4</th>\n",
       "      <td>2003.0</td>\n",
       "      <td>0.012510</td>\n",
       "      <td>82968.0</td>\n",
       "      <td>New York</td>\n",
       "      <td>Cattaraugus County</td>\n",
       "      <td>Control</td>\n",
       "    </tr>\n",
       "  </tbody>\n",
       "</table>\n",
       "</div>"
      ],
      "text/plain": [
       "     YEAR  Death Rate (%)  POPULATION    STNAME             CTYNAME Indicator\n",
       "0  2003.0        0.005809    298491.0  New York       Albany County   Control\n",
       "1  2003.0        0.020627     50220.0  New York     Allegany County   Control\n",
       "2  2003.0        0.009677   1353712.0  New York        Bronx County   Control\n",
       "3  2003.0        0.010073    198364.0  New York       Broome County   Control\n",
       "4  2003.0        0.012510     82968.0  New York  Cattaraugus County   Control"
      ]
     },
     "execution_count": 71,
     "metadata": {},
     "output_type": "execute_result"
    }
   ],
   "source": [
    "url = 'https://raw.githubusercontent.com/MIDS-at-Duke/pds-2022-yellow-team/main/20_intermediate_files/texas_death_cleaned.csv?token=GHSAT0AAAAAABYIEB2OLZR6IBIL3AW4B33AY4GR5BQ'\n",
    "DE_tx = pd.read_csv(url)\n",
    "DE_tx.head()"
   ]
  },
  {
   "cell_type": "code",
   "execution_count": 72,
   "metadata": {},
   "outputs": [
    {
     "data": {
      "text/html": [
       "<div>\n",
       "<style scoped>\n",
       "    .dataframe tbody tr th:only-of-type {\n",
       "        vertical-align: middle;\n",
       "    }\n",
       "\n",
       "    .dataframe tbody tr th {\n",
       "        vertical-align: top;\n",
       "    }\n",
       "\n",
       "    .dataframe thead th {\n",
       "        text-align: right;\n",
       "    }\n",
       "</style>\n",
       "<table border=\"1\" class=\"dataframe\">\n",
       "  <thead>\n",
       "    <tr style=\"text-align: right;\">\n",
       "      <th></th>\n",
       "      <th>count</th>\n",
       "      <th>mean</th>\n",
       "      <th>std</th>\n",
       "      <th>min</th>\n",
       "      <th>25%</th>\n",
       "      <th>50%</th>\n",
       "      <th>75%</th>\n",
       "      <th>max</th>\n",
       "    </tr>\n",
       "    <tr>\n",
       "      <th>STNAME</th>\n",
       "      <th></th>\n",
       "      <th></th>\n",
       "      <th></th>\n",
       "      <th></th>\n",
       "      <th></th>\n",
       "      <th></th>\n",
       "      <th></th>\n",
       "      <th></th>\n",
       "    </tr>\n",
       "  </thead>\n",
       "  <tbody>\n",
       "    <tr>\n",
       "      <th>Comparison_State</th>\n",
       "      <td>2210.0</td>\n",
       "      <td>0.0166</td>\n",
       "      <td>0.0053</td>\n",
       "      <td>0.0008</td>\n",
       "      <td>0.0125</td>\n",
       "      <td>0.0189</td>\n",
       "      <td>0.0206</td>\n",
       "      <td>0.0376</td>\n",
       "    </tr>\n",
       "    <tr>\n",
       "      <th>Texas</th>\n",
       "      <td>3302.0</td>\n",
       "      <td>0.0266</td>\n",
       "      <td>0.0086</td>\n",
       "      <td>0.0015</td>\n",
       "      <td>0.0240</td>\n",
       "      <td>0.0318</td>\n",
       "      <td>0.0318</td>\n",
       "      <td>0.0416</td>\n",
       "    </tr>\n",
       "  </tbody>\n",
       "</table>\n",
       "</div>"
      ],
      "text/plain": [
       "                   count    mean     std     min     25%     50%     75%  \\\n",
       "STNAME                                                                     \n",
       "Comparison_State  2210.0  0.0166  0.0053  0.0008  0.0125  0.0189  0.0206   \n",
       "Texas             3302.0  0.0266  0.0086  0.0015  0.0240  0.0318  0.0318   \n",
       "\n",
       "                     max  \n",
       "STNAME                    \n",
       "Comparison_State  0.0376  \n",
       "Texas             0.0416  "
      ]
     },
     "execution_count": 72,
     "metadata": {},
     "output_type": "execute_result"
    }
   ],
   "source": [
    "DE_tx['STNAME']=DE_tx['STNAME'].replace(['Wisconsin','New York','Oregon'],'Comparison_State')\n",
    "DE_tx['STNAME'].value_counts()\n",
    "round(DE_tx.groupby('STNAME')['Death Rate (%)'].describe(),4)"
   ]
  },
  {
   "cell_type": "code",
   "execution_count": 73,
   "metadata": {},
   "outputs": [
    {
     "data": {
      "text/plain": [
       "Series([], Name: Death Rate (%), dtype: float64)"
      ]
     },
     "execution_count": 73,
     "metadata": {},
     "output_type": "execute_result"
    }
   ],
   "source": [
    "# Tx death in WI before 2007\n",
    "DE_tx_wi = DE_tx[DE_tx['STNAME'] == 'Wisconsin']\n",
    "DE_tx_wi1 = DE_tx_wi[DE_tx_wi['YEAR']<= 2007]\n",
    "DE_tx_wi1.groupby('STNAME')['Death Rate (%)'].mean()"
   ]
  },
  {
   "cell_type": "code",
   "execution_count": 74,
   "metadata": {},
   "outputs": [
    {
     "data": {
      "text/html": [
       "<div>\n",
       "<style scoped>\n",
       "    .dataframe tbody tr th:only-of-type {\n",
       "        vertical-align: middle;\n",
       "    }\n",
       "\n",
       "    .dataframe tbody tr th {\n",
       "        vertical-align: top;\n",
       "    }\n",
       "\n",
       "    .dataframe thead th {\n",
       "        text-align: right;\n",
       "    }\n",
       "</style>\n",
       "<table border=\"1\" class=\"dataframe\">\n",
       "  <thead>\n",
       "    <tr style=\"text-align: right;\">\n",
       "      <th></th>\n",
       "      <th>YEAR</th>\n",
       "      <th>Death Rate (%)</th>\n",
       "      <th>POPULATION</th>\n",
       "      <th>STNAME</th>\n",
       "      <th>CTYNAME</th>\n",
       "      <th>Indicator</th>\n",
       "    </tr>\n",
       "  </thead>\n",
       "  <tbody>\n",
       "  </tbody>\n",
       "</table>\n",
       "</div>"
      ],
      "text/plain": [
       "Empty DataFrame\n",
       "Columns: [YEAR, Death Rate (%), POPULATION, STNAME, CTYNAME, Indicator]\n",
       "Index: []"
      ]
     },
     "execution_count": 74,
     "metadata": {},
     "output_type": "execute_result"
    }
   ],
   "source": [
    "# death to WI by CTYNAME before 2007 top 3 county \n",
    "DE_tx_wi.groupby('CTYNAME')['Death Rate (%)'].mean()\n",
    "DE_tx_wi_2007 = DE_tx_wi1[DE_tx_wi1['YEAR'] <= 2007].sort_values(ascending=False,by='Death Rate (%)')\n",
    "DE_tx_wi_2007.head(3)"
   ]
  },
  {
   "cell_type": "code",
   "execution_count": 75,
   "metadata": {},
   "outputs": [
    {
     "data": {
      "text/plain": [
       "Series([], Name: Death Rate (%), dtype: float64)"
      ]
     },
     "execution_count": 75,
     "metadata": {},
     "output_type": "execute_result"
    }
   ],
   "source": [
    "# Tx death in WI after 2007\n",
    "DE_tx_wi2 = DE_tx_wi[DE_tx_wi['YEAR']> 2007]\n",
    "DE_tx_wi2.groupby('STNAME')['Death Rate (%)'].mean()"
   ]
  },
  {
   "cell_type": "code",
   "execution_count": 76,
   "metadata": {},
   "outputs": [
    {
     "data": {
      "text/html": [
       "<div>\n",
       "<style scoped>\n",
       "    .dataframe tbody tr th:only-of-type {\n",
       "        vertical-align: middle;\n",
       "    }\n",
       "\n",
       "    .dataframe tbody tr th {\n",
       "        vertical-align: top;\n",
       "    }\n",
       "\n",
       "    .dataframe thead th {\n",
       "        text-align: right;\n",
       "    }\n",
       "</style>\n",
       "<table border=\"1\" class=\"dataframe\">\n",
       "  <thead>\n",
       "    <tr style=\"text-align: right;\">\n",
       "      <th></th>\n",
       "      <th>YEAR</th>\n",
       "      <th>Death Rate (%)</th>\n",
       "      <th>POPULATION</th>\n",
       "      <th>STNAME</th>\n",
       "      <th>CTYNAME</th>\n",
       "      <th>Indicator</th>\n",
       "    </tr>\n",
       "  </thead>\n",
       "  <tbody>\n",
       "  </tbody>\n",
       "</table>\n",
       "</div>"
      ],
      "text/plain": [
       "Empty DataFrame\n",
       "Columns: [YEAR, Death Rate (%), POPULATION, STNAME, CTYNAME, Indicator]\n",
       "Index: []"
      ]
     },
     "execution_count": 76,
     "metadata": {},
     "output_type": "execute_result"
    }
   ],
   "source": [
    "# death to WI by CTYNAME after 2007 top 3 county \n",
    "DE_tx_wi_after_2007 = DE_tx_wi2[DE_tx_wi2['YEAR'] > 2007].sort_values(ascending=False,by='Death Rate (%)')\n",
    "DE_tx_wi_after_2007.head(3)"
   ]
  },
  {
   "cell_type": "code",
   "execution_count": 77,
   "metadata": {},
   "outputs": [
    {
     "data": {
      "text/plain": [
       "Series([], Name: Death Rate (%), dtype: float64)"
      ]
     },
     "execution_count": 77,
     "metadata": {},
     "output_type": "execute_result"
    }
   ],
   "source": [
    "# Tx death in NY before 2007\n",
    "DE_tx_ny= DE_tx[DE_tx['STNAME'] == 'New York']\n",
    "DE_tx_ny1 = DE_tx_ny[DE_tx_ny['YEAR']<= 2007]\n",
    "DE_tx_ny1.groupby('STNAME')['Death Rate (%)'].mean()"
   ]
  },
  {
   "cell_type": "code",
   "execution_count": 78,
   "metadata": {},
   "outputs": [
    {
     "data": {
      "text/html": [
       "<div>\n",
       "<style scoped>\n",
       "    .dataframe tbody tr th:only-of-type {\n",
       "        vertical-align: middle;\n",
       "    }\n",
       "\n",
       "    .dataframe tbody tr th {\n",
       "        vertical-align: top;\n",
       "    }\n",
       "\n",
       "    .dataframe thead th {\n",
       "        text-align: right;\n",
       "    }\n",
       "</style>\n",
       "<table border=\"1\" class=\"dataframe\">\n",
       "  <thead>\n",
       "    <tr style=\"text-align: right;\">\n",
       "      <th></th>\n",
       "      <th>YEAR</th>\n",
       "      <th>Death Rate (%)</th>\n",
       "      <th>POPULATION</th>\n",
       "      <th>STNAME</th>\n",
       "      <th>CTYNAME</th>\n",
       "      <th>Indicator</th>\n",
       "    </tr>\n",
       "  </thead>\n",
       "  <tbody>\n",
       "  </tbody>\n",
       "</table>\n",
       "</div>"
      ],
      "text/plain": [
       "Empty DataFrame\n",
       "Columns: [YEAR, Death Rate (%), POPULATION, STNAME, CTYNAME, Indicator]\n",
       "Index: []"
      ]
     },
     "execution_count": 78,
     "metadata": {},
     "output_type": "execute_result"
    }
   ],
   "source": [
    "# death to NY by CTYNAME before 2007 top 3 county \n",
    "DE_tx_ny.groupby('CTYNAME')['Death Rate (%)'].mean()\n",
    "DE_tx_ny_2007 = DE_tx_ny1[DE_tx_ny1['YEAR'] <= 2007].sort_values(ascending=False,by='Death Rate (%)')\n",
    "DE_tx_ny_2007.head(3)"
   ]
  },
  {
   "cell_type": "code",
   "execution_count": 79,
   "metadata": {},
   "outputs": [
    {
     "data": {
      "text/plain": [
       "Series([], Name: Death Rate (%), dtype: float64)"
      ]
     },
     "execution_count": 79,
     "metadata": {},
     "output_type": "execute_result"
    }
   ],
   "source": [
    "# Tx death in NY after 2007\n",
    "DE_tx_ny2 = DE_tx_ny[DE_tx_ny['YEAR']> 2007]\n",
    "DE_tx_ny2.groupby('STNAME')['Death Rate (%)'].mean()"
   ]
  },
  {
   "cell_type": "code",
   "execution_count": 80,
   "metadata": {},
   "outputs": [
    {
     "data": {
      "text/html": [
       "<div>\n",
       "<style scoped>\n",
       "    .dataframe tbody tr th:only-of-type {\n",
       "        vertical-align: middle;\n",
       "    }\n",
       "\n",
       "    .dataframe tbody tr th {\n",
       "        vertical-align: top;\n",
       "    }\n",
       "\n",
       "    .dataframe thead th {\n",
       "        text-align: right;\n",
       "    }\n",
       "</style>\n",
       "<table border=\"1\" class=\"dataframe\">\n",
       "  <thead>\n",
       "    <tr style=\"text-align: right;\">\n",
       "      <th></th>\n",
       "      <th>YEAR</th>\n",
       "      <th>Death Rate (%)</th>\n",
       "      <th>POPULATION</th>\n",
       "      <th>STNAME</th>\n",
       "      <th>CTYNAME</th>\n",
       "      <th>Indicator</th>\n",
       "    </tr>\n",
       "  </thead>\n",
       "  <tbody>\n",
       "  </tbody>\n",
       "</table>\n",
       "</div>"
      ],
      "text/plain": [
       "Empty DataFrame\n",
       "Columns: [YEAR, Death Rate (%), POPULATION, STNAME, CTYNAME, Indicator]\n",
       "Index: []"
      ]
     },
     "execution_count": 80,
     "metadata": {},
     "output_type": "execute_result"
    }
   ],
   "source": [
    "# death to NY by CTYNAME after 2007 top 3 county \n",
    "DE_tx_ny_after_2007 = DE_tx_ny2[DE_tx_ny2['YEAR'] > 2007].sort_values(ascending=False,by='Death Rate (%)')\n",
    "DE_tx_ny_after_2007.head(3)"
   ]
  },
  {
   "cell_type": "code",
   "execution_count": 81,
   "metadata": {},
   "outputs": [
    {
     "data": {
      "text/plain": [
       "Series([], Name: Death Rate (%), dtype: float64)"
      ]
     },
     "execution_count": 81,
     "metadata": {},
     "output_type": "execute_result"
    }
   ],
   "source": [
    "# Tx death in Or before 2007\n",
    "DE_tx_or= DE_tx[DE_tx['STNAME'] == 'Oregon']\n",
    "DE_tx_or1 = DE_tx_or[DE_tx_or['YEAR']<= 2007]\n",
    "DE_tx_or1.groupby('STNAME')['Death Rate (%)'].mean()"
   ]
  },
  {
   "cell_type": "code",
   "execution_count": 82,
   "metadata": {},
   "outputs": [
    {
     "data": {
      "text/html": [
       "<div>\n",
       "<style scoped>\n",
       "    .dataframe tbody tr th:only-of-type {\n",
       "        vertical-align: middle;\n",
       "    }\n",
       "\n",
       "    .dataframe tbody tr th {\n",
       "        vertical-align: top;\n",
       "    }\n",
       "\n",
       "    .dataframe thead th {\n",
       "        text-align: right;\n",
       "    }\n",
       "</style>\n",
       "<table border=\"1\" class=\"dataframe\">\n",
       "  <thead>\n",
       "    <tr style=\"text-align: right;\">\n",
       "      <th></th>\n",
       "      <th>YEAR</th>\n",
       "      <th>Death Rate (%)</th>\n",
       "      <th>POPULATION</th>\n",
       "      <th>STNAME</th>\n",
       "      <th>CTYNAME</th>\n",
       "      <th>Indicator</th>\n",
       "    </tr>\n",
       "  </thead>\n",
       "  <tbody>\n",
       "  </tbody>\n",
       "</table>\n",
       "</div>"
      ],
      "text/plain": [
       "Empty DataFrame\n",
       "Columns: [YEAR, Death Rate (%), POPULATION, STNAME, CTYNAME, Indicator]\n",
       "Index: []"
      ]
     },
     "execution_count": 82,
     "metadata": {},
     "output_type": "execute_result"
    }
   ],
   "source": [
    "# death to Or by CTYNAME before 2007 top 3 county \n",
    "DE_tx_or.groupby('CTYNAME')['Death Rate (%)'].mean()\n",
    "DE_tx_or_2007 = DE_tx_or1[DE_tx_or1['YEAR'] <= 2007].sort_values(ascending=False,by='Death Rate (%)')\n",
    "DE_tx_or_2007.head(3)"
   ]
  },
  {
   "cell_type": "code",
   "execution_count": 83,
   "metadata": {},
   "outputs": [
    {
     "data": {
      "text/plain": [
       "Series([], Name: Death Rate (%), dtype: float64)"
      ]
     },
     "execution_count": 83,
     "metadata": {},
     "output_type": "execute_result"
    }
   ],
   "source": [
    "# Tx death in Or after 2007\n",
    "DE_tx_or2 = DE_tx_or[DE_tx_or['YEAR']> 2007]\n",
    "DE_tx_or2.groupby('STNAME')['Death Rate (%)'].mean()"
   ]
  },
  {
   "cell_type": "code",
   "execution_count": 84,
   "metadata": {},
   "outputs": [
    {
     "data": {
      "text/html": [
       "<div>\n",
       "<style scoped>\n",
       "    .dataframe tbody tr th:only-of-type {\n",
       "        vertical-align: middle;\n",
       "    }\n",
       "\n",
       "    .dataframe tbody tr th {\n",
       "        vertical-align: top;\n",
       "    }\n",
       "\n",
       "    .dataframe thead th {\n",
       "        text-align: right;\n",
       "    }\n",
       "</style>\n",
       "<table border=\"1\" class=\"dataframe\">\n",
       "  <thead>\n",
       "    <tr style=\"text-align: right;\">\n",
       "      <th></th>\n",
       "      <th>YEAR</th>\n",
       "      <th>Death Rate (%)</th>\n",
       "      <th>POPULATION</th>\n",
       "      <th>STNAME</th>\n",
       "      <th>CTYNAME</th>\n",
       "      <th>Indicator</th>\n",
       "    </tr>\n",
       "  </thead>\n",
       "  <tbody>\n",
       "  </tbody>\n",
       "</table>\n",
       "</div>"
      ],
      "text/plain": [
       "Empty DataFrame\n",
       "Columns: [YEAR, Death Rate (%), POPULATION, STNAME, CTYNAME, Indicator]\n",
       "Index: []"
      ]
     },
     "execution_count": 84,
     "metadata": {},
     "output_type": "execute_result"
    }
   ],
   "source": [
    "# death to Or by CTYNAME after 2007 top 3 county \n",
    "DE_tx_or_after_2007 = DE_tx_or2[DE_tx_or2['YEAR'] > 2007].sort_values(ascending=False,by='Death Rate (%)')\n",
    "DE_tx_or_after_2007.head(3)"
   ]
  },
  {
   "cell_type": "code",
   "execution_count": 85,
   "metadata": {},
   "outputs": [
    {
     "data": {
      "text/plain": [
       "STNAME\n",
       "Texas    0.026795\n",
       "Name: Death Rate (%), dtype: float64"
      ]
     },
     "execution_count": 85,
     "metadata": {},
     "output_type": "execute_result"
    }
   ],
   "source": [
    "# Tx death in Tx before 2007\n",
    "DE_tx_tx= DE_tx[DE_tx['STNAME'] == 'Texas']\n",
    "DE_tx_tx1 = DE_tx_tx[DE_tx_tx['YEAR']<= 2007]\n",
    "DE_tx_tx1.groupby('STNAME')['Death Rate (%)'].mean()"
   ]
  },
  {
   "cell_type": "code",
   "execution_count": 86,
   "metadata": {},
   "outputs": [
    {
     "data": {
      "text/html": [
       "<div>\n",
       "<style scoped>\n",
       "    .dataframe tbody tr th:only-of-type {\n",
       "        vertical-align: middle;\n",
       "    }\n",
       "\n",
       "    .dataframe tbody tr th {\n",
       "        vertical-align: top;\n",
       "    }\n",
       "\n",
       "    .dataframe thead th {\n",
       "        text-align: right;\n",
       "    }\n",
       "</style>\n",
       "<table border=\"1\" class=\"dataframe\">\n",
       "  <thead>\n",
       "    <tr style=\"text-align: right;\">\n",
       "      <th></th>\n",
       "      <th>YEAR</th>\n",
       "      <th>Death Rate (%)</th>\n",
       "      <th>POPULATION</th>\n",
       "      <th>STNAME</th>\n",
       "      <th>CTYNAME</th>\n",
       "      <th>Indicator</th>\n",
       "    </tr>\n",
       "  </thead>\n",
       "  <tbody>\n",
       "    <tr>\n",
       "      <th>2216</th>\n",
       "      <td>2006.0</td>\n",
       "      <td>0.041554</td>\n",
       "      <td>81822.0</td>\n",
       "      <td>Texas</td>\n",
       "      <td>Orange County</td>\n",
       "      <td>Treatment</td>\n",
       "    </tr>\n",
       "    <tr>\n",
       "      <th>2039</th>\n",
       "      <td>2006.0</td>\n",
       "      <td>0.041004</td>\n",
       "      <td>24388.0</td>\n",
       "      <td>Texas</td>\n",
       "      <td>Aransas County</td>\n",
       "      <td>Treatment</td>\n",
       "    </tr>\n",
       "    <tr>\n",
       "      <th>1402</th>\n",
       "      <td>2003.0</td>\n",
       "      <td>0.035827</td>\n",
       "      <td>81493.0</td>\n",
       "      <td>Texas</td>\n",
       "      <td>Kaufman County</td>\n",
       "      <td>Treatment</td>\n",
       "    </tr>\n",
       "  </tbody>\n",
       "</table>\n",
       "</div>"
      ],
      "text/plain": [
       "        YEAR  Death Rate (%)  POPULATION STNAME         CTYNAME  Indicator\n",
       "2216  2006.0        0.041554     81822.0  Texas   Orange County  Treatment\n",
       "2039  2006.0        0.041004     24388.0  Texas  Aransas County  Treatment\n",
       "1402  2003.0        0.035827     81493.0  Texas  Kaufman County  Treatment"
      ]
     },
     "execution_count": 86,
     "metadata": {},
     "output_type": "execute_result"
    }
   ],
   "source": [
    "# death to Tx by CTYNAME before 2007 top 3 county \n",
    "DE_tx_tx.groupby('CTYNAME')['Death Rate (%)'].mean()\n",
    "DE_tx_tx_2007 = DE_tx_tx1[DE_tx_tx1['YEAR'] <= 2007].sort_values(ascending=False,by='Death Rate (%)')\n",
    "DE_tx_tx_2007.head(3)"
   ]
  },
  {
   "cell_type": "code",
   "execution_count": 87,
   "metadata": {},
   "outputs": [
    {
     "data": {
      "text/plain": [
       "STNAME\n",
       "Texas    0.026415\n",
       "Name: Death Rate (%), dtype: float64"
      ]
     },
     "execution_count": 87,
     "metadata": {},
     "output_type": "execute_result"
    }
   ],
   "source": [
    "# Tx death in Tx after 2007\n",
    "DE_tx_tx2 = DE_tx_tx[DE_tx_tx['YEAR']> 2007]\n",
    "DE_tx_tx2.groupby('STNAME')['Death Rate (%)'].mean()"
   ]
  },
  {
   "cell_type": "code",
   "execution_count": 88,
   "metadata": {},
   "outputs": [
    {
     "data": {
      "text/html": [
       "<div>\n",
       "<style scoped>\n",
       "    .dataframe tbody tr th:only-of-type {\n",
       "        vertical-align: middle;\n",
       "    }\n",
       "\n",
       "    .dataframe tbody tr th {\n",
       "        vertical-align: top;\n",
       "    }\n",
       "\n",
       "    .dataframe thead th {\n",
       "        text-align: right;\n",
       "    }\n",
       "</style>\n",
       "<table border=\"1\" class=\"dataframe\">\n",
       "  <thead>\n",
       "    <tr style=\"text-align: right;\">\n",
       "      <th></th>\n",
       "      <th>YEAR</th>\n",
       "      <th>Death Rate (%)</th>\n",
       "      <th>POPULATION</th>\n",
       "      <th>STNAME</th>\n",
       "      <th>CTYNAME</th>\n",
       "      <th>Indicator</th>\n",
       "    </tr>\n",
       "  </thead>\n",
       "  <tbody>\n",
       "    <tr>\n",
       "      <th>3504</th>\n",
       "      <td>2011.0</td>\n",
       "      <td>0.035827</td>\n",
       "      <td>81103.0</td>\n",
       "      <td>Texas</td>\n",
       "      <td>Rockwall County</td>\n",
       "      <td>Treatment</td>\n",
       "    </tr>\n",
       "    <tr>\n",
       "      <th>2996</th>\n",
       "      <td>2009.0</td>\n",
       "      <td>0.035827</td>\n",
       "      <td>81391.0</td>\n",
       "      <td>Texas</td>\n",
       "      <td>Rockwall County</td>\n",
       "      <td>Treatment</td>\n",
       "    </tr>\n",
       "    <tr>\n",
       "      <th>2978</th>\n",
       "      <td>2009.0</td>\n",
       "      <td>0.035445</td>\n",
       "      <td>81816.0</td>\n",
       "      <td>Texas</td>\n",
       "      <td>Orange County</td>\n",
       "      <td>Treatment</td>\n",
       "    </tr>\n",
       "  </tbody>\n",
       "</table>\n",
       "</div>"
      ],
      "text/plain": [
       "        YEAR  Death Rate (%)  POPULATION STNAME          CTYNAME  Indicator\n",
       "3504  2011.0        0.035827     81103.0  Texas  Rockwall County  Treatment\n",
       "2996  2009.0        0.035827     81391.0  Texas  Rockwall County  Treatment\n",
       "2978  2009.0        0.035445     81816.0  Texas    Orange County  Treatment"
      ]
     },
     "execution_count": 88,
     "metadata": {},
     "output_type": "execute_result"
    }
   ],
   "source": [
    "# death to Tx by CTYNAME after 2007 top 3 county \n",
    "DE_tx_or_after_2007 = DE_tx_tx2[DE_tx_tx2['YEAR'] > 2007].sort_values(ascending=False,by='Death Rate (%)')\n",
    "DE_tx_or_after_2007.head(3)"
   ]
  }
 ],
 "metadata": {
  "kernelspec": {
   "display_name": "Python 3.10.6 ('base')",
   "language": "python",
   "name": "python3"
  },
  "language_info": {
   "codemirror_mode": {
    "name": "ipython",
    "version": 3
   },
   "file_extension": ".py",
   "mimetype": "text/x-python",
   "name": "python",
   "nbconvert_exporter": "python",
   "pygments_lexer": "ipython3",
   "version": "3.10.6"
  },
  "orig_nbformat": 4,
  "vscode": {
   "interpreter": {
    "hash": "4f06bde831ca988703cb9b7830ea1c8602b5ef42f5d637e6173f7638bf4a67b4"
   }
  }
 },
 "nbformat": 4,
 "nbformat_minor": 2
}
