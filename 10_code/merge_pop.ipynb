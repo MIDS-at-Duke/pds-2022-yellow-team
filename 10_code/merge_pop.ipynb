{
 "cells": [
  {
   "cell_type": "code",
   "execution_count": 66,
   "metadata": {},
   "outputs": [],
   "source": [
    "import pandas as pd\n",
    "import numpy as np\n",
    "import warnings\n",
    "warnings.filterwarnings('ignore')"
   ]
  },
  {
   "cell_type": "code",
   "execution_count": 67,
   "metadata": {},
   "outputs": [],
   "source": [
    "def merge_pop_data(state_name):\n",
    "    '''\n",
    "    This function will merge the two population datasets together.\n",
    "    Input: state_name\n",
    "        state_name: the state name\n",
    "    return: a pandas dataframe with the merged population data\n",
    "    '''\n",
    "    # read in the data\n",
    "    all_2000_2009 = pd.read_csv('../00_source_data/US_Population/start_2000.csv', encoding='latin-1')\n",
    "    all_2010_2019 = pd.read_csv('../00_source_data/US_Population/start_2010.csv', encoding='latin-1')\n",
    "\n",
    "    # columns to keep\n",
    "    pop_col_2000_2009 = ['STNAME', 'CTYNAME', 'POPESTIMATE2000', 'POPESTIMATE2001', 'POPESTIMATE2002','POPESTIMATE2003', 'POPESTIMATE2004',\n",
    "                        'POPESTIMATE2005', 'POPESTIMATE2006','POPESTIMATE2007', 'POPESTIMATE2008', 'POPESTIMATE2009']\n",
    "    pop_col_2010_2019 = ['STNAME', 'CTYNAME', 'POPESTIMATE2010', 'POPESTIMATE2011', 'POPESTIMATE2012','POPESTIMATE2013', 'POPESTIMATE2014',\n",
    "                        'POPESTIMATE2015', 'POPESTIMATE2016','POPESTIMATE2017', 'POPESTIMATE2018', 'POPESTIMATE2019']\n",
    "\n",
    "    # filter the data\n",
    "    pop_2000_2009 = all_2000_2009[all_2000_2009['STNAME'] == state_name][pop_col_2000_2009]\n",
    "    pop_2010_2019 = all_2010_2019[all_2010_2019['STNAME'] == state_name][pop_col_2010_2019]\n",
    "\n",
    "    # rename the columns\n",
    "    pop_2000_2009.columns = ['STNAME', 'CTYNAME', '2000', '2001', '2002','2003', '2004','2005','2006', '2007', '2008', '2009']\n",
    "    pop_2010_2019.columns = ['STNAME', 'CTYNAME', '2010', '2011', '2012','2013', '2014','2015','2016', '2017', '2018', '2019']\n",
    "\n",
    "    assert pop_2000_2009.shape[0] == pop_2010_2019.shape[0]  # number of county should be the same\n",
    "    # merge two datasets\n",
    "    pop_2000_2019 = pd.merge(pop_2000_2009, pop_2010_2019, how = 'outer', on = ['STNAME', 'CTYNAME'])\n",
    "\n",
    "    # remove the aggregate population of the state\n",
    "    pop_2000_2019 = pop_2000_2019[pop_2000_2019['CTYNAME'] != state_name]\n",
    "\n",
    "    # convert columns to rows   \n",
    "    pop = pd.melt(pop_2000_2019, id_vars=['STNAME', 'CTYNAME'], var_name='YEAR', value_name='POPULATION')\n",
    "    assert pop.shape[0] == pop_2000_2019.shape[0] * (pop_2000_2019.shape[1]-2)  # number of rows should be the same\n",
    "    assert pop['YEAR'].nunique() == (pop_2000_2019.shape[1]-2)  # number of years should be the same\n",
    "    \n",
    "    return pop\n",
    "\n"
   ]
  },
  {
   "cell_type": "markdown",
   "metadata": {},
   "source": [
    "### Florida and its reference states"
   ]
  },
  {
   "cell_type": "markdown",
   "metadata": {},
   "source": [
    "AZ, CO, FL, LA, NV, SC"
   ]
  },
  {
   "cell_type": "code",
   "execution_count": 68,
   "metadata": {},
   "outputs": [],
   "source": [
    "pop_az = merge_pop_data('Arizona')\n",
    "pop_co = merge_pop_data('Colorado')\n",
    "pop_fl = merge_pop_data('Florida')\n",
    "pop_la = merge_pop_data('Louisiana')\n",
    "pop_nv = merge_pop_data('Nevada')\n",
    "pop_sc = merge_pop_data('South Carolina')"
   ]
  },
  {
   "cell_type": "code",
   "execution_count": 69,
   "metadata": {},
   "outputs": [
    {
     "name": "stdout",
     "output_type": "stream",
     "text": [
      "Population dataframe has 0 missing values\n",
      "Population dataframe has 0 missing values\n",
      "Population dataframe has 0 missing values\n",
      "Population dataframe has 20 missing values\n",
      "Population dataframe has 0 missing values\n",
      "Population dataframe has 0 missing values\n"
     ]
    }
   ],
   "source": [
    "# check missing values\n",
    "for i in [pop_az, pop_co, pop_fl, pop_la, pop_nv, pop_sc]:\n",
    "    print(f\"Population dataframe has {i.isna().sum().sum()} missing values\")"
   ]
  },
  {
   "cell_type": "markdown",
   "metadata": {},
   "source": [
    "Check missing values in Louisana"
   ]
  },
  {
   "cell_type": "code",
   "execution_count": 70,
   "metadata": {},
   "outputs": [
    {
     "data": {
      "text/html": [
       "<div>\n",
       "<style scoped>\n",
       "    .dataframe tbody tr th:only-of-type {\n",
       "        vertical-align: middle;\n",
       "    }\n",
       "\n",
       "    .dataframe tbody tr th {\n",
       "        vertical-align: top;\n",
       "    }\n",
       "\n",
       "    .dataframe thead th {\n",
       "        text-align: right;\n",
       "    }\n",
       "</style>\n",
       "<table border=\"1\" class=\"dataframe\">\n",
       "  <thead>\n",
       "    <tr style=\"text-align: right;\">\n",
       "      <th></th>\n",
       "      <th>STNAME</th>\n",
       "      <th>CTYNAME</th>\n",
       "      <th>YEAR</th>\n",
       "      <th>POPULATION</th>\n",
       "    </tr>\n",
       "  </thead>\n",
       "  <tbody>\n",
       "    <tr>\n",
       "      <th>64</th>\n",
       "      <td>Louisiana</td>\n",
       "      <td>LaSalle Parish</td>\n",
       "      <td>2000</td>\n",
       "      <td>NaN</td>\n",
       "    </tr>\n",
       "    <tr>\n",
       "      <th>129</th>\n",
       "      <td>Louisiana</td>\n",
       "      <td>LaSalle Parish</td>\n",
       "      <td>2001</td>\n",
       "      <td>NaN</td>\n",
       "    </tr>\n",
       "    <tr>\n",
       "      <th>194</th>\n",
       "      <td>Louisiana</td>\n",
       "      <td>LaSalle Parish</td>\n",
       "      <td>2002</td>\n",
       "      <td>NaN</td>\n",
       "    </tr>\n",
       "    <tr>\n",
       "      <th>259</th>\n",
       "      <td>Louisiana</td>\n",
       "      <td>LaSalle Parish</td>\n",
       "      <td>2003</td>\n",
       "      <td>NaN</td>\n",
       "    </tr>\n",
       "    <tr>\n",
       "      <th>324</th>\n",
       "      <td>Louisiana</td>\n",
       "      <td>LaSalle Parish</td>\n",
       "      <td>2004</td>\n",
       "      <td>NaN</td>\n",
       "    </tr>\n",
       "    <tr>\n",
       "      <th>389</th>\n",
       "      <td>Louisiana</td>\n",
       "      <td>LaSalle Parish</td>\n",
       "      <td>2005</td>\n",
       "      <td>NaN</td>\n",
       "    </tr>\n",
       "    <tr>\n",
       "      <th>454</th>\n",
       "      <td>Louisiana</td>\n",
       "      <td>LaSalle Parish</td>\n",
       "      <td>2006</td>\n",
       "      <td>NaN</td>\n",
       "    </tr>\n",
       "    <tr>\n",
       "      <th>519</th>\n",
       "      <td>Louisiana</td>\n",
       "      <td>LaSalle Parish</td>\n",
       "      <td>2007</td>\n",
       "      <td>NaN</td>\n",
       "    </tr>\n",
       "    <tr>\n",
       "      <th>584</th>\n",
       "      <td>Louisiana</td>\n",
       "      <td>LaSalle Parish</td>\n",
       "      <td>2008</td>\n",
       "      <td>NaN</td>\n",
       "    </tr>\n",
       "    <tr>\n",
       "      <th>649</th>\n",
       "      <td>Louisiana</td>\n",
       "      <td>LaSalle Parish</td>\n",
       "      <td>2009</td>\n",
       "      <td>NaN</td>\n",
       "    </tr>\n",
       "    <tr>\n",
       "      <th>679</th>\n",
       "      <td>Louisiana</td>\n",
       "      <td>La Salle Parish</td>\n",
       "      <td>2010</td>\n",
       "      <td>NaN</td>\n",
       "    </tr>\n",
       "    <tr>\n",
       "      <th>744</th>\n",
       "      <td>Louisiana</td>\n",
       "      <td>La Salle Parish</td>\n",
       "      <td>2011</td>\n",
       "      <td>NaN</td>\n",
       "    </tr>\n",
       "    <tr>\n",
       "      <th>809</th>\n",
       "      <td>Louisiana</td>\n",
       "      <td>La Salle Parish</td>\n",
       "      <td>2012</td>\n",
       "      <td>NaN</td>\n",
       "    </tr>\n",
       "    <tr>\n",
       "      <th>874</th>\n",
       "      <td>Louisiana</td>\n",
       "      <td>La Salle Parish</td>\n",
       "      <td>2013</td>\n",
       "      <td>NaN</td>\n",
       "    </tr>\n",
       "    <tr>\n",
       "      <th>939</th>\n",
       "      <td>Louisiana</td>\n",
       "      <td>La Salle Parish</td>\n",
       "      <td>2014</td>\n",
       "      <td>NaN</td>\n",
       "    </tr>\n",
       "    <tr>\n",
       "      <th>1004</th>\n",
       "      <td>Louisiana</td>\n",
       "      <td>La Salle Parish</td>\n",
       "      <td>2015</td>\n",
       "      <td>NaN</td>\n",
       "    </tr>\n",
       "    <tr>\n",
       "      <th>1069</th>\n",
       "      <td>Louisiana</td>\n",
       "      <td>La Salle Parish</td>\n",
       "      <td>2016</td>\n",
       "      <td>NaN</td>\n",
       "    </tr>\n",
       "    <tr>\n",
       "      <th>1134</th>\n",
       "      <td>Louisiana</td>\n",
       "      <td>La Salle Parish</td>\n",
       "      <td>2017</td>\n",
       "      <td>NaN</td>\n",
       "    </tr>\n",
       "    <tr>\n",
       "      <th>1199</th>\n",
       "      <td>Louisiana</td>\n",
       "      <td>La Salle Parish</td>\n",
       "      <td>2018</td>\n",
       "      <td>NaN</td>\n",
       "    </tr>\n",
       "    <tr>\n",
       "      <th>1264</th>\n",
       "      <td>Louisiana</td>\n",
       "      <td>La Salle Parish</td>\n",
       "      <td>2019</td>\n",
       "      <td>NaN</td>\n",
       "    </tr>\n",
       "  </tbody>\n",
       "</table>\n",
       "</div>"
      ],
      "text/plain": [
       "         STNAME          CTYNAME  YEAR  POPULATION\n",
       "64    Louisiana   LaSalle Parish  2000         NaN\n",
       "129   Louisiana   LaSalle Parish  2001         NaN\n",
       "194   Louisiana   LaSalle Parish  2002         NaN\n",
       "259   Louisiana   LaSalle Parish  2003         NaN\n",
       "324   Louisiana   LaSalle Parish  2004         NaN\n",
       "389   Louisiana   LaSalle Parish  2005         NaN\n",
       "454   Louisiana   LaSalle Parish  2006         NaN\n",
       "519   Louisiana   LaSalle Parish  2007         NaN\n",
       "584   Louisiana   LaSalle Parish  2008         NaN\n",
       "649   Louisiana   LaSalle Parish  2009         NaN\n",
       "679   Louisiana  La Salle Parish  2010         NaN\n",
       "744   Louisiana  La Salle Parish  2011         NaN\n",
       "809   Louisiana  La Salle Parish  2012         NaN\n",
       "874   Louisiana  La Salle Parish  2013         NaN\n",
       "939   Louisiana  La Salle Parish  2014         NaN\n",
       "1004  Louisiana  La Salle Parish  2015         NaN\n",
       "1069  Louisiana  La Salle Parish  2016         NaN\n",
       "1134  Louisiana  La Salle Parish  2017         NaN\n",
       "1199  Louisiana  La Salle Parish  2018         NaN\n",
       "1264  Louisiana  La Salle Parish  2019         NaN"
      ]
     },
     "execution_count": 70,
     "metadata": {},
     "output_type": "execute_result"
    }
   ],
   "source": [
    "pop_la[pop_la['POPULATION'].isna()]"
   ]
  },
  {
   "cell_type": "code",
   "execution_count": 71,
   "metadata": {},
   "outputs": [],
   "source": [
    "all_2000_2009 = pd.read_csv('../00_source_data/US_Population/start_2000.csv', encoding='latin-1')\n",
    "all_2010_2019 = pd.read_csv('../00_source_data/US_Population/start_2010.csv', encoding='latin-1')\n",
    "\n",
    "# columns to keep\n",
    "pop_col_2000_2009 = ['STNAME', 'CTYNAME', 'POPESTIMATE2000', 'POPESTIMATE2001', 'POPESTIMATE2002','POPESTIMATE2003', 'POPESTIMATE2004',\n",
    "                    'POPESTIMATE2005', 'POPESTIMATE2006','POPESTIMATE2007', 'POPESTIMATE2008', 'POPESTIMATE2009']\n",
    "pop_col_2010_2019 = ['STNAME', 'CTYNAME', 'POPESTIMATE2010', 'POPESTIMATE2011', 'POPESTIMATE2012','POPESTIMATE2013', 'POPESTIMATE2014',\n",
    "                    'POPESTIMATE2015', 'POPESTIMATE2016','POPESTIMATE2017', 'POPESTIMATE2018', 'POPESTIMATE2019']\n",
    "\n",
    "# filter the data\n",
    "pop_2000_2009 = all_2000_2009[all_2000_2009['STNAME'] == \"Louisiana\"][pop_col_2000_2009]\n",
    "pop_2010_2019 = all_2010_2019[all_2010_2019['STNAME'] == \"Louisiana\"][pop_col_2010_2019]\n",
    "\n",
    "# rename the columns\n",
    "pop_2000_2009.columns = ['STNAME', 'CTYNAME', '2000', '2001', '2002','2003', '2004','2005','2006', '2007', '2008', '2009']\n",
    "pop_2010_2019.columns = ['STNAME', 'CTYNAME', '2010', '2011', '2012','2013', '2014','2015','2016', '2017', '2018', '2019']"
   ]
  },
  {
   "cell_type": "code",
   "execution_count": 72,
   "metadata": {},
   "outputs": [
    {
     "data": {
      "text/html": [
       "<div>\n",
       "<style scoped>\n",
       "    .dataframe tbody tr th:only-of-type {\n",
       "        vertical-align: middle;\n",
       "    }\n",
       "\n",
       "    .dataframe tbody tr th {\n",
       "        vertical-align: top;\n",
       "    }\n",
       "\n",
       "    .dataframe thead th {\n",
       "        text-align: right;\n",
       "    }\n",
       "</style>\n",
       "<table border=\"1\" class=\"dataframe\">\n",
       "  <thead>\n",
       "    <tr style=\"text-align: right;\">\n",
       "      <th></th>\n",
       "      <th>STNAME</th>\n",
       "      <th>CTYNAME</th>\n",
       "      <th>2010</th>\n",
       "      <th>2011</th>\n",
       "      <th>2012</th>\n",
       "      <th>2013</th>\n",
       "      <th>2014</th>\n",
       "      <th>2015</th>\n",
       "      <th>2016</th>\n",
       "      <th>2017</th>\n",
       "      <th>2018</th>\n",
       "      <th>2019</th>\n",
       "    </tr>\n",
       "  </thead>\n",
       "  <tbody>\n",
       "    <tr>\n",
       "      <th>1162</th>\n",
       "      <td>Louisiana</td>\n",
       "      <td>LaSalle Parish</td>\n",
       "      <td>14909</td>\n",
       "      <td>14941</td>\n",
       "      <td>14860</td>\n",
       "      <td>14819</td>\n",
       "      <td>14873</td>\n",
       "      <td>14975</td>\n",
       "      <td>15028</td>\n",
       "      <td>14893</td>\n",
       "      <td>14900</td>\n",
       "      <td>14910</td>\n",
       "    </tr>\n",
       "  </tbody>\n",
       "</table>\n",
       "</div>"
      ],
      "text/plain": [
       "         STNAME         CTYNAME   2010   2011   2012   2013   2014   2015  \\\n",
       "1162  Louisiana  LaSalle Parish  14909  14941  14860  14819  14873  14975   \n",
       "\n",
       "       2016   2017   2018   2019  \n",
       "1162  15028  14893  14900  14910  "
      ]
     },
     "execution_count": 72,
     "metadata": {},
     "output_type": "execute_result"
    }
   ],
   "source": [
    "pop_2010_2019[pop_2010_2019['CTYNAME'] == 'LaSalle Parish']"
   ]
  },
  {
   "cell_type": "code",
   "execution_count": 73,
   "metadata": {},
   "outputs": [
    {
     "data": {
      "text/html": [
       "<div>\n",
       "<style scoped>\n",
       "    .dataframe tbody tr th:only-of-type {\n",
       "        vertical-align: middle;\n",
       "    }\n",
       "\n",
       "    .dataframe tbody tr th {\n",
       "        vertical-align: top;\n",
       "    }\n",
       "\n",
       "    .dataframe thead th {\n",
       "        text-align: right;\n",
       "    }\n",
       "</style>\n",
       "<table border=\"1\" class=\"dataframe\">\n",
       "  <thead>\n",
       "    <tr style=\"text-align: right;\">\n",
       "      <th></th>\n",
       "      <th>STNAME</th>\n",
       "      <th>CTYNAME</th>\n",
       "      <th>2000</th>\n",
       "      <th>2001</th>\n",
       "      <th>2002</th>\n",
       "      <th>2003</th>\n",
       "      <th>2004</th>\n",
       "      <th>2005</th>\n",
       "      <th>2006</th>\n",
       "      <th>2007</th>\n",
       "      <th>2008</th>\n",
       "      <th>2009</th>\n",
       "    </tr>\n",
       "  </thead>\n",
       "  <tbody>\n",
       "  </tbody>\n",
       "</table>\n",
       "</div>"
      ],
      "text/plain": [
       "Empty DataFrame\n",
       "Columns: [STNAME, CTYNAME, 2000, 2001, 2002, 2003, 2004, 2005, 2006, 2007, 2008, 2009]\n",
       "Index: []"
      ]
     },
     "execution_count": 73,
     "metadata": {},
     "output_type": "execute_result"
    }
   ],
   "source": [
    "pop_2000_2009[pop_2000_2009['CTYNAME'] == 'LaSalle Parish']"
   ]
  },
  {
   "cell_type": "code",
   "execution_count": 74,
   "metadata": {},
   "outputs": [
    {
     "data": {
      "text/plain": [
       "array(['Louisiana', 'Acadia Parish', 'Allen Parish', 'Ascension Parish',\n",
       "       'Assumption Parish', 'Avoyelles Parish', 'Beauregard Parish',\n",
       "       'Bienville Parish', 'Bossier Parish', 'Caddo Parish',\n",
       "       'Calcasieu Parish', 'Caldwell Parish', 'Cameron Parish',\n",
       "       'Catahoula Parish', 'Claiborne Parish', 'Concordia Parish',\n",
       "       'De Soto Parish', 'East Baton Rouge Parish', 'East Carroll Parish',\n",
       "       'East Feliciana Parish', 'Evangeline Parish', 'Franklin Parish',\n",
       "       'Grant Parish', 'Iberia Parish', 'Iberville Parish',\n",
       "       'Jackson Parish', 'Jefferson Parish', 'Jefferson Davis Parish',\n",
       "       'Lafayette Parish', 'Lafourche Parish', 'La Salle Parish',\n",
       "       'Lincoln Parish', 'Livingston Parish', 'Madison Parish',\n",
       "       'Morehouse Parish', 'Natchitoches Parish', 'Orleans Parish',\n",
       "       'Ouachita Parish', 'Plaquemines Parish', 'Pointe Coupee Parish',\n",
       "       'Rapides Parish', 'Red River Parish', 'Richland Parish',\n",
       "       'Sabine Parish', 'St. Bernard Parish', 'St. Charles Parish',\n",
       "       'St. Helena Parish', 'St. James Parish',\n",
       "       'St. John the Baptist Parish', 'St. Landry Parish',\n",
       "       'St. Martin Parish', 'St. Mary Parish', 'St. Tammany Parish',\n",
       "       'Tangipahoa Parish', 'Tensas Parish', 'Terrebonne Parish',\n",
       "       'Union Parish', 'Vermilion Parish', 'Vernon Parish',\n",
       "       'Washington Parish', 'Webster Parish', 'West Baton Rouge Parish',\n",
       "       'West Carroll Parish', 'West Feliciana Parish', 'Winn Parish'],\n",
       "      dtype=object)"
      ]
     },
     "execution_count": 74,
     "metadata": {},
     "output_type": "execute_result"
    }
   ],
   "source": [
    "pop_2000_2009['CTYNAME'].unique()"
   ]
  },
  {
   "cell_type": "markdown",
   "metadata": {},
   "source": [
    "County \"LaSalle Parish\" in population_2010_2019 is spelled as \"La Salle Parish\" in population_2000_2009"
   ]
  },
  {
   "cell_type": "code",
   "execution_count": 75,
   "metadata": {},
   "outputs": [],
   "source": [
    "# replace La Salle Parish with LaSalle Parish \n",
    "pop_2000_2009['CTYNAME'] = pop_2000_2009['CTYNAME'].replace('La Salle Parish', 'LaSalle Parish')"
   ]
  },
  {
   "cell_type": "code",
   "execution_count": 76,
   "metadata": {},
   "outputs": [],
   "source": [
    "# merge two datasets\n",
    "pop_2000_2019 = pd.merge(pop_2000_2009, pop_2010_2019, how = 'outer', on = ['STNAME', 'CTYNAME'])\n",
    "assert pop_2000_2019.isna().sum().sum() == 0   # make sure there is no missing value\n",
    "\n",
    "# remove the aggregate population of the state\n",
    "pop_2000_2019 = pop_2000_2019[pop_2000_2019['CTYNAME'] != \"Louisiana\"]\n",
    "\n",
    "# convert columns to rows   \n",
    "pop_la = pd.melt(pop_2000_2019, id_vars=['STNAME', 'CTYNAME'], var_name='YEAR', value_name='POPULATION')"
   ]
  },
  {
   "cell_type": "code",
   "execution_count": null,
   "metadata": {},
   "outputs": [],
   "source": [
    "fl_shipment_pop = pd.concat([pop_az, pop_fl, pop_la, pop_sc])\n",
    "assert fl_shipment_pop.shape[0] == pop_az.shape[0] + pop_fl.shape[0] + pop_la.shape[0] + pop_sc.shape[0]  # make sure the number of rows is the same\n",
    "\n",
    "# write the data to csv\n",
    "fl_shipment_pop.to_csv('../20_intermediate_files/fl_shipment_pop.csv', index=False)"
   ]
  },
  {
   "cell_type": "code",
   "execution_count": 77,
   "metadata": {},
   "outputs": [],
   "source": [
    "fl_death_pop = pd.concat([pop_co, pop_fl, pop_la, pop_nv])\n",
    "assert fl_death_pop.shape[0] == pop_co.shape[0] + pop_fl.shape[0] + pop_la.shape[0] + pop_nv.shape[0]  # make sure the number of rows is the same\n",
    "\n",
    "# write the data to csv\n",
    "fl_death_pop.to_csv('../20_intermediate_files/fl_death_pop.csv', index=False)"
   ]
  },
  {
   "cell_type": "code",
   "execution_count": null,
   "metadata": {},
   "outputs": [],
   "source": []
  },
  {
   "cell_type": "markdown",
   "metadata": {},
   "source": [
    "### Texas and its reference states"
   ]
  },
  {
   "cell_type": "markdown",
   "metadata": {},
   "source": [
    "NY, OR, TX, WI"
   ]
  },
  {
   "cell_type": "code",
   "execution_count": 79,
   "metadata": {},
   "outputs": [],
   "source": [
    "pop_ny = merge_pop_data('New York')\n",
    "pop_or = merge_pop_data('Oregon')\n",
    "pop_tx = merge_pop_data('Texas')\n",
    "pop_wi = merge_pop_data('Wisconsin')"
   ]
  },
  {
   "cell_type": "code",
   "execution_count": 80,
   "metadata": {},
   "outputs": [
    {
     "name": "stdout",
     "output_type": "stream",
     "text": [
      "Population dataframe has 0 missing values\n",
      "Population dataframe has 0 missing values\n",
      "Population dataframe has 0 missing values\n",
      "Population dataframe has 0 missing values\n"
     ]
    }
   ],
   "source": [
    "# check missing values\n",
    "for i in [pop_ny, pop_or, pop_tx, pop_wi]:\n",
    "    print(f\"Population dataframe has {i.isna().sum().sum()} missing values\")"
   ]
  },
  {
   "cell_type": "code",
   "execution_count": 81,
   "metadata": {},
   "outputs": [],
   "source": [
    "tx_death_pop = pd.concat([pop_ny, pop_or, pop_tx, pop_wi])\n",
    "assert tx_death_pop.shape[0] == pop_ny.shape[0] + pop_or.shape[0] + pop_tx.shape[0] + pop_wi.shape[0]  # make sure the number of rows is the same\n",
    "\n",
    "# write the data to csv\n",
    "tx_death_pop.to_csv('../20_intermediate_files/tx_death_pop.csv', index=False)"
   ]
  },
  {
   "cell_type": "code",
   "execution_count": null,
   "metadata": {},
   "outputs": [],
   "source": []
  },
  {
   "cell_type": "markdown",
   "metadata": {},
   "source": [
    "### Washington and its reference states"
   ]
  },
  {
   "cell_type": "markdown",
   "metadata": {},
   "source": [
    "AZ, CO, HI, NY, OK, OR, WA"
   ]
  },
  {
   "cell_type": "code",
   "execution_count": 82,
   "metadata": {},
   "outputs": [],
   "source": [
    "pop_az = merge_pop_data('Arizona')\n",
    "pop_co = merge_pop_data('Colorado')\n",
    "pop_hi = merge_pop_data('Hawaii')\n",
    "pop_ny = merge_pop_data('New York')\n",
    "pop_ok = merge_pop_data('Oklahoma')\n",
    "pop_or = merge_pop_data('Oregon')\n",
    "pop_wa = merge_pop_data('Washington')"
   ]
  },
  {
   "cell_type": "code",
   "execution_count": 83,
   "metadata": {},
   "outputs": [
    {
     "name": "stdout",
     "output_type": "stream",
     "text": [
      "Population dataframe has 0 missing values\n",
      "Population dataframe has 0 missing values\n",
      "Population dataframe has 0 missing values\n",
      "Population dataframe has 0 missing values\n",
      "Population dataframe has 0 missing values\n",
      "Population dataframe has 0 missing values\n",
      "Population dataframe has 0 missing values\n"
     ]
    }
   ],
   "source": [
    "# check missing values\n",
    "for i in [pop_az, pop_co, pop_hi, pop_ny, pop_ok, pop_or, pop_wa]:\n",
    "    print(f\"Population dataframe has {i.isna().sum().sum()} missing values\")"
   ]
  },
  {
   "cell_type": "code",
   "execution_count": 84,
   "metadata": {},
   "outputs": [],
   "source": [
    "wa_shipment_pop = pd.concat([pop_az, pop_co, pop_ny, pop_wa])\n",
    "assert wa_shipment_pop.shape[0] == pop_az.shape[0] + pop_co.shape[0] + pop_ny.shape[0] + pop_wa.shape[0]  # make sure the number of rows is the same\n",
    "\n",
    "# write the data to csv\n",
    "wa_shipment_pop.to_csv('../20_intermediate_files/wa_shipment_pop.csv', index=False)"
   ]
  },
  {
   "cell_type": "code",
   "execution_count": 85,
   "metadata": {},
   "outputs": [],
   "source": [
    "wa_death_pop = pd.concat([pop_hi, pop_ok, pop_or, pop_wa])\n",
    "assert wa_death_pop.shape[0] == pop_hi.shape[0] + pop_ok.shape[0] + pop_or.shape[0] + pop_wa.shape[0]  # make sure the number of rows is the same\n",
    "\n",
    "# write the data to csv\n",
    "wa_death_pop.to_csv('../20_intermediate_files/wa_death_pop.csv', index=False)"
   ]
  },
  {
   "cell_type": "code",
   "execution_count": null,
   "metadata": {},
   "outputs": [],
   "source": []
  }
 ],
 "metadata": {
  "kernelspec": {
   "display_name": "Python 3.10.4 64-bit",
   "language": "python",
   "name": "python3"
  },
  "language_info": {
   "codemirror_mode": {
    "name": "ipython",
    "version": 3
   },
   "file_extension": ".py",
   "mimetype": "text/x-python",
   "name": "python",
   "nbconvert_exporter": "python",
   "pygments_lexer": "ipython3",
   "version": "3.10.4"
  },
  "orig_nbformat": 4,
  "vscode": {
   "interpreter": {
    "hash": "3ad933181bd8a04b432d3370b9dc3b0662ad032c4dfaa4e4f1596c548f763858"
   }
  }
 },
 "nbformat": 4,
 "nbformat_minor": 2
}
