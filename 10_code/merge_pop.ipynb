{
 "cells": [
  {
   "cell_type": "code",
   "execution_count": 6,
   "metadata": {},
   "outputs": [],
   "source": [
    "import pandas as pd\n",
    "import numpy as np\n",
    "import warnings\n",
    "warnings.filterwarnings('ignore')"
   ]
  },
  {
   "cell_type": "code",
   "execution_count": 47,
   "metadata": {},
   "outputs": [],
   "source": [
    "def merge_pop_data(state_name):\n",
    "    '''\n",
    "    This function will merge the two population datasets together.\n",
    "    Input: state_name\n",
    "        state_name: the state name\n",
    "    return: a pandas dataframe with the merged population data\n",
    "    '''\n",
    "    # read in the data\n",
    "    all_2000_2009 = pd.read_csv('../00_source_data/US_Population/start_2000.csv', encoding='latin-1')\n",
    "    all_2010_2019 = pd.read_csv('../00_source_data/US_Population/start_2010.csv', encoding='latin-1')\n",
    "\n",
    "    # columns to keep\n",
    "    pop_col_2000_2009 = ['STNAME', 'CTYNAME', 'POPESTIMATE2000', 'POPESTIMATE2001', 'POPESTIMATE2002','POPESTIMATE2003', 'POPESTIMATE2004',\n",
    "                        'POPESTIMATE2005', 'POPESTIMATE2006','POPESTIMATE2007', 'POPESTIMATE2008', 'POPESTIMATE2009']\n",
    "    pop_col_2010_2019 = ['STNAME', 'CTYNAME', 'POPESTIMATE2010', 'POPESTIMATE2011', 'POPESTIMATE2012','POPESTIMATE2013', 'POPESTIMATE2014',\n",
    "                        'POPESTIMATE2015', 'POPESTIMATE2016','POPESTIMATE2017', 'POPESTIMATE2018', 'POPESTIMATE2019']\n",
    "\n",
    "    # filter the data\n",
    "    pop_2000_2009 = all_2000_2009[all_2000_2009['STNAME'] == state_name][pop_col_2000_2009]\n",
    "    pop_2010_2019 = all_2010_2019[all_2010_2019['STNAME'] == state_name][pop_col_2010_2019]\n",
    "\n",
    "    # rename the columns\n",
    "    pop_2000_2009.columns = ['STNAME', 'CTYNAME', '2000', '2001', '2002','2003', '2004','2005','2006', '2007', '2008', '2009']\n",
    "    pop_2010_2019.columns = ['STNAME', 'CTYNAME', '2010', '2011', '2012','2013', '2014','2015','2016', '2017', '2018', '2019']\n",
    "\n",
    "    assert pop_2000_2009.shape[0] == pop_2010_2019.shape[0]  # number of county should be the same\n",
    "    # merge two datasets\n",
    "    pop_2000_2019 = pd.merge(pop_2000_2009, pop_2010_2019, how = 'outer', on = ['STNAME', 'CTYNAME'])\n",
    "\n",
    "    # remove the aggregate population of the state\n",
    "    pop_2000_2019 = pop_2000_2019[pop_2000_2019['CTYNAME'] != state_name]\n",
    "\n",
    "    # convert columns to rows   \n",
    "    pop = pd.melt(pop_2000_2019, id_vars=['STNAME', 'CTYNAME'], var_name='YEAR', value_name='POPULATION')\n",
    "    assert pop.shape[0] == pop_2000_2019.shape[0] * (pop_2000_2019.shape[1]-2)  # number of rows should be the same\n",
    "    assert pop['YEAR'].nunique() == (pop_2000_2019.shape[1]-2)  # number of years should be the same\n",
    "    \n",
    "    return pop\n",
    "\n"
   ]
  },
  {
   "cell_type": "markdown",
   "metadata": {},
   "source": [
    "### Florida and its reference states"
   ]
  },
  {
   "cell_type": "markdown",
   "metadata": {},
   "source": [
    "AZ, CO, FL, LA, NV, SC"
   ]
  },
  {
   "cell_type": "code",
   "execution_count": 48,
   "metadata": {},
   "outputs": [],
   "source": [
    "pop_az = merge_pop_data('Arizona')\n",
    "pop_co = merge_pop_data('Colorado')\n",
    "pop_fl = merge_pop_data('Florida')\n",
    "pop_la = merge_pop_data('Louisiana')\n",
    "pop_nv = merge_pop_data('Nevada')\n",
    "pop_sc = merge_pop_data('South Carolina')"
   ]
  },
  {
   "cell_type": "code",
   "execution_count": 54,
   "metadata": {},
   "outputs": [],
   "source": [
    "fl_shipment_pop = pd.concat([pop_az, pop_fl, pop_la, pop_sc])\n",
    "assert fl_shipment_pop.shape[0] == pop_az.shape[0] + pop_fl.shape[0] + pop_la.shape[0] + pop_sc.shape[0]  # make sure the number of rows is the same\n",
    "\n",
    "# write the data to csv\n",
    "fl_shipment_pop.to_csv('../20_intermediate_files/fl_shipment_pop.csv', index=False)"
   ]
  },
  {
   "cell_type": "code",
   "execution_count": 53,
   "metadata": {},
   "outputs": [],
   "source": [
    "fl_death_pop = pd.concat([pop_co, pop_fl, pop_la, pop_nv])\n",
    "assert fl_death_pop.shape[0] == pop_co.shape[0] + pop_fl.shape[0] + pop_la.shape[0] + pop_nv.shape[0]  # make sure the number of rows is the same\n",
    "\n",
    "# write the data to csv\n",
    "fl_death_pop.to_csv('../20_intermediate_files/fl_death_pop.csv', index=False)"
   ]
  },
  {
   "cell_type": "code",
   "execution_count": null,
   "metadata": {},
   "outputs": [],
   "source": []
  },
  {
   "cell_type": "markdown",
   "metadata": {},
   "source": [
    "### Texas and its reference states"
   ]
  },
  {
   "cell_type": "code",
   "execution_count": null,
   "metadata": {},
   "outputs": [],
   "source": []
  },
  {
   "cell_type": "code",
   "execution_count": 20,
   "metadata": {},
   "outputs": [
    {
     "data": {
      "text/html": [
       "<div>\n",
       "<style scoped>\n",
       "    .dataframe tbody tr th:only-of-type {\n",
       "        vertical-align: middle;\n",
       "    }\n",
       "\n",
       "    .dataframe tbody tr th {\n",
       "        vertical-align: top;\n",
       "    }\n",
       "\n",
       "    .dataframe thead th {\n",
       "        text-align: right;\n",
       "    }\n",
       "</style>\n",
       "<table border=\"1\" class=\"dataframe\">\n",
       "  <thead>\n",
       "    <tr style=\"text-align: right;\">\n",
       "      <th></th>\n",
       "      <th>COUNTY</th>\n",
       "      <th>YEAR</th>\n",
       "      <th>POPULATION</th>\n",
       "      <th>STATE</th>\n",
       "    </tr>\n",
       "  </thead>\n",
       "  <tbody>\n",
       "    <tr>\n",
       "      <th>0</th>\n",
       "      <td>Apache County</td>\n",
       "      <td>2000</td>\n",
       "      <td>69,507</td>\n",
       "      <td>AZ</td>\n",
       "    </tr>\n",
       "    <tr>\n",
       "      <th>1</th>\n",
       "      <td>Cochise County</td>\n",
       "      <td>2000</td>\n",
       "      <td>118,132</td>\n",
       "      <td>AZ</td>\n",
       "    </tr>\n",
       "    <tr>\n",
       "      <th>2</th>\n",
       "      <td>Coconino County</td>\n",
       "      <td>2000</td>\n",
       "      <td>116,773</td>\n",
       "      <td>AZ</td>\n",
       "    </tr>\n",
       "    <tr>\n",
       "      <th>3</th>\n",
       "      <td>Gila County</td>\n",
       "      <td>2000</td>\n",
       "      <td>51,332</td>\n",
       "      <td>AZ</td>\n",
       "    </tr>\n",
       "    <tr>\n",
       "      <th>4</th>\n",
       "      <td>Graham County</td>\n",
       "      <td>2000</td>\n",
       "      <td>33,511</td>\n",
       "      <td>AZ</td>\n",
       "    </tr>\n",
       "    <tr>\n",
       "      <th>...</th>\n",
       "      <td>...</td>\n",
       "      <td>...</td>\n",
       "      <td>...</td>\n",
       "      <td>...</td>\n",
       "    </tr>\n",
       "    <tr>\n",
       "      <th>295</th>\n",
       "      <td>Pima County</td>\n",
       "      <td>2019</td>\n",
       "      <td>1,047,279</td>\n",
       "      <td>AZ</td>\n",
       "    </tr>\n",
       "    <tr>\n",
       "      <th>296</th>\n",
       "      <td>Pinal County</td>\n",
       "      <td>2019</td>\n",
       "      <td>462,789</td>\n",
       "      <td>AZ</td>\n",
       "    </tr>\n",
       "    <tr>\n",
       "      <th>297</th>\n",
       "      <td>Santa Cruz County</td>\n",
       "      <td>2019</td>\n",
       "      <td>46,498</td>\n",
       "      <td>AZ</td>\n",
       "    </tr>\n",
       "    <tr>\n",
       "      <th>298</th>\n",
       "      <td>Yavapai County</td>\n",
       "      <td>2019</td>\n",
       "      <td>235,099</td>\n",
       "      <td>AZ</td>\n",
       "    </tr>\n",
       "    <tr>\n",
       "      <th>299</th>\n",
       "      <td>Yuma County</td>\n",
       "      <td>2019</td>\n",
       "      <td>213,787</td>\n",
       "      <td>AZ</td>\n",
       "    </tr>\n",
       "  </tbody>\n",
       "</table>\n",
       "<p>300 rows × 4 columns</p>\n",
       "</div>"
      ],
      "text/plain": [
       "                COUNTY  YEAR POPULATION STATE\n",
       "0        Apache County  2000     69,507    AZ\n",
       "1       Cochise County  2000    118,132    AZ\n",
       "2      Coconino County  2000    116,773    AZ\n",
       "3          Gila County  2000     51,332    AZ\n",
       "4        Graham County  2000     33,511    AZ\n",
       "..                 ...   ...        ...   ...\n",
       "295        Pima County  2019  1,047,279    AZ\n",
       "296       Pinal County  2019    462,789    AZ\n",
       "297  Santa Cruz County  2019     46,498    AZ\n",
       "298     Yavapai County  2019    235,099    AZ\n",
       "299        Yuma County  2019    213,787    AZ\n",
       "\n",
       "[300 rows x 4 columns]"
      ]
     },
     "execution_count": 20,
     "metadata": {},
     "output_type": "execute_result"
    }
   ],
   "source": []
  },
  {
   "cell_type": "code",
   "execution_count": null,
   "metadata": {},
   "outputs": [],
   "source": []
  }
 ],
 "metadata": {
  "kernelspec": {
   "display_name": "Python 3.10.4 64-bit",
   "language": "python",
   "name": "python3"
  },
  "language_info": {
   "codemirror_mode": {
    "name": "ipython",
    "version": 3
   },
   "file_extension": ".py",
   "mimetype": "text/x-python",
   "name": "python",
   "nbconvert_exporter": "python",
   "pygments_lexer": "ipython3",
   "version": "3.10.4"
  },
  "orig_nbformat": 4,
  "vscode": {
   "interpreter": {
    "hash": "3ad933181bd8a04b432d3370b9dc3b0662ad032c4dfaa4e4f1596c548f763858"
   }
  }
 },
 "nbformat": 4,
 "nbformat_minor": 2
}
